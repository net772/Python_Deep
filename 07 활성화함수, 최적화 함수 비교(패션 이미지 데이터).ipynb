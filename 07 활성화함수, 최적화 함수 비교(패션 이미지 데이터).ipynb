{
 "cells": [
  {
   "cell_type": "markdown",
   "id": "b0c46a1b",
   "metadata": {},
   "source": [
    "### 한번 실습했던 패션데이터를 가지고 활성화함수, 최적화 함수를 변화시켜가면서 결과를 확인해 보자!"
   ]
  },
  {
   "cell_type": "code",
   "execution_count": 97,
   "id": "ecd9ecb3",
   "metadata": {},
   "outputs": [],
   "source": [
    "import numpy as np\n",
    "import pandas as pd\n",
    "import matplotlib.pyplot as plt\n",
    "from tensorflow.keras.datasets import fashion_mnist"
   ]
  },
  {
   "cell_type": "code",
   "execution_count": 98,
   "id": "5dd330e9",
   "metadata": {
    "scrolled": true
   },
   "outputs": [
    {
     "data": {
      "text/plain": [
       "((array([[[0, 0, 0, ..., 0, 0, 0],\n",
       "          [0, 0, 0, ..., 0, 0, 0],\n",
       "          [0, 0, 0, ..., 0, 0, 0],\n",
       "          ...,\n",
       "          [0, 0, 0, ..., 0, 0, 0],\n",
       "          [0, 0, 0, ..., 0, 0, 0],\n",
       "          [0, 0, 0, ..., 0, 0, 0]],\n",
       "  \n",
       "         [[0, 0, 0, ..., 0, 0, 0],\n",
       "          [0, 0, 0, ..., 0, 0, 0],\n",
       "          [0, 0, 0, ..., 0, 0, 0],\n",
       "          ...,\n",
       "          [0, 0, 0, ..., 0, 0, 0],\n",
       "          [0, 0, 0, ..., 0, 0, 0],\n",
       "          [0, 0, 0, ..., 0, 0, 0]],\n",
       "  \n",
       "         [[0, 0, 0, ..., 0, 0, 0],\n",
       "          [0, 0, 0, ..., 0, 0, 0],\n",
       "          [0, 0, 0, ..., 0, 0, 0],\n",
       "          ...,\n",
       "          [0, 0, 0, ..., 0, 0, 0],\n",
       "          [0, 0, 0, ..., 0, 0, 0],\n",
       "          [0, 0, 0, ..., 0, 0, 0]],\n",
       "  \n",
       "         ...,\n",
       "  \n",
       "         [[0, 0, 0, ..., 0, 0, 0],\n",
       "          [0, 0, 0, ..., 0, 0, 0],\n",
       "          [0, 0, 0, ..., 0, 0, 0],\n",
       "          ...,\n",
       "          [0, 0, 0, ..., 0, 0, 0],\n",
       "          [0, 0, 0, ..., 0, 0, 0],\n",
       "          [0, 0, 0, ..., 0, 0, 0]],\n",
       "  \n",
       "         [[0, 0, 0, ..., 0, 0, 0],\n",
       "          [0, 0, 0, ..., 0, 0, 0],\n",
       "          [0, 0, 0, ..., 0, 0, 0],\n",
       "          ...,\n",
       "          [0, 0, 0, ..., 0, 0, 0],\n",
       "          [0, 0, 0, ..., 0, 0, 0],\n",
       "          [0, 0, 0, ..., 0, 0, 0]],\n",
       "  \n",
       "         [[0, 0, 0, ..., 0, 0, 0],\n",
       "          [0, 0, 0, ..., 0, 0, 0],\n",
       "          [0, 0, 0, ..., 0, 0, 0],\n",
       "          ...,\n",
       "          [0, 0, 0, ..., 0, 0, 0],\n",
       "          [0, 0, 0, ..., 0, 0, 0],\n",
       "          [0, 0, 0, ..., 0, 0, 0]]], dtype=uint8),\n",
       "  array([9, 0, 0, ..., 3, 0, 5], dtype=uint8)),\n",
       " (array([[[0, 0, 0, ..., 0, 0, 0],\n",
       "          [0, 0, 0, ..., 0, 0, 0],\n",
       "          [0, 0, 0, ..., 0, 0, 0],\n",
       "          ...,\n",
       "          [0, 0, 0, ..., 0, 0, 0],\n",
       "          [0, 0, 0, ..., 0, 0, 0],\n",
       "          [0, 0, 0, ..., 0, 0, 0]],\n",
       "  \n",
       "         [[0, 0, 0, ..., 0, 0, 0],\n",
       "          [0, 0, 0, ..., 0, 0, 0],\n",
       "          [0, 0, 0, ..., 0, 0, 0],\n",
       "          ...,\n",
       "          [0, 0, 0, ..., 0, 0, 0],\n",
       "          [0, 0, 0, ..., 0, 0, 0],\n",
       "          [0, 0, 0, ..., 0, 0, 0]],\n",
       "  \n",
       "         [[0, 0, 0, ..., 0, 0, 0],\n",
       "          [0, 0, 0, ..., 0, 0, 0],\n",
       "          [0, 0, 0, ..., 0, 0, 0],\n",
       "          ...,\n",
       "          [0, 0, 0, ..., 0, 0, 0],\n",
       "          [0, 0, 0, ..., 0, 0, 0],\n",
       "          [0, 0, 0, ..., 0, 0, 0]],\n",
       "  \n",
       "         ...,\n",
       "  \n",
       "         [[0, 0, 0, ..., 0, 0, 0],\n",
       "          [0, 0, 0, ..., 0, 0, 0],\n",
       "          [0, 0, 0, ..., 0, 0, 0],\n",
       "          ...,\n",
       "          [0, 0, 0, ..., 0, 0, 0],\n",
       "          [0, 0, 0, ..., 0, 0, 0],\n",
       "          [0, 0, 0, ..., 0, 0, 0]],\n",
       "  \n",
       "         [[0, 0, 0, ..., 0, 0, 0],\n",
       "          [0, 0, 0, ..., 0, 0, 0],\n",
       "          [0, 0, 0, ..., 0, 0, 0],\n",
       "          ...,\n",
       "          [0, 0, 0, ..., 0, 0, 0],\n",
       "          [0, 0, 0, ..., 0, 0, 0],\n",
       "          [0, 0, 0, ..., 0, 0, 0]],\n",
       "  \n",
       "         [[0, 0, 0, ..., 0, 0, 0],\n",
       "          [0, 0, 0, ..., 0, 0, 0],\n",
       "          [0, 0, 0, ..., 0, 0, 0],\n",
       "          ...,\n",
       "          [0, 0, 0, ..., 0, 0, 0],\n",
       "          [0, 0, 0, ..., 0, 0, 0],\n",
       "          [0, 0, 0, ..., 0, 0, 0]]], dtype=uint8),\n",
       "  array([9, 2, 1, ..., 8, 1, 5], dtype=uint8)))"
      ]
     },
     "execution_count": 98,
     "metadata": {},
     "output_type": "execute_result"
    }
   ],
   "source": [
    "data = fashion_mnist.load_data()\n",
    "data"
   ]
  },
  {
   "cell_type": "code",
   "execution_count": 99,
   "id": "43f8989f",
   "metadata": {},
   "outputs": [],
   "source": [
    "X_train = data[0][0]\n",
    "y_train = data[0][1]\n",
    "X_test = data[1][0]\n",
    "y_test = data[1][1]"
   ]
  },
  {
   "cell_type": "code",
   "execution_count": 100,
   "id": "7de31960",
   "metadata": {},
   "outputs": [
    {
     "data": {
      "text/plain": [
       "((60000, 28, 28), (60000,), (10000, 28, 28), (10000,))"
      ]
     },
     "execution_count": 100,
     "metadata": {},
     "output_type": "execute_result"
    }
   ],
   "source": [
    "X_train.shape,y_train.shape,X_test.shape,y_test.shape"
   ]
  },
  {
   "cell_type": "markdown",
   "id": "77bf0fcc",
   "metadata": {},
   "source": [
    "#### 정답 데이터를 원핫인코딩"
   ]
  },
  {
   "cell_type": "code",
   "execution_count": 101,
   "id": "14769d6e",
   "metadata": {},
   "outputs": [],
   "source": [
    "y_train_one_hot = pd.get_dummies(y_train)\n",
    "y_test_one_hot = pd.get_dummies(y_test)"
   ]
  },
  {
   "cell_type": "code",
   "execution_count": 102,
   "id": "3c232dfd",
   "metadata": {},
   "outputs": [
    {
     "data": {
      "text/html": [
       "<div>\n",
       "<style scoped>\n",
       "    .dataframe tbody tr th:only-of-type {\n",
       "        vertical-align: middle;\n",
       "    }\n",
       "\n",
       "    .dataframe tbody tr th {\n",
       "        vertical-align: top;\n",
       "    }\n",
       "\n",
       "    .dataframe thead th {\n",
       "        text-align: right;\n",
       "    }\n",
       "</style>\n",
       "<table border=\"1\" class=\"dataframe\">\n",
       "  <thead>\n",
       "    <tr style=\"text-align: right;\">\n",
       "      <th></th>\n",
       "      <th>0</th>\n",
       "      <th>1</th>\n",
       "      <th>2</th>\n",
       "      <th>3</th>\n",
       "      <th>4</th>\n",
       "      <th>5</th>\n",
       "      <th>6</th>\n",
       "      <th>7</th>\n",
       "      <th>8</th>\n",
       "      <th>9</th>\n",
       "    </tr>\n",
       "  </thead>\n",
       "  <tbody>\n",
       "    <tr>\n",
       "      <th>0</th>\n",
       "      <td>0</td>\n",
       "      <td>0</td>\n",
       "      <td>0</td>\n",
       "      <td>0</td>\n",
       "      <td>0</td>\n",
       "      <td>0</td>\n",
       "      <td>0</td>\n",
       "      <td>0</td>\n",
       "      <td>0</td>\n",
       "      <td>1</td>\n",
       "    </tr>\n",
       "    <tr>\n",
       "      <th>1</th>\n",
       "      <td>1</td>\n",
       "      <td>0</td>\n",
       "      <td>0</td>\n",
       "      <td>0</td>\n",
       "      <td>0</td>\n",
       "      <td>0</td>\n",
       "      <td>0</td>\n",
       "      <td>0</td>\n",
       "      <td>0</td>\n",
       "      <td>0</td>\n",
       "    </tr>\n",
       "    <tr>\n",
       "      <th>2</th>\n",
       "      <td>1</td>\n",
       "      <td>0</td>\n",
       "      <td>0</td>\n",
       "      <td>0</td>\n",
       "      <td>0</td>\n",
       "      <td>0</td>\n",
       "      <td>0</td>\n",
       "      <td>0</td>\n",
       "      <td>0</td>\n",
       "      <td>0</td>\n",
       "    </tr>\n",
       "    <tr>\n",
       "      <th>3</th>\n",
       "      <td>0</td>\n",
       "      <td>0</td>\n",
       "      <td>0</td>\n",
       "      <td>1</td>\n",
       "      <td>0</td>\n",
       "      <td>0</td>\n",
       "      <td>0</td>\n",
       "      <td>0</td>\n",
       "      <td>0</td>\n",
       "      <td>0</td>\n",
       "    </tr>\n",
       "    <tr>\n",
       "      <th>4</th>\n",
       "      <td>1</td>\n",
       "      <td>0</td>\n",
       "      <td>0</td>\n",
       "      <td>0</td>\n",
       "      <td>0</td>\n",
       "      <td>0</td>\n",
       "      <td>0</td>\n",
       "      <td>0</td>\n",
       "      <td>0</td>\n",
       "      <td>0</td>\n",
       "    </tr>\n",
       "    <tr>\n",
       "      <th>...</th>\n",
       "      <td>...</td>\n",
       "      <td>...</td>\n",
       "      <td>...</td>\n",
       "      <td>...</td>\n",
       "      <td>...</td>\n",
       "      <td>...</td>\n",
       "      <td>...</td>\n",
       "      <td>...</td>\n",
       "      <td>...</td>\n",
       "      <td>...</td>\n",
       "    </tr>\n",
       "    <tr>\n",
       "      <th>59995</th>\n",
       "      <td>0</td>\n",
       "      <td>0</td>\n",
       "      <td>0</td>\n",
       "      <td>0</td>\n",
       "      <td>0</td>\n",
       "      <td>1</td>\n",
       "      <td>0</td>\n",
       "      <td>0</td>\n",
       "      <td>0</td>\n",
       "      <td>0</td>\n",
       "    </tr>\n",
       "    <tr>\n",
       "      <th>59996</th>\n",
       "      <td>0</td>\n",
       "      <td>1</td>\n",
       "      <td>0</td>\n",
       "      <td>0</td>\n",
       "      <td>0</td>\n",
       "      <td>0</td>\n",
       "      <td>0</td>\n",
       "      <td>0</td>\n",
       "      <td>0</td>\n",
       "      <td>0</td>\n",
       "    </tr>\n",
       "    <tr>\n",
       "      <th>59997</th>\n",
       "      <td>0</td>\n",
       "      <td>0</td>\n",
       "      <td>0</td>\n",
       "      <td>1</td>\n",
       "      <td>0</td>\n",
       "      <td>0</td>\n",
       "      <td>0</td>\n",
       "      <td>0</td>\n",
       "      <td>0</td>\n",
       "      <td>0</td>\n",
       "    </tr>\n",
       "    <tr>\n",
       "      <th>59998</th>\n",
       "      <td>1</td>\n",
       "      <td>0</td>\n",
       "      <td>0</td>\n",
       "      <td>0</td>\n",
       "      <td>0</td>\n",
       "      <td>0</td>\n",
       "      <td>0</td>\n",
       "      <td>0</td>\n",
       "      <td>0</td>\n",
       "      <td>0</td>\n",
       "    </tr>\n",
       "    <tr>\n",
       "      <th>59999</th>\n",
       "      <td>0</td>\n",
       "      <td>0</td>\n",
       "      <td>0</td>\n",
       "      <td>0</td>\n",
       "      <td>0</td>\n",
       "      <td>1</td>\n",
       "      <td>0</td>\n",
       "      <td>0</td>\n",
       "      <td>0</td>\n",
       "      <td>0</td>\n",
       "    </tr>\n",
       "  </tbody>\n",
       "</table>\n",
       "<p>60000 rows × 10 columns</p>\n",
       "</div>"
      ],
      "text/plain": [
       "       0  1  2  3  4  5  6  7  8  9\n",
       "0      0  0  0  0  0  0  0  0  0  1\n",
       "1      1  0  0  0  0  0  0  0  0  0\n",
       "2      1  0  0  0  0  0  0  0  0  0\n",
       "3      0  0  0  1  0  0  0  0  0  0\n",
       "4      1  0  0  0  0  0  0  0  0  0\n",
       "...   .. .. .. .. .. .. .. .. .. ..\n",
       "59995  0  0  0  0  0  1  0  0  0  0\n",
       "59996  0  1  0  0  0  0  0  0  0  0\n",
       "59997  0  0  0  1  0  0  0  0  0  0\n",
       "59998  1  0  0  0  0  0  0  0  0  0\n",
       "59999  0  0  0  0  0  1  0  0  0  0\n",
       "\n",
       "[60000 rows x 10 columns]"
      ]
     },
     "execution_count": 102,
     "metadata": {},
     "output_type": "execute_result"
    }
   ],
   "source": [
    "y_train_one_hot"
   ]
  },
  {
   "cell_type": "markdown",
   "id": "31701f01",
   "metadata": {},
   "source": [
    "###  활성화 함수, 최적화 함수 별 비교\n",
    "    - 1. 중간층 활성화 함수 : sigmoid, 최적화 함수 : SGD\n",
    "    - 2. 중간층 활성화 함수 : relu, 최적화 함수 :SGD\n",
    "    - 3. 중간층 활성화 함수 : relu, 최적화 함수 : Adam\n",
    "- 각각의 신경망을 설계하고 결과를 비교해보자!"
   ]
  },
  {
   "cell_type": "code",
   "execution_count": 103,
   "id": "c5e91c6c",
   "metadata": {},
   "outputs": [],
   "source": [
    "# 최적화 함수 하이퍼 파라미터 변경을 위한 임포트 (이렇게 임포트해서 쓰게되면 디폴트 값이 아닌 세세한 파라미터 조정이 가능해짐!)\n",
    "from tensorflow.keras.optimizers import SGD, Adam"
   ]
  },
  {
   "cell_type": "markdown",
   "id": "f8199e17",
   "metadata": {},
   "source": [
    "#### 신경망 설계(1.중간층 활성화 함수 : sigmoid, 최적화 함수 : SGD)"
   ]
  },
  {
   "cell_type": "code",
   "execution_count": 104,
   "id": "aa6ae6fe",
   "metadata": {},
   "outputs": [],
   "source": [
    "from tensorflow.keras import Sequential\n",
    "from tensorflow.keras.layers import Dense, Flatten\n",
    "# Flatten : 데이터를 1차원으로 자동적으로 펴주는 역할을 하는 모듈\n"
   ]
  },
  {
   "cell_type": "code",
   "execution_count": 105,
   "id": "703084fc",
   "metadata": {},
   "outputs": [
    {
     "name": "stdout",
     "output_type": "stream",
     "text": [
      "Model: \"sequential_7\"\n",
      "_________________________________________________________________\n",
      "Layer (type)                 Output Shape              Param #   \n",
      "=================================================================\n",
      "flatten_7 (Flatten)          (None, 784)               0         \n",
      "_________________________________________________________________\n",
      "dense_35 (Dense)             (None, 450)               353250    \n",
      "_________________________________________________________________\n",
      "dense_36 (Dense)             (None, 200)               90200     \n",
      "_________________________________________________________________\n",
      "dense_37 (Dense)             (None, 100)               20100     \n",
      "_________________________________________________________________\n",
      "dense_38 (Dense)             (None, 50)                5050      \n",
      "_________________________________________________________________\n",
      "dense_39 (Dense)             (None, 10)                510       \n",
      "=================================================================\n",
      "Total params: 469,110\n",
      "Trainable params: 469,110\n",
      "Non-trainable params: 0\n",
      "_________________________________________________________________\n"
     ]
    }
   ],
   "source": [
    "model = Sequential()\n",
    "\n",
    "#Flatten 명령을 통해서 한번에 바로 이미지 데이터를 1차원으로 펴줌\n",
    "model.add(Flatten(input_shape=(28,28)))\n",
    "\n",
    "# 중간층\n",
    "model.add(Dense(450, activation=\"sigmoid\")) # 하나의 층\n",
    "model.add(Dense(200, activation=\"sigmoid\")) # 하나의 층\n",
    "model.add(Dense(100, activation=\"sigmoid\")) # 하나의 층\n",
    "model.add(Dense(50, activation=\"sigmoid\")) # 하나의 층\n",
    "\n",
    "model.add(Dense(10, activation=\"softmax\")) \n",
    "model.summary()"
   ]
  },
  {
   "cell_type": "code",
   "execution_count": 106,
   "id": "e3340253",
   "metadata": {},
   "outputs": [],
   "source": [
    "# 2. 학습 / 평가 방법 설정\n",
    "# binary_crossentropy : 2진분류에 사용하는 손실함수(비용함수)\n",
    "# categorical_crossentropy : 다중분류에 사용하는 손실함수\n",
    "# -> 오차의 평균을 구하는것은 mse와 같지만 0~1사이 값으로 변환 후 평균오차를 구함\n",
    "# \n",
    "model.compile(loss=\"categorical_crossentropy\",  \n",
    "              optimizer = \"SGD\",   # 최적화 함수 : 확률적경사하강법 사용  // SGD도 이외에도 Adam도 있음 \n",
    "              metrics=[\"acc\"]       # metrics : 평가방법을 설정 (정확도 체크)\n",
    "                                    # 분류 문제이기 때문에 정확도를 확인\n",
    "             )\n",
    "\n",
    "# 회귀는 오차만 확인하면 되지만 분류는 정확도까지 확인해줘야 함!!!!!"
   ]
  },
  {
   "cell_type": "code",
   "execution_count": 107,
   "id": "95a92fc3",
   "metadata": {},
   "outputs": [
    {
     "data": {
      "text/plain": [
       "(60000, 28, 28)"
      ]
     },
     "execution_count": 107,
     "metadata": {},
     "output_type": "execute_result"
    }
   ],
   "source": [
    "X_train.shape"
   ]
  },
  {
   "cell_type": "code",
   "execution_count": 108,
   "id": "31519b04",
   "metadata": {},
   "outputs": [
    {
     "data": {
      "text/plain": [
       "(60000,)"
      ]
     },
     "execution_count": 108,
     "metadata": {},
     "output_type": "execute_result"
    }
   ],
   "source": [
    "y_train.shape"
   ]
  },
  {
   "cell_type": "code",
   "execution_count": 109,
   "id": "bd3ad05d",
   "metadata": {
    "scrolled": true
   },
   "outputs": [
    {
     "name": "stdout",
     "output_type": "stream",
     "text": [
      "Train on 42000 samples, validate on 18000 samples\n",
      "Epoch 1/50\n",
      "42000/42000 [==============================] - 4s 89us/sample - loss: 2.2847 - acc: 0.1955 - val_loss: 2.2515 - val_acc: 0.3267\n",
      "Epoch 2/50\n",
      "42000/42000 [==============================] - 3s 79us/sample - loss: 2.1722 - acc: 0.3666 - val_loss: 2.0192 - val_acc: 0.2909\n",
      "Epoch 3/50\n",
      "42000/42000 [==============================] - 4s 84us/sample - loss: 1.7761 - acc: 0.4105 - val_loss: 1.5814 - val_acc: 0.4677\n",
      "Epoch 4/50\n",
      "42000/42000 [==============================] - 3s 78us/sample - loss: 1.4670 - acc: 0.4801 - val_loss: 1.3599 - val_acc: 0.5299\n",
      "Epoch 5/50\n",
      "42000/42000 [==============================] - 4s 91us/sample - loss: 1.2709 - acc: 0.5453 - val_loss: 1.1789 - val_acc: 0.5593\n",
      "Epoch 6/50\n",
      "42000/42000 [==============================] - 3s 81us/sample - loss: 1.1078 - acc: 0.5890 - val_loss: 1.0384 - val_acc: 0.6228\n",
      "Epoch 7/50\n",
      "42000/42000 [==============================] - 3s 72us/sample - loss: 0.9862 - acc: 0.6350 - val_loss: 0.9446 - val_acc: 0.6519\n",
      "Epoch 8/50\n",
      "42000/42000 [==============================] - 3s 73us/sample - loss: 0.9111 - acc: 0.6632 - val_loss: 0.8847 - val_acc: 0.6772\n",
      "Epoch 9/50\n",
      "42000/42000 [==============================] - 3s 72us/sample - loss: 0.8615 - acc: 0.6844 - val_loss: 0.8408 - val_acc: 0.6922\n",
      "Epoch 10/50\n",
      "42000/42000 [==============================] - 3s 73us/sample - loss: 0.8230 - acc: 0.6995 - val_loss: 0.8066 - val_acc: 0.6993\n",
      "Epoch 11/50\n",
      "42000/42000 [==============================] - 3s 72us/sample - loss: 0.7885 - acc: 0.7163 - val_loss: 0.7686 - val_acc: 0.6992\n",
      "Epoch 12/50\n",
      "42000/42000 [==============================] - 3s 74us/sample - loss: 0.7586 - acc: 0.7287 - val_loss: 0.7712 - val_acc: 0.7211\n",
      "Epoch 13/50\n",
      "42000/42000 [==============================] - 3s 73us/sample - loss: 0.7468 - acc: 0.7330 - val_loss: 0.7425 - val_acc: 0.7324\n",
      "Epoch 14/50\n",
      "42000/42000 [==============================] - 3s 73us/sample - loss: 0.7315 - acc: 0.7406 - val_loss: 0.7302 - val_acc: 0.7323\n",
      "Epoch 15/50\n",
      "42000/42000 [==============================] - 3s 73us/sample - loss: 0.7194 - acc: 0.7438 - val_loss: 0.7258 - val_acc: 0.7520\n",
      "Epoch 16/50\n",
      "42000/42000 [==============================] - 3s 72us/sample - loss: 0.7130 - acc: 0.7481 - val_loss: 0.7051 - val_acc: 0.7471\n",
      "Epoch 17/50\n",
      "42000/42000 [==============================] - 3s 74us/sample - loss: 0.6998 - acc: 0.7529 - val_loss: 0.7070 - val_acc: 0.7434\n",
      "Epoch 18/50\n",
      "42000/42000 [==============================] - 3s 72us/sample - loss: 0.6843 - acc: 0.7553 - val_loss: 0.7096 - val_acc: 0.7454\n",
      "Epoch 19/50\n",
      "42000/42000 [==============================] - 3s 71us/sample - loss: 0.6879 - acc: 0.7555 - val_loss: 0.6914 - val_acc: 0.7503\n",
      "Epoch 20/50\n",
      "42000/42000 [==============================] - 3s 71us/sample - loss: 0.6833 - acc: 0.7565 - val_loss: 0.6978 - val_acc: 0.7511\n",
      "Epoch 21/50\n",
      "42000/42000 [==============================] - 3s 71us/sample - loss: 0.6838 - acc: 0.7520 - val_loss: 0.6932 - val_acc: 0.7403\n",
      "Epoch 22/50\n",
      "42000/42000 [==============================] - 3s 74us/sample - loss: 0.6795 - acc: 0.7489 - val_loss: 0.6724 - val_acc: 0.7436\n",
      "Epoch 23/50\n",
      "42000/42000 [==============================] - 3s 71us/sample - loss: 0.6741 - acc: 0.7489 - val_loss: 0.7253 - val_acc: 0.7416\n",
      "Epoch 24/50\n",
      "42000/42000 [==============================] - 3s 72us/sample - loss: 0.6822 - acc: 0.7487 - val_loss: 0.7222 - val_acc: 0.7447\n",
      "Epoch 25/50\n",
      "42000/42000 [==============================] - 3s 72us/sample - loss: 0.6872 - acc: 0.7452 - val_loss: 0.6620 - val_acc: 0.7453\n",
      "Epoch 26/50\n",
      "42000/42000 [==============================] - 3s 72us/sample - loss: 0.6782 - acc: 0.7451 - val_loss: 0.6729 - val_acc: 0.7495\n",
      "Epoch 27/50\n",
      "42000/42000 [==============================] - 3s 72us/sample - loss: 0.6693 - acc: 0.7501 - val_loss: 0.6596 - val_acc: 0.7603\n",
      "Epoch 28/50\n",
      "42000/42000 [==============================] - 3s 71us/sample - loss: 0.6659 - acc: 0.7505 - val_loss: 0.6673 - val_acc: 0.7586\n",
      "Epoch 29/50\n",
      "42000/42000 [==============================] - 3s 71us/sample - loss: 0.7058 - acc: 0.7336 - val_loss: 0.7230 - val_acc: 0.7169\n",
      "Epoch 30/50\n",
      "42000/42000 [==============================] - 3s 76us/sample - loss: 0.6993 - acc: 0.7390 - val_loss: 0.7185 - val_acc: 0.7284\n",
      "Epoch 31/50\n",
      "42000/42000 [==============================] - 3s 73us/sample - loss: 0.7141 - acc: 0.7337 - val_loss: 0.7098 - val_acc: 0.7432\n",
      "Epoch 32/50\n",
      "42000/42000 [==============================] - 3s 73us/sample - loss: 0.7190 - acc: 0.7293 - val_loss: 0.6926 - val_acc: 0.7413\n",
      "Epoch 33/50\n",
      "42000/42000 [==============================] - 3s 74us/sample - loss: 0.7010 - acc: 0.7317 - val_loss: 0.7067 - val_acc: 0.7297\n",
      "Epoch 34/50\n",
      "42000/42000 [==============================] - 3s 71us/sample - loss: 0.7143 - acc: 0.7328 - val_loss: 0.7034 - val_acc: 0.7283\n",
      "Epoch 35/50\n",
      "42000/42000 [==============================] - 3s 74us/sample - loss: 0.7159 - acc: 0.7302 - val_loss: 0.7085 - val_acc: 0.7431\n",
      "Epoch 36/50\n",
      "42000/42000 [==============================] - 3s 75us/sample - loss: 0.7121 - acc: 0.7305 - val_loss: 0.7417 - val_acc: 0.7254\n",
      "Epoch 37/50\n",
      "42000/42000 [==============================] - 3s 73us/sample - loss: 0.7029 - acc: 0.7351 - val_loss: 0.7382 - val_acc: 0.7086\n",
      "Epoch 38/50\n",
      "42000/42000 [==============================] - 3s 75us/sample - loss: 0.7059 - acc: 0.7305 - val_loss: 0.7194 - val_acc: 0.7312\n",
      "Epoch 39/50\n",
      "42000/42000 [==============================] - 3s 71us/sample - loss: 0.6893 - acc: 0.7405 - val_loss: 0.7269 - val_acc: 0.7439\n",
      "Epoch 40/50\n",
      "42000/42000 [==============================] - 3s 76us/sample - loss: 0.6911 - acc: 0.7394 - val_loss: 0.6999 - val_acc: 0.7261\n",
      "Epoch 41/50\n",
      "42000/42000 [==============================] - 3s 72us/sample - loss: 0.7053 - acc: 0.7281 - val_loss: 0.7165 - val_acc: 0.7242\n",
      "Epoch 42/50\n",
      "42000/42000 [==============================] - 3s 72us/sample - loss: 0.6982 - acc: 0.7248 - val_loss: 0.7160 - val_acc: 0.6886\n",
      "Epoch 43/50\n",
      "42000/42000 [==============================] - 3s 76us/sample - loss: 0.6905 - acc: 0.7261 - val_loss: 0.6854 - val_acc: 0.7393\n",
      "Epoch 44/50\n",
      "42000/42000 [==============================] - 3s 80us/sample - loss: 0.7127 - acc: 0.7245 - val_loss: 0.7135 - val_acc: 0.7405\n",
      "Epoch 45/50\n",
      "42000/42000 [==============================] - 4s 85us/sample - loss: 0.7148 - acc: 0.7286 - val_loss: 0.7043 - val_acc: 0.7379\n",
      "Epoch 46/50\n",
      "42000/42000 [==============================] - 4s 85us/sample - loss: 0.6923 - acc: 0.7313 - val_loss: 0.7178 - val_acc: 0.7333\n",
      "Epoch 47/50\n",
      "42000/42000 [==============================] - 3s 82us/sample - loss: 0.6981 - acc: 0.7270 - val_loss: 0.6973 - val_acc: 0.7326\n",
      "Epoch 48/50\n",
      "42000/42000 [==============================] - 4s 85us/sample - loss: 0.6856 - acc: 0.7359 - val_loss: 0.6962 - val_acc: 0.7422\n",
      "Epoch 49/50\n",
      "42000/42000 [==============================] - 3s 80us/sample - loss: 0.7065 - acc: 0.7319 - val_loss: 0.8291 - val_acc: 0.6838\n",
      "Epoch 50/50\n",
      "42000/42000 [==============================] - 3s 80us/sample - loss: 0.6781 - acc: 0.7419 - val_loss: 0.7233 - val_acc: 0.7166\n"
     ]
    }
   ],
   "source": [
    "h1 = model.fit(X_train,y_train_one_hot,\n",
    "               validation_split=0.3,\n",
    "              epochs=50,  # epochs : 학습 횟수를 설정\n",
    "              batch_size=32) # 한번에 데이터를 학습시키는 최소 단위 // 높을 수록 러프하게 학습되고 낮을수고 자세히 학습\n",
    "# verbose : 학습 결과의 출력 형태를 설정하는 명령(0: 출력x, 1:bar형태(디폴트, 2 : ))"
   ]
  },
  {
   "cell_type": "code",
   "execution_count": 110,
   "id": "75449071",
   "metadata": {},
   "outputs": [
    {
     "data": {
      "image/png": "[encoded data removed]",
      "text/plain": [
       "<Figure size 1080x360 with 1 Axes>"
      ]
     },
     "metadata": {
      "needs_background": "light"
     },
     "output_type": "display_data"
    }
   ],
   "source": [
    "plt.figure(figsize=(15,5))\n",
    "\n",
    "plt.plot(range(1,51),\n",
    "        h1.history['acc'],\n",
    "        label = 'acc'\n",
    "        )\n",
    "\n",
    "plt.legend()\n",
    "plt.show()"
   ]
  },
  {
   "cell_type": "code",
   "execution_count": 111,
   "id": "bee6af57",
   "metadata": {},
   "outputs": [
    {
     "data": {
      "image/png": "[encoded data removed]",
      "text/plain": [
       "<Figure size 1080x360 with 1 Axes>"
      ]
     },
     "metadata": {
      "needs_background": "light"
     },
     "output_type": "display_data"
    }
   ],
   "source": [
    "plt.figure(figsize=(15,5))\n",
    "\n",
    "plt.plot(range(1,51),\n",
    "        h1.history['loss'],\n",
    "        label = 'loss'\n",
    "        )\n",
    "plt.legend()\n",
    "plt.show()"
   ]
  },
  {
   "cell_type": "code",
   "execution_count": 112,
   "id": "3a93b991",
   "metadata": {
    "scrolled": true
   },
   "outputs": [
    {
     "name": "stdout",
     "output_type": "stream",
     "text": [
      "10000/10000 [==============================] - 0s 41us/sample - loss: 0.7349 - acc: 0.7126\n"
     ]
    },
    {
     "data": {
      "text/plain": [
       "[0.7349182078361511, 0.7126]"
      ]
     },
     "execution_count": 112,
     "metadata": {},
     "output_type": "execute_result"
    }
   ],
   "source": [
    "model.evaluate(X_test , y_test_one_hot)"
   ]
  },
  {
   "cell_type": "markdown",
   "id": "0fc9fd65",
   "metadata": {},
   "source": [
    "#### 신경망 설계(2.중간층 활성화 함수 : relu, 최적화 함수 : SGD)"
   ]
  },
  {
   "cell_type": "code",
   "execution_count": 113,
   "id": "aa6ae6fe",
   "metadata": {},
   "outputs": [],
   "source": [
    "from tensorflow.keras import Sequential\n",
    "from tensorflow.keras.layers import Dense, Flatten\n",
    "# Flatten : 데이터를 1차원으로 자동적으로 펴주는 역할을 하는 모듈\n"
   ]
  },
  {
   "cell_type": "code",
   "execution_count": 114,
   "id": "703084fc",
   "metadata": {},
   "outputs": [
    {
     "name": "stdout",
     "output_type": "stream",
     "text": [
      "Model: \"sequential_8\"\n",
      "_________________________________________________________________\n",
      "Layer (type)                 Output Shape              Param #   \n",
      "=================================================================\n",
      "flatten_8 (Flatten)          (None, 784)               0         \n",
      "_________________________________________________________________\n",
      "dense_40 (Dense)             (None, 450)               353250    \n",
      "_________________________________________________________________\n",
      "dense_41 (Dense)             (None, 200)               90200     \n",
      "_________________________________________________________________\n",
      "dense_42 (Dense)             (None, 100)               20100     \n",
      "_________________________________________________________________\n",
      "dense_43 (Dense)             (None, 50)                5050      \n",
      "_________________________________________________________________\n",
      "dense_44 (Dense)             (None, 10)                510       \n",
      "=================================================================\n",
      "Total params: 469,110\n",
      "Trainable params: 469,110\n",
      "Non-trainable params: 0\n",
      "_________________________________________________________________\n"
     ]
    }
   ],
   "source": [
    "model1 = Sequential()\n",
    "\n",
    "#Flatten 명령을 통해서 한번에 바로 이미지 데이터를 1차원으로 펴줌\n",
    "model1.add(Flatten(input_shape=(28,28)))\n",
    "\n",
    "# 중간층\n",
    "model1.add(Dense(450, activation=\"relu\")) # 하나의 층\n",
    "model1.add(Dense(200, activation=\"relu\")) # 하나의 층\n",
    "model1.add(Dense(100, activation=\"relu\")) # 하나의 층\n",
    "model1.add(Dense(50, activation=\"relu\")) # 하나의 층\n",
    "\n",
    "model1.add(Dense(10, activation=\"softmax\")) \n",
    "model1.summary()"
   ]
  },
  {
   "cell_type": "code",
   "execution_count": 115,
   "id": "e3340253",
   "metadata": {},
   "outputs": [],
   "source": [
    "# 2. 학습 / 평가 방법 설정\n",
    "# binary_crossentropy : 2진분류에 사용하는 손실함수(비용함수)\n",
    "# categorical_crossentropy : 다중분류에 사용하는 손실함수\n",
    "# -> 오차의 평균을 구하는것은 mse와 같지만 0~1사이 값으로 변환 후 평균오차를 구함\n",
    "# \n",
    "model1.compile(loss=\"categorical_crossentropy\",  \n",
    "              optimizer = SGD(lr=0.001),#Ir : learning rate : 학습률(디폴트는 0.01)   # 최적화 함수 : 확률적경사하강법 사용  // SGD도 이외에도 Adam도 있음 \n",
    "              metrics=[\"acc\"]       # metrics : 평가방법을 설정 (정확도 체크)\n",
    "                                    # 분류 문제이기 때문에 정확도를 확인\n",
    "             )\n",
    "\n",
    "# 회귀는 오차만 확인하면 되지만 분류는 정확도까지 확인해줘야 함!!!!!"
   ]
  },
  {
   "cell_type": "code",
   "execution_count": 116,
   "id": "0093702a",
   "metadata": {},
   "outputs": [
    {
     "data": {
      "text/plain": [
       "(60000, 28, 28)"
      ]
     },
     "execution_count": 116,
     "metadata": {},
     "output_type": "execute_result"
    }
   ],
   "source": [
    "X_train.shape"
   ]
  },
  {
   "cell_type": "code",
   "execution_count": 117,
   "id": "7cdbeb46",
   "metadata": {},
   "outputs": [
    {
     "data": {
      "text/plain": [
       "(60000,)"
      ]
     },
     "execution_count": 117,
     "metadata": {},
     "output_type": "execute_result"
    }
   ],
   "source": [
    "y_train.shape"
   ]
  },
  {
   "cell_type": "code",
   "execution_count": 118,
   "id": "bd3ad05d",
   "metadata": {
    "scrolled": true
   },
   "outputs": [
    {
     "name": "stdout",
     "output_type": "stream",
     "text": [
      "Train on 42000 samples, validate on 18000 samples\n",
      "Epoch 1/50\n",
      "42000/42000 [==============================] - 4s 89us/sample - loss: 1.5351 - acc: 0.7337 - val_loss: 0.6327 - val_acc: 0.7722\n",
      "Epoch 2/50\n",
      "42000/42000 [==============================] - 3s 79us/sample - loss: 0.5231 - acc: 0.8144 - val_loss: 0.5612 - val_acc: 0.8009\n",
      "Epoch 3/50\n",
      "42000/42000 [==============================] - 3s 78us/sample - loss: 0.4577 - acc: 0.8353 - val_loss: 0.5215 - val_acc: 0.8186\n",
      "Epoch 4/50\n",
      "42000/42000 [==============================] - 3s 73us/sample - loss: 0.4199 - acc: 0.8480 - val_loss: 0.4754 - val_acc: 0.8293\n",
      "Epoch 5/50\n",
      "42000/42000 [==============================] - 3s 77us/sample - loss: 0.3942 - acc: 0.8534 - val_loss: 0.4436 - val_acc: 0.8408\n",
      "Epoch 6/50\n",
      "42000/42000 [==============================] - 3s 75us/sample - loss: 0.3698 - acc: 0.8645 - val_loss: 0.4220 - val_acc: 0.8528\n",
      "Epoch 7/50\n",
      "42000/42000 [==============================] - 3s 79us/sample - loss: 0.3520 - acc: 0.8703 - val_loss: 0.4186 - val_acc: 0.8519\n",
      "Epoch 8/50\n",
      "42000/42000 [==============================] - 3s 73us/sample - loss: 0.3367 - acc: 0.8753 - val_loss: 0.4290 - val_acc: 0.8486\n",
      "Epoch 9/50\n",
      "42000/42000 [==============================] - 3s 74us/sample - loss: 0.3246 - acc: 0.8796 - val_loss: 0.4077 - val_acc: 0.8563\n",
      "Epoch 10/50\n",
      "42000/42000 [==============================] - 3s 72us/sample - loss: 0.3127 - acc: 0.8849 - val_loss: 0.4434 - val_acc: 0.8483\n",
      "Epoch 11/50\n",
      "42000/42000 [==============================] - 3s 71us/sample - loss: 0.3015 - acc: 0.8879 - val_loss: 0.4239 - val_acc: 0.8552\n",
      "Epoch 12/50\n",
      "42000/42000 [==============================] - 3s 74us/sample - loss: 0.2917 - acc: 0.8912 - val_loss: 0.4346 - val_acc: 0.8545\n",
      "Epoch 13/50\n",
      "42000/42000 [==============================] - 3s 73us/sample - loss: 0.2835 - acc: 0.8943 - val_loss: 0.4039 - val_acc: 0.8626\n",
      "Epoch 14/50\n",
      "42000/42000 [==============================] - 3s 73us/sample - loss: 0.2756 - acc: 0.8972 - val_loss: 0.4080 - val_acc: 0.8620\n",
      "Epoch 15/50\n",
      "42000/42000 [==============================] - 3s 73us/sample - loss: 0.2664 - acc: 0.9011 - val_loss: 0.4073 - val_acc: 0.8629\n",
      "Epoch 16/50\n",
      "42000/42000 [==============================] - 3s 73us/sample - loss: 0.2587 - acc: 0.9028 - val_loss: 0.4158 - val_acc: 0.8602\n",
      "Epoch 17/50\n",
      "42000/42000 [==============================] - 3s 73us/sample - loss: 0.2526 - acc: 0.9056 - val_loss: 0.3977 - val_acc: 0.8663\n",
      "Epoch 18/50\n",
      "42000/42000 [==============================] - 3s 72us/sample - loss: 0.2466 - acc: 0.9074 - val_loss: 0.3979 - val_acc: 0.8672\n",
      "Epoch 19/50\n",
      "42000/42000 [==============================] - 3s 72us/sample - loss: 0.2398 - acc: 0.9107 - val_loss: 0.4041 - val_acc: 0.8654\n",
      "Epoch 20/50\n",
      "42000/42000 [==============================] - 3s 74us/sample - loss: 0.2334 - acc: 0.9131 - val_loss: 0.4267 - val_acc: 0.8633\n",
      "Epoch 21/50\n",
      "42000/42000 [==============================] - 3s 72us/sample - loss: 0.2280 - acc: 0.9150 - val_loss: 0.4223 - val_acc: 0.8636\n",
      "Epoch 22/50\n",
      "42000/42000 [==============================] - 3s 72us/sample - loss: 0.2216 - acc: 0.9167 - val_loss: 0.4289 - val_acc: 0.8638\n",
      "Epoch 23/50\n",
      "42000/42000 [==============================] - 3s 78us/sample - loss: 0.2166 - acc: 0.9187 - val_loss: 0.4063 - val_acc: 0.8697\n",
      "Epoch 24/50\n",
      "42000/42000 [==============================] - 3s 73us/sample - loss: 0.2123 - acc: 0.9209 - val_loss: 0.4342 - val_acc: 0.8654\n",
      "Epoch 25/50\n",
      "42000/42000 [==============================] - 3s 74us/sample - loss: 0.2070 - acc: 0.9221 - val_loss: 0.4381 - val_acc: 0.8613\n",
      "Epoch 26/50\n",
      "42000/42000 [==============================] - 3s 81us/sample - loss: 0.2019 - acc: 0.9252 - val_loss: 0.4263 - val_acc: 0.8673\n",
      "Epoch 27/50\n",
      "42000/42000 [==============================] - 3s 78us/sample - loss: 0.1972 - acc: 0.9263 - val_loss: 0.4503 - val_acc: 0.8626\n",
      "Epoch 28/50\n",
      "42000/42000 [==============================] - 3s 75us/sample - loss: 0.1923 - acc: 0.9289 - val_loss: 0.4401 - val_acc: 0.8652\n",
      "Epoch 29/50\n",
      "42000/42000 [==============================] - 3s 74us/sample - loss: 0.1891 - acc: 0.9305 - val_loss: 0.4424 - val_acc: 0.8656\n",
      "Epoch 30/50\n",
      "42000/42000 [==============================] - 3s 73us/sample - loss: 0.1835 - acc: 0.9324 - val_loss: 0.4456 - val_acc: 0.8684\n",
      "Epoch 31/50\n",
      "42000/42000 [==============================] - 3s 74us/sample - loss: 0.1810 - acc: 0.9331 - val_loss: 0.4387 - val_acc: 0.8717\n",
      "Epoch 32/50\n",
      "42000/42000 [==============================] - 3s 74us/sample - loss: 0.1767 - acc: 0.9352 - val_loss: 0.4432 - val_acc: 0.8672\n",
      "Epoch 33/50\n",
      "42000/42000 [==============================] - 3s 75us/sample - loss: 0.1712 - acc: 0.9359 - val_loss: 0.4301 - val_acc: 0.8700\n",
      "Epoch 34/50\n",
      "42000/42000 [==============================] - 3s 72us/sample - loss: 0.1681 - acc: 0.9366 - val_loss: 0.4351 - val_acc: 0.8707\n",
      "Epoch 35/50\n",
      "42000/42000 [==============================] - 4s 85us/sample - loss: 0.1643 - acc: 0.9383 - val_loss: 0.4436 - val_acc: 0.8707\n",
      "Epoch 36/50\n",
      "42000/42000 [==============================] - 3s 80us/sample - loss: 0.1604 - acc: 0.9409 - val_loss: 0.4407 - val_acc: 0.8729\n",
      "Epoch 37/50\n",
      "42000/42000 [==============================] - 3s 80us/sample - loss: 0.1577 - acc: 0.9408 - val_loss: 0.4558 - val_acc: 0.8664\n",
      "Epoch 38/50\n",
      "42000/42000 [==============================] - 3s 80us/sample - loss: 0.1558 - acc: 0.9417 - val_loss: 0.4530 - val_acc: 0.8709\n",
      "Epoch 39/50\n",
      "42000/42000 [==============================] - 3s 72us/sample - loss: 0.1524 - acc: 0.9432 - val_loss: 0.4785 - val_acc: 0.8646\n",
      "Epoch 40/50\n",
      "42000/42000 [==============================] - 3s 75us/sample - loss: 0.1486 - acc: 0.9456 - val_loss: 0.4623 - val_acc: 0.8694\n",
      "Epoch 41/50\n",
      "42000/42000 [==============================] - 3s 74us/sample - loss: 0.1457 - acc: 0.9452 - val_loss: 0.4809 - val_acc: 0.8677\n",
      "Epoch 42/50\n",
      "42000/42000 [==============================] - 3s 76us/sample - loss: 0.1417 - acc: 0.9474 - val_loss: 0.4936 - val_acc: 0.8625\n",
      "Epoch 43/50\n",
      "42000/42000 [==============================] - 3s 81us/sample - loss: 0.1396 - acc: 0.9484 - val_loss: 0.5039 - val_acc: 0.8625\n",
      "Epoch 44/50\n",
      "42000/42000 [==============================] - 3s 73us/sample - loss: 0.1390 - acc: 0.9490 - val_loss: 0.4857 - val_acc: 0.8659\n",
      "Epoch 45/50\n",
      "42000/42000 [==============================] - 3s 73us/sample - loss: 0.1338 - acc: 0.9513 - val_loss: 0.4856 - val_acc: 0.8672\n",
      "Epoch 46/50\n",
      "42000/42000 [==============================] - 3s 75us/sample - loss: 0.1307 - acc: 0.9525 - val_loss: 0.4971 - val_acc: 0.8631\n",
      "Epoch 47/50\n",
      "42000/42000 [==============================] - 3s 78us/sample - loss: 0.1280 - acc: 0.9534 - val_loss: 0.4843 - val_acc: 0.8685\n",
      "Epoch 48/50\n",
      "42000/42000 [==============================] - 3s 74us/sample - loss: 0.1259 - acc: 0.9549 - val_loss: 0.4808 - val_acc: 0.8711\n",
      "Epoch 49/50\n",
      "42000/42000 [==============================] - 3s 73us/sample - loss: 0.1233 - acc: 0.9551 - val_loss: 0.4997 - val_acc: 0.8713\n",
      "Epoch 50/50\n",
      "42000/42000 [==============================] - 3s 79us/sample - loss: 0.1213 - acc: 0.9561 - val_loss: 0.4970 - val_acc: 0.8689\n"
     ]
    }
   ],
   "source": [
    "h2 = model1.fit(X_train,y_train_one_hot,\n",
    "                  validation_split=0.3,\n",
    "              epochs=50,  # epochs : 학습 횟수를 설정\n",
    "              batch_size=32) # 한번에 데이터를 학습시키는 최소 단위 // 높을 수록 러프하게 학습되고 낮을수고 자세히 학습\n",
    "# verbose : 학습 결과의 출력 형태를 설정하는 명령(0: 출력x, 1:bar형태(디폴트, 2 : ))"
   ]
  },
  {
   "cell_type": "code",
   "execution_count": 119,
   "id": "75449071",
   "metadata": {},
   "outputs": [
    {
     "data": {
      "image/png": "[encoded data removed]",
      "text/plain": [
       "<Figure size 1080x360 with 1 Axes>"
      ]
     },
     "metadata": {
      "needs_background": "light"
     },
     "output_type": "display_data"
    }
   ],
   "source": [
    "plt.figure(figsize=(15,5))\n",
    "\n",
    "plt.plot(range(1,51),\n",
    "        h2.history['acc'],\n",
    "        label = 'acc'\n",
    "        )\n",
    "\n",
    "plt.legend()\n",
    "plt.show()"
   ]
  },
  {
   "cell_type": "code",
   "execution_count": 120,
   "id": "bee6af57",
   "metadata": {
    "scrolled": true
   },
   "outputs": [
    {
     "data": {
      "image/png": "[encoded data removed]",
      "text/plain": [
       "<Figure size 1080x360 with 1 Axes>"
      ]
     },
     "metadata": {
      "needs_background": "light"
     },
     "output_type": "display_data"
    }
   ],
   "source": [
    "plt.figure(figsize=(15,5))\n",
    "\n",
    "plt.plot(range(1,51),\n",
    "        h2.history['loss'],\n",
    "        label = 'loss'\n",
    "        )\n",
    "plt.legend()\n",
    "plt.show()"
   ]
  },
  {
   "cell_type": "code",
   "execution_count": 121,
   "id": "3a93b991",
   "metadata": {
    "scrolled": true
   },
   "outputs": [
    {
     "name": "stdout",
     "output_type": "stream",
     "text": [
      "10000/10000 [==============================] - 1s 50us/sample - loss: 0.5473 - acc: 0.8619\n"
     ]
    },
    {
     "data": {
      "text/plain": [
       "[0.5473372249722481, 0.8619]"
      ]
     },
     "execution_count": 121,
     "metadata": {},
     "output_type": "execute_result"
    }
   ],
   "source": [
    "model1.evaluate(X_test , y_test_one_hot, batch_size=32)"
   ]
  },
  {
   "cell_type": "markdown",
   "id": "f8199e17",
   "metadata": {},
   "source": [
    "#### 신경망 설계(3.중간층 활성화 함수 : relu, 최적화 함수 : Adam)"
   ]
  },
  {
   "cell_type": "code",
   "execution_count": 122,
   "id": "aa6ae6fe",
   "metadata": {},
   "outputs": [],
   "source": [
    "from tensorflow.keras import Sequential\n",
    "from tensorflow.keras.layers import Dense, Flatten\n",
    "# Flatten : 데이터를 1차원으로 자동적으로 펴주는 역할을 하는 모듈\n"
   ]
  },
  {
   "cell_type": "code",
   "execution_count": 123,
   "id": "703084fc",
   "metadata": {},
   "outputs": [
    {
     "name": "stdout",
     "output_type": "stream",
     "text": [
      "Model: \"sequential_9\"\n",
      "_________________________________________________________________\n",
      "Layer (type)                 Output Shape              Param #   \n",
      "=================================================================\n",
      "flatten_9 (Flatten)          (None, 784)               0         \n",
      "_________________________________________________________________\n",
      "dense_45 (Dense)             (None, 450)               353250    \n",
      "_________________________________________________________________\n",
      "dense_46 (Dense)             (None, 200)               90200     \n",
      "_________________________________________________________________\n",
      "dense_47 (Dense)             (None, 100)               20100     \n",
      "_________________________________________________________________\n",
      "dense_48 (Dense)             (None, 50)                5050      \n",
      "_________________________________________________________________\n",
      "dense_49 (Dense)             (None, 10)                510       \n",
      "=================================================================\n",
      "Total params: 469,110\n",
      "Trainable params: 469,110\n",
      "Non-trainable params: 0\n",
      "_________________________________________________________________\n"
     ]
    }
   ],
   "source": [
    "model2 = Sequential()\n",
    "\n",
    "#Flatten 명령을 통해서 한번에 바로 이미지 데이터를 1차원으로 펴줌\n",
    "model2.add(Flatten(input_shape=(28,28)))\n",
    "\n",
    "# 중간층\n",
    "model2.add(Dense(450, activation=\"relu\")) # 하나의 층\n",
    "model2.add(Dense(200, activation=\"relu\")) # 하나의 층\n",
    "model2.add(Dense(100, activation=\"relu\")) # 하나의 층\n",
    "model2.add(Dense(50, activation=\"relu\")) # 하나의 층\n",
    "\n",
    "model2.add(Dense(10, activation=\"softmax\")) \n",
    "model2.summary()"
   ]
  },
  {
   "cell_type": "code",
   "execution_count": 124,
   "id": "e3340253",
   "metadata": {},
   "outputs": [],
   "source": [
    "# 2. 학습 / 평가 방법 설정\n",
    "# binary_crossentropy : 2진분류에 사용하는 손실함수(비용함수)\n",
    "# categorical_crossentropy : 다중분류에 사용하는 손실함수\n",
    "# -> 오차의 평균을 구하는것은 mse와 같지만 0~1사이 값으로 변환 후 평균오차를 구함\n",
    "# \n",
    "model2.compile(loss=\"categorical_crossentropy\",  \n",
    "              optimizer = \"Adam\",   # 최적화 함수 : 확률적경사하강법 사용  // SGD도 이외에도 Adam도 있음 \n",
    "              metrics=[\"acc\"]       # metrics : 평가방법을 설정 (정확도 체크)\n",
    "                                    # 분류 문제이기 때문에 정확도를 확인\n",
    "             )\n",
    "\n",
    "# 회귀는 오차만 확인하면 되지만 분류는 정확도까지 확인해줘야 함!!!!!"
   ]
  },
  {
   "cell_type": "code",
   "execution_count": 125,
   "id": "4909b384",
   "metadata": {},
   "outputs": [
    {
     "data": {
      "text/plain": [
       "(60000, 28, 28)"
      ]
     },
     "execution_count": 125,
     "metadata": {},
     "output_type": "execute_result"
    }
   ],
   "source": [
    "X_train.shape"
   ]
  },
  {
   "cell_type": "code",
   "execution_count": 126,
   "id": "121c8ddd",
   "metadata": {},
   "outputs": [
    {
     "data": {
      "text/plain": [
       "(60000,)"
      ]
     },
     "execution_count": 126,
     "metadata": {},
     "output_type": "execute_result"
    }
   ],
   "source": [
    "y_train.shape"
   ]
  },
  {
   "cell_type": "code",
   "execution_count": 127,
   "id": "bd3ad05d",
   "metadata": {
    "scrolled": true
   },
   "outputs": [
    {
     "name": "stdout",
     "output_type": "stream",
     "text": [
      "Train on 42000 samples, validate on 18000 samples\n",
      "Epoch 1/50\n",
      "42000/42000 [==============================] - 4s 96us/sample - loss: 1.2841 - acc: 0.7694 - val_loss: 0.5912 - val_acc: 0.7888\n",
      "Epoch 2/50\n",
      "42000/42000 [==============================] - 4s 94us/sample - loss: 0.4742 - acc: 0.8340 - val_loss: 0.4274 - val_acc: 0.8489\n",
      "Epoch 3/50\n",
      "42000/42000 [==============================] - 4s 96us/sample - loss: 0.4291 - acc: 0.8470 - val_loss: 0.4232 - val_acc: 0.8522\n",
      "Epoch 4/50\n",
      "42000/42000 [==============================] - 4s 90us/sample - loss: 0.4010 - acc: 0.8540 - val_loss: 0.3983 - val_acc: 0.8572\n",
      "Epoch 5/50\n",
      "42000/42000 [==============================] - 3s 79us/sample - loss: 0.3788 - acc: 0.8652 - val_loss: 0.3957 - val_acc: 0.8567\n",
      "Epoch 6/50\n",
      "42000/42000 [==============================] - 3s 80us/sample - loss: 0.3649 - acc: 0.8681 - val_loss: 0.4067 - val_acc: 0.8571\n",
      "Epoch 7/50\n",
      "42000/42000 [==============================] - 3s 77us/sample - loss: 0.3473 - acc: 0.8747 - val_loss: 0.4063 - val_acc: 0.8617\n",
      "Epoch 8/50\n",
      "42000/42000 [==============================] - 3s 77us/sample - loss: 0.3404 - acc: 0.8793 - val_loss: 0.3716 - val_acc: 0.8715\n",
      "Epoch 9/50\n",
      "42000/42000 [==============================] - 3s 75us/sample - loss: 0.3270 - acc: 0.8823 - val_loss: 0.5634 - val_acc: 0.8690\n",
      "Epoch 10/50\n",
      "42000/42000 [==============================] - 3s 79us/sample - loss: 0.3199 - acc: 0.8852 - val_loss: 0.3538 - val_acc: 0.8776\n",
      "Epoch 11/50\n",
      "42000/42000 [==============================] - 4s 84us/sample - loss: 0.3099 - acc: 0.8887 - val_loss: 0.3615 - val_acc: 0.8768\n",
      "Epoch 12/50\n",
      "42000/42000 [==============================] - 4s 85us/sample - loss: 0.2948 - acc: 0.8922 - val_loss: 0.3542 - val_acc: 0.8804\n",
      "Epoch 13/50\n",
      "42000/42000 [==============================] - 3s 81us/sample - loss: 0.2964 - acc: 0.8927 - val_loss: 0.3691 - val_acc: 0.8751\n",
      "Epoch 14/50\n",
      "42000/42000 [==============================] - 3s 77us/sample - loss: 0.2837 - acc: 0.8973 - val_loss: 0.4070 - val_acc: 0.8726\n",
      "Epoch 15/50\n",
      "42000/42000 [==============================] - 3s 80us/sample - loss: 0.2791 - acc: 0.8993 - val_loss: 0.3778 - val_acc: 0.8850\n",
      "Epoch 16/50\n",
      "42000/42000 [==============================] - 3s 79us/sample - loss: 0.2760 - acc: 0.9001 - val_loss: 0.3569 - val_acc: 0.8852\n",
      "Epoch 17/50\n",
      "42000/42000 [==============================] - 3s 81us/sample - loss: 0.2749 - acc: 0.9018 - val_loss: 0.3716 - val_acc: 0.8836\n",
      "Epoch 18/50\n",
      "42000/42000 [==============================] - 3s 83us/sample - loss: 0.2635 - acc: 0.9046 - val_loss: 0.3763 - val_acc: 0.8822\n",
      "Epoch 19/50\n",
      "42000/42000 [==============================] - 3s 80us/sample - loss: 0.2648 - acc: 0.9040 - val_loss: 0.3771 - val_acc: 0.8797\n",
      "Epoch 20/50\n",
      "42000/42000 [==============================] - 4s 88us/sample - loss: 0.2488 - acc: 0.9092 - val_loss: 0.3899 - val_acc: 0.8813\n",
      "Epoch 21/50\n",
      "42000/42000 [==============================] - 3s 79us/sample - loss: 0.2573 - acc: 0.9075 - val_loss: 0.3612 - val_acc: 0.8848\n",
      "Epoch 22/50\n",
      "42000/42000 [==============================] - 4s 88us/sample - loss: 0.2467 - acc: 0.9107 - val_loss: 0.4111 - val_acc: 0.8746\n",
      "Epoch 23/50\n",
      "42000/42000 [==============================] - 4s 84us/sample - loss: 0.2408 - acc: 0.9131 - val_loss: 0.3969 - val_acc: 0.8835\n",
      "Epoch 24/50\n",
      "42000/42000 [==============================] - 3s 81us/sample - loss: 0.2374 - acc: 0.9118 - val_loss: 0.4112 - val_acc: 0.8819\n",
      "Epoch 25/50\n",
      "42000/42000 [==============================] - 3s 81us/sample - loss: 0.2413 - acc: 0.9122 - val_loss: 0.4172 - val_acc: 0.8858\n",
      "Epoch 26/50\n",
      "42000/42000 [==============================] - 3s 79us/sample - loss: 0.2302 - acc: 0.9153 - val_loss: 0.3840 - val_acc: 0.8853\n",
      "Epoch 27/50\n",
      "42000/42000 [==============================] - 3s 77us/sample - loss: 0.2335 - acc: 0.9153 - val_loss: 0.3867 - val_acc: 0.8791\n",
      "Epoch 28/50\n",
      "42000/42000 [==============================] - 3s 77us/sample - loss: 0.2405 - acc: 0.9122 - val_loss: 0.4398 - val_acc: 0.8833\n",
      "Epoch 29/50\n",
      "42000/42000 [==============================] - 3s 81us/sample - loss: 0.2313 - acc: 0.9175 - val_loss: 0.3984 - val_acc: 0.8801\n",
      "Epoch 30/50\n",
      "42000/42000 [==============================] - 3s 82us/sample - loss: 0.2137 - acc: 0.9222 - val_loss: 0.4448 - val_acc: 0.8876\n",
      "Epoch 31/50\n",
      "42000/42000 [==============================] - 3s 80us/sample - loss: 0.2245 - acc: 0.9199 - val_loss: 0.4575 - val_acc: 0.8868\n",
      "Epoch 32/50\n",
      "42000/42000 [==============================] - 3s 78us/sample - loss: 0.2258 - acc: 0.9183 - val_loss: 0.4330 - val_acc: 0.8896\n",
      "Epoch 33/50\n",
      "42000/42000 [==============================] - 4s 93us/sample - loss: 0.2107 - acc: 0.9244 - val_loss: 0.4499 - val_acc: 0.8896\n",
      "Epoch 34/50\n",
      "42000/42000 [==============================] - 4s 97us/sample - loss: 0.2152 - acc: 0.9222 - val_loss: 0.4356 - val_acc: 0.8839\n",
      "Epoch 35/50\n",
      "42000/42000 [==============================] - 4s 92us/sample - loss: 0.2174 - acc: 0.9229 - val_loss: 0.4319 - val_acc: 0.8821\n",
      "Epoch 36/50\n",
      "42000/42000 [==============================] - 4s 89us/sample - loss: 0.2018 - acc: 0.9267 - val_loss: 0.4737 - val_acc: 0.8897\n",
      "Epoch 37/50\n",
      "42000/42000 [==============================] - 4s 91us/sample - loss: 0.2073 - acc: 0.9241 - val_loss: 0.4457 - val_acc: 0.8842\n",
      "Epoch 38/50\n",
      "42000/42000 [==============================] - 3s 78us/sample - loss: 0.2080 - acc: 0.9251 - val_loss: 0.6125 - val_acc: 0.8865\n",
      "Epoch 39/50\n",
      "42000/42000 [==============================] - 4s 98us/sample - loss: 0.2204 - acc: 0.9222 - val_loss: 0.5430 - val_acc: 0.8848\n",
      "Epoch 40/50\n",
      "42000/42000 [==============================] - 4s 91us/sample - loss: 0.2261 - acc: 0.9229 - val_loss: 0.5702 - val_acc: 0.8824\n",
      "Epoch 41/50\n",
      "42000/42000 [==============================] - 4s 84us/sample - loss: 0.2086 - acc: 0.9247 - val_loss: 0.4729 - val_acc: 0.8892\n",
      "Epoch 42/50\n",
      "42000/42000 [==============================] - 4s 86us/sample - loss: 0.2051 - acc: 0.9266 - val_loss: 0.4769 - val_acc: 0.8784\n",
      "Epoch 43/50\n",
      "42000/42000 [==============================] - 4s 85us/sample - loss: 0.1937 - acc: 0.9284 - val_loss: 0.4854 - val_acc: 0.8897\n",
      "Epoch 44/50\n",
      "42000/42000 [==============================] - 4s 84us/sample - loss: 0.1983 - acc: 0.9289 - val_loss: 0.5133 - val_acc: 0.8827\n",
      "Epoch 45/50\n",
      "42000/42000 [==============================] - 3s 83us/sample - loss: 0.1892 - acc: 0.9301 - val_loss: 0.4619 - val_acc: 0.8901\n",
      "Epoch 46/50\n",
      "42000/42000 [==============================] - 3s 77us/sample - loss: 0.1957 - acc: 0.9295 - val_loss: 0.4405 - val_acc: 0.8908\n",
      "Epoch 47/50\n",
      "42000/42000 [==============================] - 3s 79us/sample - loss: 0.1897 - acc: 0.9314 - val_loss: 0.5265 - val_acc: 0.8778\n",
      "Epoch 48/50\n",
      "42000/42000 [==============================] - 3s 77us/sample - loss: 0.1886 - acc: 0.9315 - val_loss: 0.4761 - val_acc: 0.8875\n",
      "Epoch 49/50\n",
      "42000/42000 [==============================] - 3s 82us/sample - loss: 0.1788 - acc: 0.9350 - val_loss: 0.6328 - val_acc: 0.8834\n",
      "Epoch 50/50\n",
      "42000/42000 [==============================] - 3s 76us/sample - loss: 0.1883 - acc: 0.9334 - val_loss: 0.6229 - val_acc: 0.8834\n"
     ]
    }
   ],
   "source": [
    "h3 = model2.fit(X_train,y_train_one_hot,\n",
    "                  validation_split=0.3,\n",
    "              epochs=50,  # epochs : 학습 횟수를 설정\n",
    "              batch_size=32) # 한번에 데이터를 학습시키는 최소 단위 // 높을 수록 러프하게 학습되고 낮을수고 자세히 학습\n",
    "# verbose : 학습 결과의 출력 형태를 설정하는 명령(0: 출력x, 1:bar형태(디폴트, 2 : ))"
   ]
  },
  {
   "cell_type": "code",
   "execution_count": 128,
   "id": "75449071",
   "metadata": {},
   "outputs": [
    {
     "data": {
      "image/png": "[encoded data removed]",
      "text/plain": [
       "<Figure size 1080x360 with 1 Axes>"
      ]
     },
     "metadata": {
      "needs_background": "light"
     },
     "output_type": "display_data"
    }
   ],
   "source": [
    "plt.figure(figsize=(15,5))\n",
    "\n",
    "plt.plot(range(1,51),\n",
    "        h3.history['acc'],\n",
    "        label = 'acc'\n",
    "        )\n",
    "\n",
    "plt.legend()\n",
    "plt.show()"
   ]
  },
  {
   "cell_type": "code",
   "execution_count": 129,
   "id": "bee6af57",
   "metadata": {},
   "outputs": [
    {
     "data": {
      "image/png": "[encoded data removed]",
      "text/plain": [
       "<Figure size 1080x360 with 1 Axes>"
      ]
     },
     "metadata": {
      "needs_background": "light"
     },
     "output_type": "display_data"
    }
   ],
   "source": [
    "plt.figure(figsize=(15,5))\n",
    "\n",
    "plt.plot(range(1,51),\n",
    "        h3.history['loss'],\n",
    "        label = 'loss'\n",
    "        )\n",
    "plt.legend()\n",
    "plt.show()"
   ]
  },
  {
   "cell_type": "code",
   "execution_count": 130,
   "id": "3a93b991",
   "metadata": {
    "scrolled": true
   },
   "outputs": [
    {
     "name": "stdout",
     "output_type": "stream",
     "text": [
      "10000/10000 [==============================] - 0s 40us/sample - loss: 0.6744 - acc: 0.8741\n"
     ]
    },
    {
     "data": {
      "text/plain": [
       "[0.674440449810028, 0.8741]"
      ]
     },
     "execution_count": 130,
     "metadata": {},
     "output_type": "execute_result"
    }
   ],
   "source": [
    "model2.evaluate(X_test , y_test_one_hot)"
   ]
  },
  {
   "cell_type": "markdown",
   "id": "496455ca",
   "metadata": {},
   "source": [
    "### 3종류 모델 비교"
   ]
  },
  {
   "cell_type": "code",
   "execution_count": 133,
   "id": "f4cae066",
   "metadata": {},
   "outputs": [
    {
     "data": {
      "image/png": "[encoded data removed]",
      "text/plain": [
       "<Figure size 1080x720 with 1 Axes>"
      ]
     },
     "metadata": {
      "needs_background": "light"
     },
     "output_type": "display_data"
    }
   ],
   "source": [
    "# 3종류 모델 시각화\n",
    "plt.figure(figsize=(15,10))\n",
    "\n",
    "# model1\n",
    "plt.plot(h1.history['acc'], label='sigmoid+SGD')\n",
    "plt.plot(h1.history['val_acc'], label='val_sigmoid+SGD')\n",
    "\n",
    "# model2\n",
    "plt.plot(h2.history['acc'], label='relu+SGD')\n",
    "plt.plot(h2.history['val_acc'], label='val_relu+SGD')\n",
    "\n",
    "# model3\n",
    "plt.plot(h3.history['acc'], label='relu+Adam')\n",
    "plt.plot(h3.history['val_acc'], label='val_relu+Adam')\n",
    "\n",
    "plt.legend()\n",
    "plt.show()"
   ]
  },
  {
   "cell_type": "markdown",
   "id": "dee22d6d",
   "metadata": {},
   "source": [
    "### 최적화 모델 찾기\n",
    "    - 모델체크포인트 : 모델을 저장\n",
    "    - 얼리스탑핑 : 조기 학습 중단(과대적합, 시간낭비를 방지)"
   ]
  },
  {
   "cell_type": "code",
   "execution_count": 132,
   "id": "1caeaf51",
   "metadata": {},
   "outputs": [],
   "source": [
    "from tensorflow.keras.callbacks import ModelCheckpointheEarlyStoppingrlyStoppingrlyStoppingrlyStoppingrlyStoppingrlyStoppingrlyStoppingpointCheckpoint, EarlyStopping"
   ]
  },
  {
   "cell_type": "code",
   "execution_count": 136,
   "id": "e5fc4e7c",
   "metadata": {},
   "outputs": [],
   "source": [
    "# 1. 모델 저장\n",
    "# 저장 경로 및 파일명 형태를 설정\n",
    "save_path = './model/FashionModel_{epoch:03d}_{val_acc:.4f}.hdf5'\n",
    "# epoch는 keras에서 지정해 놓은 키워드\n",
    "# d : 10진수 형태, 03 -> 0이 3개 붙어있는 형태의 자리수(001, 002, 003 ~) \n",
    "# f : 소수점 형태, .4 -> 소수점 4자리 까지 형태의 자리수(0.001,0.002 ~)\n",
    "# hdf5 : 저장되는 파일의 확장자명\n",
    "\n",
    "f_mckp = ModelCheckpoint(filepath = save_path,  # 파일 경로 설정\n",
    "                         monitor = 'val_acc',   # 해당 값을 기준으로 파일을 저장\n",
    "                         save_best_only = True,# monitor 값이 가장 최고점을 갱신 했을 때 모델을 저장\n",
    "                         verbose = 1 #모델 개선 및 저장 메시지를 표시\n",
    "                        )"
   ]
  },
  {
   "cell_type": "code",
   "execution_count": 137,
   "id": "06e87617",
   "metadata": {},
   "outputs": [],
   "source": [
    "# 2. 조기 학습 중단\n",
    "f_early = EarlyStopping(monitor = 'val_acc',\n",
    "                        # monitor의 값 개선을 몇번이나 기다려줄 것인지 설정\n",
    "                        patience = 5\n",
    "                       )\n",
    "\n",
    "# => 모델 학습시 val_acc가 5번의 epochs를 돌 동안 개선이 되지 않으면 중단시켜주세요!\n"
   ]
  },
  {
   "cell_type": "code",
   "execution_count": 140,
   "id": "a3b3064a",
   "metadata": {
    "scrolled": true
   },
   "outputs": [
    {
     "name": "stdout",
     "output_type": "stream",
     "text": [
      "Train on 42000 samples, validate on 18000 samples\n",
      "Epoch 1/50\n",
      "41760/42000 [============================>.] - ETA: 0s - loss: 1.4393 - acc: 0.7640\n",
      "Epoch 00001: val_acc improved from -inf to 0.81417, saving model to ./model/FashionModel_001_0.8142.hdf5\n",
      "42000/42000 [==============================] - 4s 91us/sample - loss: 1.4336 - acc: 0.7643 - val_loss: 0.5592 - val_acc: 0.8142\n",
      "Epoch 2/50\n",
      "41888/42000 [============================>.] - ETA: 0s - loss: 0.4887 - acc: 0.8280\n",
      "Epoch 00002: val_acc improved from 0.81417 to 0.82206, saving model to ./model/FashionModel_002_0.8221.hdf5\n",
      "42000/42000 [==============================] - 3s 81us/sample - loss: 0.4889 - acc: 0.8280 - val_loss: 0.5410 - val_acc: 0.8221\n",
      "Epoch 3/50\n",
      "41536/42000 [============================>.] - ETA: 0s - loss: 0.4504 - acc: 0.8394\n",
      "Epoch 00003: val_acc improved from 0.82206 to 0.84883, saving model to ./model/FashionModel_003_0.8488.hdf5\n",
      "42000/42000 [==============================] - 3s 79us/sample - loss: 0.4504 - acc: 0.8393 - val_loss: 0.4302 - val_acc: 0.8488\n",
      "Epoch 4/50\n",
      "41248/42000 [============================>.] - ETA: 0s - loss: 0.4258 - acc: 0.8476\n",
      "Epoch 00004: val_acc did not improve from 0.84883\n",
      "42000/42000 [==============================] - 3s 79us/sample - loss: 0.4265 - acc: 0.8476 - val_loss: 0.4790 - val_acc: 0.8352\n",
      "Epoch 5/50\n",
      "41664/42000 [============================>.] - ETA: 0s - loss: 0.4101 - acc: 0.8530\n",
      "Epoch 00005: val_acc did not improve from 0.84883\n",
      "42000/42000 [==============================] - 4s 85us/sample - loss: 0.4101 - acc: 0.8530 - val_loss: 0.4551 - val_acc: 0.8378\n",
      "Epoch 6/50\n",
      "41216/42000 [============================>.] - ETA: 0s - loss: 0.3878 - acc: 0.8596\n",
      "Epoch 00006: val_acc improved from 0.84883 to 0.86778, saving model to ./model/FashionModel_006_0.8678.hdf5\n",
      "42000/42000 [==============================] - 3s 79us/sample - loss: 0.3880 - acc: 0.8596 - val_loss: 0.3746 - val_acc: 0.8678\n",
      "Epoch 7/50\n",
      "41760/42000 [============================>.] - ETA: 0s - loss: 0.3672 - acc: 0.8682\n",
      "Epoch 00007: val_acc improved from 0.86778 to 0.87000, saving model to ./model/FashionModel_007_0.8700.hdf5\n",
      "42000/42000 [==============================] - 3s 77us/sample - loss: 0.3667 - acc: 0.8684 - val_loss: 0.3887 - val_acc: 0.8700\n",
      "Epoch 8/50\n",
      "41664/42000 [============================>.] - ETA: 0s - loss: 0.3485 - acc: 0.8756\n",
      "Epoch 00008: val_acc did not improve from 0.87000\n",
      "42000/42000 [==============================] - 3s 76us/sample - loss: 0.3496 - acc: 0.8752 - val_loss: 0.4622 - val_acc: 0.8284\n",
      "Epoch 9/50\n",
      "41568/42000 [============================>.] - ETA: 0s - loss: 0.3442 - acc: 0.8782\n",
      "Epoch 00009: val_acc did not improve from 0.87000\n",
      "42000/42000 [==============================] - 3s 78us/sample - loss: 0.3446 - acc: 0.8780 - val_loss: 0.4300 - val_acc: 0.8555\n",
      "Epoch 10/50\n",
      "41152/42000 [============================>.] - ETA: 0s - loss: 0.3307 - acc: 0.8832\n",
      "Epoch 00010: val_acc improved from 0.87000 to 0.87478, saving model to ./model/FashionModel_010_0.8748.hdf5\n",
      "42000/42000 [==============================] - 3s 78us/sample - loss: 0.3295 - acc: 0.8835 - val_loss: 0.3699 - val_acc: 0.8748\n",
      "Epoch 11/50\n",
      "41664/42000 [============================>.] - ETA: 0s - loss: 0.3162 - acc: 0.8856\n",
      "Epoch 00011: val_acc did not improve from 0.87478\n",
      "42000/42000 [==============================] - 3s 77us/sample - loss: 0.3158 - acc: 0.8857 - val_loss: 0.4532 - val_acc: 0.8609\n",
      "Epoch 12/50\n",
      "41824/42000 [============================>.] - ETA: 0s - loss: 0.3120 - acc: 0.8893\n",
      "Epoch 00012: val_acc did not improve from 0.87478\n",
      "42000/42000 [==============================] - 3s 76us/sample - loss: 0.3118 - acc: 0.8894 - val_loss: 0.3878 - val_acc: 0.8661\n",
      "Epoch 13/50\n",
      "41408/42000 [============================>.] - ETA: 0s - loss: 0.2967 - acc: 0.8918\n",
      "Epoch 00013: val_acc did not improve from 0.87478\n",
      "42000/42000 [==============================] - 3s 78us/sample - loss: 0.2972 - acc: 0.8916 - val_loss: 0.3916 - val_acc: 0.8740\n",
      "Epoch 14/50\n",
      "41344/42000 [============================>.] - ETA: 0s - loss: 0.2991 - acc: 0.8913\n",
      "Epoch 00014: val_acc improved from 0.87478 to 0.87883, saving model to ./model/FashionModel_014_0.8788.hdf5\n",
      "42000/42000 [==============================] - 3s 79us/sample - loss: 0.2992 - acc: 0.8912 - val_loss: 0.3709 - val_acc: 0.8788\n",
      "Epoch 15/50\n",
      "41568/42000 [============================>.] - ETA: 0s - loss: 0.2842 - acc: 0.8970\n",
      "Epoch 00015: val_acc improved from 0.87883 to 0.88311, saving model to ./model/FashionModel_015_0.8831.hdf5\n",
      "42000/42000 [==============================] - 3s 78us/sample - loss: 0.2839 - acc: 0.8970 - val_loss: 0.3478 - val_acc: 0.8831\n",
      "Epoch 16/50\n",
      "41344/42000 [============================>.] - ETA: 0s - loss: 0.2767 - acc: 0.8991\n",
      "Epoch 00016: val_acc did not improve from 0.88311\n",
      "42000/42000 [==============================] - 3s 78us/sample - loss: 0.2771 - acc: 0.8990 - val_loss: 0.3741 - val_acc: 0.8777\n",
      "Epoch 17/50\n",
      "41088/42000 [============================>.] - ETA: 0s - loss: 0.2700 - acc: 0.9007\n",
      "Epoch 00017: val_acc did not improve from 0.88311\n",
      "42000/42000 [==============================] - 3s 80us/sample - loss: 0.2713 - acc: 0.9001 - val_loss: 0.4075 - val_acc: 0.8731\n",
      "Epoch 18/50\n",
      "41184/42000 [============================>.] - ETA: 0s - loss: 0.2714 - acc: 0.9018\n",
      "Epoch 00018: val_acc improved from 0.88311 to 0.88444, saving model to ./model/FashionModel_018_0.8844.hdf5\n",
      "42000/42000 [==============================] - 3s 79us/sample - loss: 0.2706 - acc: 0.9023 - val_loss: 0.3851 - val_acc: 0.8844\n",
      "Epoch 19/50\n",
      "41344/42000 [============================>.] - ETA: 0s - loss: 0.2704 - acc: 0.9024\n",
      "Epoch 00019: val_acc did not improve from 0.88444\n",
      "42000/42000 [==============================] - 3s 79us/sample - loss: 0.2700 - acc: 0.9026 - val_loss: 0.3732 - val_acc: 0.8807\n",
      "Epoch 20/50\n",
      "41984/42000 [============================>.] - ETA: 0s - loss: 0.2635 - acc: 0.9046\n",
      "Epoch 00020: val_acc did not improve from 0.88444\n",
      "42000/42000 [==============================] - 3s 77us/sample - loss: 0.2634 - acc: 0.9046 - val_loss: 0.3682 - val_acc: 0.8832\n",
      "Epoch 21/50\n",
      "41728/42000 [============================>.] - ETA: 0s - loss: 0.2485 - acc: 0.9082\n",
      "Epoch 00021: val_acc did not improve from 0.88444\n",
      "42000/42000 [==============================] - 3s 80us/sample - loss: 0.2484 - acc: 0.9082 - val_loss: 0.3814 - val_acc: 0.8800\n",
      "Epoch 22/50\n",
      "41344/42000 [============================>.] - ETA: 0s - loss: 0.2544 - acc: 0.9081\n",
      "Epoch 00022: val_acc improved from 0.88444 to 0.88622, saving model to ./model/FashionModel_022_0.8862.hdf5\n",
      "42000/42000 [==============================] - 3s 78us/sample - loss: 0.2534 - acc: 0.9084 - val_loss: 0.3813 - val_acc: 0.8862\n",
      "Epoch 23/50\n",
      "41600/42000 [============================>.] - ETA: 0s - loss: 0.2507 - acc: 0.9084\n",
      "Epoch 00023: val_acc did not improve from 0.88622\n",
      "42000/42000 [==============================] - 3s 81us/sample - loss: 0.2510 - acc: 0.9081 - val_loss: 0.3985 - val_acc: 0.8784\n",
      "Epoch 24/50\n",
      "41440/42000 [============================>.] - ETA: 0s - loss: 0.2429 - acc: 0.9101\n",
      "Epoch 00024: val_acc did not improve from 0.88622\n",
      "42000/42000 [==============================] - 3s 79us/sample - loss: 0.2425 - acc: 0.9102 - val_loss: 0.4142 - val_acc: 0.8847\n",
      "Epoch 25/50\n",
      "41120/42000 [============================>.] - ETA: 0s - loss: 0.2402 - acc: 0.9121\n",
      "Epoch 00025: val_acc did not improve from 0.88622\n",
      "42000/42000 [==============================] - 3s 76us/sample - loss: 0.2401 - acc: 0.9122 - val_loss: 0.3869 - val_acc: 0.8824\n",
      "Epoch 26/50\n",
      "41376/42000 [============================>.] - ETA: 0s - loss: 0.2400 - acc: 0.9125\n",
      "Epoch 00026: val_acc did not improve from 0.88622\n",
      "42000/42000 [==============================] - 3s 79us/sample - loss: 0.2407 - acc: 0.9121 - val_loss: 0.4580 - val_acc: 0.8650\n",
      "Epoch 27/50\n",
      "41248/42000 [============================>.] - ETA: 0s - loss: 0.2496 - acc: 0.9108- ETA\n",
      "Epoch 00027: val_acc did not improve from 0.88622\n",
      "42000/42000 [==============================] - 3s 77us/sample - loss: 0.2488 - acc: 0.9110 - val_loss: 0.4107 - val_acc: 0.8690\n"
     ]
    }
   ],
   "source": [
    "model3 = Sequential()\n",
    "\n",
    "#Flatten 명령을 통해서 한번에 바로 이미지 데이터를 1차원으로 펴줌\n",
    "model3.add(Flatten(input_shape=(28,28)))\n",
    "\n",
    "# 중간층\n",
    "model3.add(Dense(450, activation=\"relu\")) # 하나의 층\n",
    "model3.add(Dense(300, activation=\"relu\")) # 하나의 층\n",
    "model3.add(Dense(100, activation=\"relu\")) # 하나의 층\n",
    "model3.add(Dense(50, activation=\"relu\")) # 하나의 층\n",
    "\n",
    "model3.add(Dense(10, activation=\"softmax\")) \n",
    "\n",
    "\n",
    "# 2. 학습 / 평가 방법 설정\n",
    "# binary_crossentropy : 2진분류에 사용하는 손실함수(비용함수)\n",
    "# categorical_crossentropy : 다중분류에 사용하는 손실함수\n",
    "# -> 오차의 평균을 구하는것은 mse와 같지만 0~1사이 값으로 변환 후 평균오차를 구함\n",
    "# \n",
    "model3.compile(loss=\"categorical_crossentropy\",  \n",
    "              optimizer = \"Adam\",   # 최적화 함수 : 확률적경사하강법 사용  // SGD도 이외에도 Adam도 있음 \n",
    "              metrics=[\"acc\"]       # metrics : 평가방법을 설정 (정확도 체크)\n",
    "                                    # 분류 문제이기 때문에 정확도를 확인\n",
    "             )\n",
    "\n",
    "# 회귀는 오차만 확인하면 되지만 분류는 정확도까지 확인해줘야 함!!!!!\n",
    "\n",
    "h4 = model3.fit(X_train,y_train_one_hot,\n",
    "                  validation_split=0.3,\n",
    "              epochs=50,  # epochs : 학습 횟수를 설정\n",
    "              batch_size=32, callbacks=[f_mckp, f_early]) # 한번에 데이터를 학습시키는 최소 단위 // 높을 수록 러프하게 학습되고 낮을수고 자세히 학습\n",
    "# verbose : 학습 결과의 출력 형태를 설정하는 명령(0: 출력x, 1:bar형태(디폴트, 2 : ))"
   ]
  },
  {
   "cell_type": "markdown",
   "id": "101232e2",
   "metadata": {},
   "source": [
    "### 저장된 모델 로딩하기"
   ]
  },
  {
   "cell_type": "code",
   "execution_count": 141,
   "id": "4f221565",
   "metadata": {},
   "outputs": [],
   "source": [
    "from tensorflow.keras.models import load_model"
   ]
  },
  {
   "cell_type": "code",
   "execution_count": 142,
   "id": "12ff95b2",
   "metadata": {},
   "outputs": [],
   "source": [
    "best_model = load_model(\"model/FashionModel_022_0.8862.hdf5\")"
   ]
  },
  {
   "cell_type": "code",
   "execution_count": 143,
   "id": "1defbfef",
   "metadata": {},
   "outputs": [
    {
     "name": "stdout",
     "output_type": "stream",
     "text": [
      "10000/10000 [==============================] - 1s 56us/sample - loss: 0.4267 - acc: 0.8800\n"
     ]
    },
    {
     "data": {
      "text/plain": [
       "[0.4267399593770504, 0.88]"
      ]
     },
     "execution_count": 143,
     "metadata": {},
     "output_type": "execute_result"
    }
   ],
   "source": [
    "best_model.evaluate(X_test, y_test_one_hot)"
   ]
  },
  {
   "cell_type": "code",
   "execution_count": null,
   "id": "3cc49607",
   "metadata": {},
   "outputs": [],
   "source": []
  }
 ],
 "metadata": {
  "kernelspec": {
   "display_name": "Python 3",
   "language": "python",
   "name": "python3"
  },
  "language_info": {
   "codemirror_mode": {
    "name": "ipython",
    "version": 3
   },
   "file_extension": ".py",
   "mimetype": "text/x-python",
   "name": "python",
   "nbconvert_exporter": "python",
   "pygments_lexer": "ipython3",
   "version": "3.6.13"
  },
  "toc": {
   "base_numbering": 1,
   "nav_menu": {},
   "number_sections": true,
   "sideBar": true,
   "skip_h1_title": false,
   "title_cell": "Table of Contents",
   "title_sidebar": "Contents",
   "toc_cell": false,
   "toc_position": {},
   "toc_section_display": true,
   "toc_window_display": false
  }
 },
 "nbformat": 4,
 "nbformat_minor": 5
}
