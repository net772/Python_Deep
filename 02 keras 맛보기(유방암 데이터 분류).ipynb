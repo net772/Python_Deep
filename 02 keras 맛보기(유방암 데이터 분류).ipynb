{
 "cells": [
  {
   "cell_type": "markdown",
   "id": "11bed644",
   "metadata": {},
   "source": [
    "#  환자 데이터를 바탕으로 유방암인지 아닌지를 구분해보자!"
   ]
  },
  {
   "cell_type": "code",
   "execution_count": 598,
   "id": "6cd4236a",
   "metadata": {},
   "outputs": [],
   "source": [
    "import numpy as np\n",
    "import pandas as pd\n",
    "import matplotlib.pyplot as plt"
   ]
  },
  {
   "cell_type": "code",
   "execution_count": 599,
   "id": "6a1de39c",
   "metadata": {},
   "outputs": [],
   "source": [
    "from sklearn.datasets import load_breast_cancer"
   ]
  },
  {
   "cell_type": "code",
   "execution_count": 600,
   "id": "849f6095",
   "metadata": {},
   "outputs": [
    {
     "data": {
      "text/plain": [
       "{'data': array([[1.799e+01, 1.038e+01, 1.228e+02, ..., 2.654e-01, 4.601e-01,\n",
       "         1.189e-01],\n",
       "        [2.057e+01, 1.777e+01, 1.329e+02, ..., 1.860e-01, 2.750e-01,\n",
       "         8.902e-02],\n",
       "        [1.969e+01, 2.125e+01, 1.300e+02, ..., 2.430e-01, 3.613e-01,\n",
       "         8.758e-02],\n",
       "        ...,\n",
       "        [1.660e+01, 2.808e+01, 1.083e+02, ..., 1.418e-01, 2.218e-01,\n",
       "         7.820e-02],\n",
       "        [2.060e+01, 2.933e+01, 1.401e+02, ..., 2.650e-01, 4.087e-01,\n",
       "         1.240e-01],\n",
       "        [7.760e+00, 2.454e+01, 4.792e+01, ..., 0.000e+00, 2.871e-01,\n",
       "         7.039e-02]]),\n",
       " 'target': array([0, 0, 0, 0, 0, 0, 0, 0, 0, 0, 0, 0, 0, 0, 0, 0, 0, 0, 0, 1, 1, 1,\n",
       "        0, 0, 0, 0, 0, 0, 0, 0, 0, 0, 0, 0, 0, 0, 0, 1, 0, 0, 0, 0, 0, 0,\n",
       "        0, 0, 1, 0, 1, 1, 1, 1, 1, 0, 0, 1, 0, 0, 1, 1, 1, 1, 0, 1, 0, 0,\n",
       "        1, 1, 1, 1, 0, 1, 0, 0, 1, 0, 1, 0, 0, 1, 1, 1, 0, 0, 1, 0, 0, 0,\n",
       "        1, 1, 1, 0, 1, 1, 0, 0, 1, 1, 1, 0, 0, 1, 1, 1, 1, 0, 1, 1, 0, 1,\n",
       "        1, 1, 1, 1, 1, 1, 1, 0, 0, 0, 1, 0, 0, 1, 1, 1, 0, 0, 1, 0, 1, 0,\n",
       "        0, 1, 0, 0, 1, 1, 0, 1, 1, 0, 1, 1, 1, 1, 0, 1, 1, 1, 1, 1, 1, 1,\n",
       "        1, 1, 0, 1, 1, 1, 1, 0, 0, 1, 0, 1, 1, 0, 0, 1, 1, 0, 0, 1, 1, 1,\n",
       "        1, 0, 1, 1, 0, 0, 0, 1, 0, 1, 0, 1, 1, 1, 0, 1, 1, 0, 0, 1, 0, 0,\n",
       "        0, 0, 1, 0, 0, 0, 1, 0, 1, 0, 1, 1, 0, 1, 0, 0, 0, 0, 1, 1, 0, 0,\n",
       "        1, 1, 1, 0, 1, 1, 1, 1, 1, 0, 0, 1, 1, 0, 1, 1, 0, 0, 1, 0, 1, 1,\n",
       "        1, 1, 0, 1, 1, 1, 1, 1, 0, 1, 0, 0, 0, 0, 0, 0, 0, 0, 0, 0, 0, 0,\n",
       "        0, 0, 1, 1, 1, 1, 1, 1, 0, 1, 0, 1, 1, 0, 1, 1, 0, 1, 0, 0, 1, 1,\n",
       "        1, 1, 1, 1, 1, 1, 1, 1, 1, 1, 1, 0, 1, 1, 0, 1, 0, 1, 1, 1, 1, 1,\n",
       "        1, 1, 1, 1, 1, 1, 1, 1, 1, 0, 1, 1, 1, 0, 1, 0, 1, 1, 1, 1, 0, 0,\n",
       "        0, 1, 1, 1, 1, 0, 1, 0, 1, 0, 1, 1, 1, 0, 1, 1, 1, 1, 1, 1, 1, 0,\n",
       "        0, 0, 1, 1, 1, 1, 1, 1, 1, 1, 1, 1, 1, 0, 0, 1, 0, 0, 0, 1, 0, 0,\n",
       "        1, 1, 1, 1, 1, 0, 1, 1, 1, 1, 1, 0, 1, 1, 1, 0, 1, 1, 0, 0, 1, 1,\n",
       "        1, 1, 1, 1, 0, 1, 1, 1, 1, 1, 1, 1, 0, 1, 1, 1, 1, 1, 0, 1, 1, 0,\n",
       "        1, 1, 1, 1, 1, 1, 1, 1, 1, 1, 1, 1, 0, 1, 0, 0, 1, 0, 1, 1, 1, 1,\n",
       "        1, 0, 1, 1, 0, 1, 0, 1, 1, 0, 1, 0, 1, 1, 1, 1, 1, 1, 1, 1, 0, 0,\n",
       "        1, 1, 1, 1, 1, 1, 0, 1, 1, 1, 1, 1, 1, 1, 1, 1, 1, 0, 1, 1, 1, 1,\n",
       "        1, 1, 1, 0, 1, 0, 1, 1, 0, 1, 1, 1, 1, 1, 0, 0, 1, 0, 1, 0, 1, 1,\n",
       "        1, 1, 1, 0, 1, 1, 0, 1, 0, 1, 0, 0, 1, 1, 1, 0, 1, 1, 1, 1, 1, 1,\n",
       "        1, 1, 1, 1, 1, 0, 1, 0, 0, 1, 1, 1, 1, 1, 1, 1, 1, 1, 1, 1, 1, 1,\n",
       "        1, 1, 1, 1, 1, 1, 1, 1, 1, 1, 1, 1, 0, 0, 0, 0, 0, 0, 1]),\n",
       " 'frame': None,\n",
       " 'target_names': array(['malignant', 'benign'], dtype='<U9'),\n",
       " 'DESCR': '.. _breast_cancer_dataset:\\n\\nBreast cancer wisconsin (diagnostic) dataset\\n--------------------------------------------\\n\\n**Data Set Characteristics:**\\n\\n    :Number of Instances: 569\\n\\n    :Number of Attributes: 30 numeric, predictive attributes and the class\\n\\n    :Attribute Information:\\n        - radius (mean of distances from center to points on the perimeter)\\n        - texture (standard deviation of gray-scale values)\\n        - perimeter\\n        - area\\n        - smoothness (local variation in radius lengths)\\n        - compactness (perimeter^2 / area - 1.0)\\n        - concavity (severity of concave portions of the contour)\\n        - concave points (number of concave portions of the contour)\\n        - symmetry\\n        - fractal dimension (\"coastline approximation\" - 1)\\n\\n        The mean, standard error, and \"worst\" or largest (mean of the three\\n        worst/largest values) of these features were computed for each image,\\n        resulting in 30 features.  For instance, field 0 is Mean Radius, field\\n        10 is Radius SE, field 20 is Worst Radius.\\n\\n        - class:\\n                - WDBC-Malignant\\n                - WDBC-Benign\\n\\n    :Summary Statistics:\\n\\n    ===================================== ====== ======\\n                                           Min    Max\\n    ===================================== ====== ======\\n    radius (mean):                        6.981  28.11\\n    texture (mean):                       9.71   39.28\\n    perimeter (mean):                     43.79  188.5\\n    area (mean):                          143.5  2501.0\\n    smoothness (mean):                    0.053  0.163\\n    compactness (mean):                   0.019  0.345\\n    concavity (mean):                     0.0    0.427\\n    concave points (mean):                0.0    0.201\\n    symmetry (mean):                      0.106  0.304\\n    fractal dimension (mean):             0.05   0.097\\n    radius (standard error):              0.112  2.873\\n    texture (standard error):             0.36   4.885\\n    perimeter (standard error):           0.757  21.98\\n    area (standard error):                6.802  542.2\\n    smoothness (standard error):          0.002  0.031\\n    compactness (standard error):         0.002  0.135\\n    concavity (standard error):           0.0    0.396\\n    concave points (standard error):      0.0    0.053\\n    symmetry (standard error):            0.008  0.079\\n    fractal dimension (standard error):   0.001  0.03\\n    radius (worst):                       7.93   36.04\\n    texture (worst):                      12.02  49.54\\n    perimeter (worst):                    50.41  251.2\\n    area (worst):                         185.2  4254.0\\n    smoothness (worst):                   0.071  0.223\\n    compactness (worst):                  0.027  1.058\\n    concavity (worst):                    0.0    1.252\\n    concave points (worst):               0.0    0.291\\n    symmetry (worst):                     0.156  0.664\\n    fractal dimension (worst):            0.055  0.208\\n    ===================================== ====== ======\\n\\n    :Missing Attribute Values: None\\n\\n    :Class Distribution: 212 - Malignant, 357 - Benign\\n\\n    :Creator:  Dr. William H. Wolberg, W. Nick Street, Olvi L. Mangasarian\\n\\n    :Donor: Nick Street\\n\\n    :Date: November, 1995\\n\\nThis is a copy of UCI ML Breast Cancer Wisconsin (Diagnostic) datasets.\\nhttps://goo.gl/U2Uwz2\\n\\nFeatures are computed from a digitized image of a fine needle\\naspirate (FNA) of a breast mass.  They describe\\ncharacteristics of the cell nuclei present in the image.\\n\\nSeparating plane described above was obtained using\\nMultisurface Method-Tree (MSM-T) [K. P. Bennett, \"Decision Tree\\nConstruction Via Linear Programming.\" Proceedings of the 4th\\nMidwest Artificial Intelligence and Cognitive Science Society,\\npp. 97-101, 1992], a classification method which uses linear\\nprogramming to construct a decision tree.  Relevant features\\nwere selected using an exhaustive search in the space of 1-4\\nfeatures and 1-3 separating planes.\\n\\nThe actual linear program used to obtain the separating plane\\nin the 3-dimensional space is that described in:\\n[K. P. Bennett and O. L. Mangasarian: \"Robust Linear\\nProgramming Discrimination of Two Linearly Inseparable Sets\",\\nOptimization Methods and Software 1, 1992, 23-34].\\n\\nThis database is also available through the UW CS ftp server:\\n\\nftp ftp.cs.wisc.edu\\ncd math-prog/cpo-dataset/machine-learn/WDBC/\\n\\n.. topic:: References\\n\\n   - W.N. Street, W.H. Wolberg and O.L. Mangasarian. Nuclear feature extraction \\n     for breast tumor diagnosis. IS&T/SPIE 1993 International Symposium on \\n     Electronic Imaging: Science and Technology, volume 1905, pages 861-870,\\n     San Jose, CA, 1993.\\n   - O.L. Mangasarian, W.N. Street and W.H. Wolberg. Breast cancer diagnosis and \\n     prognosis via linear programming. Operations Research, 43(4), pages 570-577, \\n     July-August 1995.\\n   - W.H. Wolberg, W.N. Street, and O.L. Mangasarian. Machine learning techniques\\n     to diagnose breast cancer from fine-needle aspirates. Cancer Letters 77 (1994) \\n     163-171.',\n",
       " 'feature_names': array(['mean radius', 'mean texture', 'mean perimeter', 'mean area',\n",
       "        'mean smoothness', 'mean compactness', 'mean concavity',\n",
       "        'mean concave points', 'mean symmetry', 'mean fractal dimension',\n",
       "        'radius error', 'texture error', 'perimeter error', 'area error',\n",
       "        'smoothness error', 'compactness error', 'concavity error',\n",
       "        'concave points error', 'symmetry error',\n",
       "        'fractal dimension error', 'worst radius', 'worst texture',\n",
       "        'worst perimeter', 'worst area', 'worst smoothness',\n",
       "        'worst compactness', 'worst concavity', 'worst concave points',\n",
       "        'worst symmetry', 'worst fractal dimension'], dtype='<U23'),\n",
       " 'filename': 'C:\\\\Users\\\\smhrd\\\\anaconda3\\\\envs\\\\deep\\\\lib\\\\site-packages\\\\sklearn\\\\datasets\\\\data\\\\breast_cancer.csv'}"
      ]
     },
     "execution_count": 600,
     "metadata": {},
     "output_type": "execute_result"
    }
   ],
   "source": [
    "data = load_breast_cancer()\n",
    "data"
   ]
  },
  {
   "cell_type": "code",
   "execution_count": 601,
   "id": "cd292b4f",
   "metadata": {},
   "outputs": [
    {
     "data": {
      "text/plain": [
       "dict_keys(['data', 'target', 'frame', 'target_names', 'DESCR', 'feature_names', 'filename'])"
      ]
     },
     "execution_count": 601,
     "metadata": {},
     "output_type": "execute_result"
    }
   ],
   "source": [
    "data.keys()"
   ]
  },
  {
   "cell_type": "code",
   "execution_count": 602,
   "id": "d12547d1",
   "metadata": {},
   "outputs": [],
   "source": [
    "X = data.data\n",
    "y = data.target"
   ]
  },
  {
   "cell_type": "code",
   "execution_count": 603,
   "id": "9c8e6fec",
   "metadata": {},
   "outputs": [
    {
     "data": {
      "text/plain": [
       "((569, 30), (569,))"
      ]
     },
     "execution_count": 603,
     "metadata": {},
     "output_type": "execute_result"
    }
   ],
   "source": [
    "X.shape, y.shape"
   ]
  },
  {
   "cell_type": "code",
   "execution_count": 604,
   "id": "fc0d23a9",
   "metadata": {},
   "outputs": [],
   "source": [
    "from sklearn.model_selection import train_test_split"
   ]
  },
  {
   "cell_type": "code",
   "execution_count": 605,
   "id": "6bfc89b6",
   "metadata": {},
   "outputs": [],
   "source": [
    "X_train, X_test, y_train, y_test = train_test_split(X,y,random_state=3)"
   ]
  },
  {
   "cell_type": "code",
   "execution_count": 606,
   "id": "e1aebdb8",
   "metadata": {},
   "outputs": [
    {
     "name": "stdout",
     "output_type": "stream",
     "text": [
      "(426, 30)\n",
      "(143, 30)\n",
      "(426,)\n",
      "(143,)\n"
     ]
    }
   ],
   "source": [
    "print(X_train.shape)\n",
    "print(X_test.shape)\n",
    "print(y_train.shape)\n",
    "print(y_test.shape)"
   ]
  },
  {
   "cell_type": "markdown",
   "id": "6702b1d1",
   "metadata": {},
   "source": [
    "- 1. 신경망 구조 설계\n",
    "- 2. 학습/평가 방법 설정\n",
    "- 3. 학습 및 시각화\n",
    "- 4. 평가"
   ]
  },
  {
   "cell_type": "code",
   "execution_count": 607,
   "id": "5286559c",
   "metadata": {},
   "outputs": [],
   "source": [
    "from tensorflow.keras import Sequential\n",
    "from tensorflow.keras.layers import Dense"
   ]
  },
  {
   "cell_type": "code",
   "execution_count": 608,
   "id": "34512548",
   "metadata": {},
   "outputs": [
    {
     "name": "stdout",
     "output_type": "stream",
     "text": [
      "Model: \"sequential_41\"\n",
      "_________________________________________________________________\n",
      "Layer (type)                 Output Shape              Param #   \n",
      "=================================================================\n",
      "dense_154 (Dense)            (None, 1000)              31000     \n",
      "_________________________________________________________________\n",
      "dense_155 (Dense)            (None, 50)                50050     \n",
      "_________________________________________________________________\n",
      "dense_156 (Dense)            (None, 1)                 51        \n",
      "=================================================================\n",
      "Total params: 81,101\n",
      "Trainable params: 81,101\n",
      "Non-trainable params: 0\n",
      "_________________________________________________________________\n"
     ]
    }
   ],
   "source": [
    "#1. 신경망 구조 설계\n",
    "model = Sequential()\n",
    "\n",
    "# 입력층(input_dim) + 중간층(Dense)\n",
    "# 첫 입력층(데이터의 특성 개수) input_dim(17) , 10(다음 층 뉴런 10개)\n",
    "# activation : 활성화함수를 설정(들어온 자극(데이터)에 대한 응답여부를 결정하는 함수)\n",
    "\n",
    "model.add(Dense(1000, input_dim=30, activation=\"sigmoid\"))\n",
    "\n",
    "# 중간층\n",
    "model.add(Dense(50, activation=\"sigmoid\")) # 하나의 층\n",
    "\n",
    "# 출력층\n",
    "# 출력층은 회귀(활성화함수x), 2진분류(sigmoid), 다중분류에 따라서 사용하는 함수가 달라짐\n",
    "model.add(Dense(1, activation=\"sigmoid\")) \n",
    "\n",
    "model.summary()"
   ]
  },
  {
   "cell_type": "markdown",
   "id": "f5ff06c5",
   "metadata": {},
   "source": [
    "## activation(활성화함수) - 자극에 대한 반응여부를 결정하는 함수\n",
    "- 1. 회귀 : linear(항등함수) -> 신경망에서 도출된 수치값을 그대로 예측에 사용\n",
    "- 2. 분류 -> 딥러닝은 선형 모델을 기반으로 하고 있기 때문에 여기서 도출된 수치 값으로는 분류 문제를 예측하기 힘듦\n",
    "    - 분류 모델은 확률 정보를 가지고 판단하는 것이 더욱 정확\n",
    "    - 이진분류 : sigmoid -> 0또는 1로 분류(0.5를 기준으로 높고 낮은지에 대한 확률 정보를 바탕으로 최종 출력을 결정)"
   ]
  },
  {
   "cell_type": "markdown",
   "id": "6b0d22c5",
   "metadata": {},
   "source": [
    "### 신경망 학습/평가 방법 설정"
   ]
  },
  {
   "cell_type": "code",
   "execution_count": 609,
   "id": "71f6357a",
   "metadata": {},
   "outputs": [],
   "source": [
    "# 2. 학습 / 평가 방법 설정\n",
    "# binary_crossentropy : 2진분류에 사용하는 손실함수(비용함수)\n",
    "# -> 오차의 평균을 구하는것은 mse와 같지만 0~1사이 값으로 변환 후 평균오차를 구함\n",
    "# \n",
    "model.compile(loss=\"binary_crossentropy\",  \n",
    "             optimizer = \"Adam\",   # 최적화 함수 : 확률적경사하강법 사용  // SGD도 이외에도 Adam도 있음 \n",
    "              metrics=[\"acc\"]      # metrics : 평가방법을 설정 (정확도 체크)\n",
    "                                    # 분류 문제이기 때문에 정확도를 확인\n",
    "             )\n",
    "\n",
    "# 회귀는 오차만 확인하면 되지만 분류는 정확도까지 확인해줘야 함!!!!!"
   ]
  },
  {
   "cell_type": "markdown",
   "id": "077c97bc",
   "metadata": {},
   "source": [
    "###  학습 및 학습과정 "
   ]
  },
  {
   "cell_type": "code",
   "execution_count": 610,
   "id": "d6b2fcc5",
   "metadata": {
    "scrolled": true
   },
   "outputs": [
    {
     "name": "stdout",
     "output_type": "stream",
     "text": [
      "Train on 426 samples\n",
      "Epoch 1/150\n",
      "426/426 [==============================] - 0s 695us/sample - loss: 0.6148 - acc: 0.6268\n",
      "Epoch 2/150\n",
      "426/426 [==============================] - 0s 77us/sample - loss: 0.5578 - acc: 0.6972\n",
      "Epoch 3/150\n",
      "426/426 [==============================] - 0s 80us/sample - loss: 0.5355 - acc: 0.8169\n",
      "Epoch 4/150\n",
      "426/426 [==============================] - 0s 77us/sample - loss: 0.5504 - acc: 0.7629\n",
      "Epoch 5/150\n",
      "426/426 [==============================] - 0s 89us/sample - loss: 0.5070 - acc: 0.8380\n",
      "Epoch 6/150\n",
      "426/426 [==============================] - 0s 73us/sample - loss: 0.4856 - acc: 0.8638\n",
      "Epoch 7/150\n",
      "426/426 [==============================] - 0s 68us/sample - loss: 0.4780 - acc: 0.8568\n",
      "Epoch 8/150\n",
      "426/426 [==============================] - 0s 73us/sample - loss: 0.4508 - acc: 0.8756\n",
      "Epoch 9/150\n",
      "426/426 [==============================] - 0s 68us/sample - loss: 0.4781 - acc: 0.8286\n",
      "Epoch 10/150\n",
      "426/426 [==============================] - 0s 68us/sample - loss: 0.4548 - acc: 0.8380\n",
      "Epoch 11/150\n",
      "426/426 [==============================] - 0s 73us/sample - loss: 0.4668 - acc: 0.8357\n",
      "Epoch 12/150\n",
      "426/426 [==============================] - 0s 66us/sample - loss: 0.4285 - acc: 0.8592\n",
      "Epoch 13/150\n",
      "426/426 [==============================] - 0s 63us/sample - loss: 0.4121 - acc: 0.8709\n",
      "Epoch 14/150\n",
      "426/426 [==============================] - 0s 75us/sample - loss: 0.4124 - acc: 0.8451\n",
      "Epoch 15/150\n",
      "426/426 [==============================] - 0s 70us/sample - loss: 0.4272 - acc: 0.8568\n",
      "Epoch 16/150\n",
      "426/426 [==============================] - 0s 70us/sample - loss: 0.4049 - acc: 0.8474\n",
      "Epoch 17/150\n",
      "426/426 [==============================] - 0s 75us/sample - loss: 0.4141 - acc: 0.8498\n",
      "Epoch 18/150\n",
      "426/426 [==============================] - 0s 70us/sample - loss: 0.4020 - acc: 0.8498\n",
      "Epoch 19/150\n",
      "426/426 [==============================] - 0s 70us/sample - loss: 0.3785 - acc: 0.8638\n",
      "Epoch 20/150\n",
      "426/426 [==============================] - 0s 73us/sample - loss: 0.4219 - acc: 0.8263\n",
      "Epoch 21/150\n",
      "426/426 [==============================] - 0s 68us/sample - loss: 0.4314 - acc: 0.8239\n",
      "Epoch 22/150\n",
      "426/426 [==============================] - 0s 75us/sample - loss: 0.3643 - acc: 0.8685\n",
      "Epoch 23/150\n",
      "426/426 [==============================] - 0s 68us/sample - loss: 0.3776 - acc: 0.8545\n",
      "Epoch 24/150\n",
      "426/426 [==============================] - 0s 61us/sample - loss: 0.4511 - acc: 0.8075\n",
      "Epoch 25/150\n",
      "426/426 [==============================] - 0s 68us/sample - loss: 0.4047 - acc: 0.8521\n",
      "Epoch 26/150\n",
      "426/426 [==============================] - 0s 68us/sample - loss: 0.4131 - acc: 0.8263\n",
      "Epoch 27/150\n",
      "426/426 [==============================] - 0s 63us/sample - loss: 0.3738 - acc: 0.8638\n",
      "Epoch 28/150\n",
      "426/426 [==============================] - 0s 68us/sample - loss: 0.3765 - acc: 0.8451\n",
      "Epoch 29/150\n",
      "426/426 [==============================] - 0s 63us/sample - loss: 0.3859 - acc: 0.8380\n",
      "Epoch 30/150\n",
      "426/426 [==============================] - 0s 61us/sample - loss: 0.3912 - acc: 0.8357\n",
      "Epoch 31/150\n",
      "426/426 [==============================] - 0s 66us/sample - loss: 0.3285 - acc: 0.8920\n",
      "Epoch 32/150\n",
      "426/426 [==============================] - 0s 68us/sample - loss: 0.3179 - acc: 0.8897\n",
      "Epoch 33/150\n",
      "426/426 [==============================] - 0s 66us/sample - loss: 0.3252 - acc: 0.8826\n",
      "Epoch 34/150\n",
      "426/426 [==============================] - 0s 66us/sample - loss: 0.3288 - acc: 0.8944\n",
      "Epoch 35/150\n",
      "426/426 [==============================] - 0s 70us/sample - loss: 0.3440 - acc: 0.8732\n",
      "Epoch 36/150\n",
      "426/426 [==============================] - 0s 66us/sample - loss: 0.3547 - acc: 0.8545\n",
      "Epoch 37/150\n",
      "426/426 [==============================] - 0s 63us/sample - loss: 0.4092 - acc: 0.8286\n",
      "Epoch 38/150\n",
      "426/426 [==============================] - 0s 70us/sample - loss: 0.3975 - acc: 0.8451\n",
      "Epoch 39/150\n",
      "426/426 [==============================] - 0s 66us/sample - loss: 0.2942 - acc: 0.9038\n",
      "Epoch 40/150\n",
      "426/426 [==============================] - 0s 59us/sample - loss: 0.3586 - acc: 0.8545\n",
      "Epoch 41/150\n",
      "426/426 [==============================] - 0s 68us/sample - loss: 0.3013 - acc: 0.8920\n",
      "Epoch 42/150\n",
      "426/426 [==============================] - 0s 66us/sample - loss: 0.3120 - acc: 0.8920\n",
      "Epoch 43/150\n",
      "426/426 [==============================] - 0s 61us/sample - loss: 0.3582 - acc: 0.8662\n",
      "Epoch 44/150\n",
      "426/426 [==============================] - 0s 61us/sample - loss: 0.3768 - acc: 0.8474\n",
      "Epoch 45/150\n",
      "426/426 [==============================] - 0s 61us/sample - loss: 0.3135 - acc: 0.8920\n",
      "Epoch 46/150\n",
      "426/426 [==============================] - 0s 63us/sample - loss: 0.3219 - acc: 0.8873\n",
      "Epoch 47/150\n",
      "426/426 [==============================] - 0s 61us/sample - loss: 0.2894 - acc: 0.9108\n",
      "Epoch 48/150\n",
      "426/426 [==============================] - 0s 59us/sample - loss: 0.3552 - acc: 0.8615\n",
      "Epoch 49/150\n",
      "426/426 [==============================] - 0s 63us/sample - loss: 0.3115 - acc: 0.8944\n",
      "Epoch 50/150\n",
      "426/426 [==============================] - 0s 61us/sample - loss: 0.3622 - acc: 0.8568\n",
      "Epoch 51/150\n",
      "426/426 [==============================] - 0s 59us/sample - loss: 0.3173 - acc: 0.8709\n",
      "Epoch 52/150\n",
      "426/426 [==============================] - 0s 61us/sample - loss: 0.3920 - acc: 0.8427\n",
      "Epoch 53/150\n",
      "426/426 [==============================] - 0s 61us/sample - loss: 0.3543 - acc: 0.8592\n",
      "Epoch 54/150\n",
      "426/426 [==============================] - 0s 66us/sample - loss: 0.3657 - acc: 0.8498\n",
      "Epoch 55/150\n",
      "426/426 [==============================] - 0s 66us/sample - loss: 0.3458 - acc: 0.8662\n",
      "Epoch 56/150\n",
      "426/426 [==============================] - 0s 68us/sample - loss: 0.3599 - acc: 0.8498\n",
      "Epoch 57/150\n",
      "426/426 [==============================] - 0s 70us/sample - loss: 0.2741 - acc: 0.9014\n",
      "Epoch 58/150\n",
      "426/426 [==============================] - 0s 73us/sample - loss: 0.3350 - acc: 0.8638\n",
      "Epoch 59/150\n",
      "426/426 [==============================] - 0s 70us/sample - loss: 0.3165 - acc: 0.8826\n",
      "Epoch 60/150\n",
      "426/426 [==============================] - 0s 68us/sample - loss: 0.3005 - acc: 0.8826\n",
      "Epoch 61/150\n",
      "426/426 [==============================] - 0s 66us/sample - loss: 0.2725 - acc: 0.9014\n",
      "Epoch 62/150\n",
      "426/426 [==============================] - 0s 63us/sample - loss: 0.3194 - acc: 0.8779\n",
      "Epoch 63/150\n",
      "426/426 [==============================] - 0s 63us/sample - loss: 0.2968 - acc: 0.8920\n",
      "Epoch 64/150\n",
      "426/426 [==============================] - 0s 70us/sample - loss: 0.2970 - acc: 0.8826\n",
      "Epoch 65/150\n",
      "426/426 [==============================] - 0s 70us/sample - loss: 0.3046 - acc: 0.8826\n",
      "Epoch 66/150\n",
      "426/426 [==============================] - 0s 66us/sample - loss: 0.2699 - acc: 0.8991\n",
      "Epoch 67/150\n",
      "426/426 [==============================] - 0s 66us/sample - loss: 0.2808 - acc: 0.8920\n",
      "Epoch 68/150\n",
      "426/426 [==============================] - 0s 63us/sample - loss: 0.2732 - acc: 0.8897\n",
      "Epoch 69/150\n",
      "426/426 [==============================] - 0s 61us/sample - loss: 0.3712 - acc: 0.8310\n",
      "Epoch 70/150\n",
      "426/426 [==============================] - 0s 59us/sample - loss: 0.3149 - acc: 0.8756\n",
      "Epoch 71/150\n",
      "426/426 [==============================] - 0s 63us/sample - loss: 0.3483 - acc: 0.8545\n",
      "Epoch 72/150\n",
      "426/426 [==============================] - 0s 61us/sample - loss: 0.3135 - acc: 0.8850\n",
      "Epoch 73/150\n",
      "426/426 [==============================] - 0s 66us/sample - loss: 0.3181 - acc: 0.8474\n",
      "Epoch 74/150\n",
      "426/426 [==============================] - 0s 70us/sample - loss: 0.2884 - acc: 0.9038\n",
      "Epoch 75/150\n",
      "426/426 [==============================] - 0s 68us/sample - loss: 0.2604 - acc: 0.8967\n",
      "Epoch 76/150\n",
      "426/426 [==============================] - 0s 68us/sample - loss: 0.3071 - acc: 0.8662\n",
      "Epoch 77/150\n",
      "426/426 [==============================] - 0s 66us/sample - loss: 0.3063 - acc: 0.8897\n",
      "Epoch 78/150\n",
      "426/426 [==============================] - 0s 66us/sample - loss: 0.3159 - acc: 0.8850\n",
      "Epoch 79/150\n",
      "426/426 [==============================] - 0s 84us/sample - loss: 0.3010 - acc: 0.8920\n",
      "Epoch 80/150\n",
      "426/426 [==============================] - 0s 70us/sample - loss: 0.2615 - acc: 0.8991\n",
      "Epoch 81/150\n",
      "426/426 [==============================] - 0s 70us/sample - loss: 0.2675 - acc: 0.8991\n",
      "Epoch 82/150\n"
     ]
    },
    {
     "name": "stdout",
     "output_type": "stream",
     "text": [
      "426/426 [==============================] - 0s 68us/sample - loss: 0.3087 - acc: 0.8803\n",
      "Epoch 83/150\n",
      "426/426 [==============================] - 0s 75us/sample - loss: 0.3000 - acc: 0.8873\n",
      "Epoch 84/150\n",
      "426/426 [==============================] - 0s 68us/sample - loss: 0.2887 - acc: 0.8991\n",
      "Epoch 85/150\n",
      "426/426 [==============================] - 0s 77us/sample - loss: 0.2776 - acc: 0.8850\n",
      "Epoch 86/150\n",
      "426/426 [==============================] - 0s 70us/sample - loss: 0.3246 - acc: 0.8521\n",
      "Epoch 87/150\n",
      "426/426 [==============================] - 0s 66us/sample - loss: 0.2829 - acc: 0.8967\n",
      "Epoch 88/150\n",
      "426/426 [==============================] - 0s 73us/sample - loss: 0.2726 - acc: 0.8967\n",
      "Epoch 89/150\n",
      "426/426 [==============================] - 0s 66us/sample - loss: 0.3188 - acc: 0.8545\n",
      "Epoch 90/150\n",
      "426/426 [==============================] - 0s 68us/sample - loss: 0.2839 - acc: 0.8850\n",
      "Epoch 91/150\n",
      "426/426 [==============================] - 0s 63us/sample - loss: 0.2915 - acc: 0.8826\n",
      "Epoch 92/150\n",
      "426/426 [==============================] - 0s 68us/sample - loss: 0.3383 - acc: 0.8568\n",
      "Epoch 93/150\n",
      "426/426 [==============================] - 0s 63us/sample - loss: 0.3263 - acc: 0.8638\n",
      "Epoch 94/150\n",
      "426/426 [==============================] - 0s 66us/sample - loss: 0.3113 - acc: 0.8826\n",
      "Epoch 95/150\n",
      "426/426 [==============================] - 0s 66us/sample - loss: 0.2947 - acc: 0.8779\n",
      "Epoch 96/150\n",
      "426/426 [==============================] - 0s 63us/sample - loss: 0.3201 - acc: 0.8803\n",
      "Epoch 97/150\n",
      "426/426 [==============================] - 0s 66us/sample - loss: 0.2647 - acc: 0.9038\n",
      "Epoch 98/150\n",
      "426/426 [==============================] - 0s 66us/sample - loss: 0.3052 - acc: 0.8850\n",
      "Epoch 99/150\n",
      "426/426 [==============================] - 0s 70us/sample - loss: 0.2937 - acc: 0.8850\n",
      "Epoch 100/150\n",
      "426/426 [==============================] - 0s 68us/sample - loss: 0.2894 - acc: 0.8967\n",
      "Epoch 101/150\n",
      "426/426 [==============================] - 0s 73us/sample - loss: 0.2702 - acc: 0.8944\n",
      "Epoch 102/150\n",
      "426/426 [==============================] - 0s 77us/sample - loss: 0.2853 - acc: 0.8944\n",
      "Epoch 103/150\n",
      "426/426 [==============================] - 0s 73us/sample - loss: 0.2640 - acc: 0.8991\n",
      "Epoch 104/150\n",
      "426/426 [==============================] - 0s 70us/sample - loss: 0.2378 - acc: 0.9178\n",
      "Epoch 105/150\n",
      "426/426 [==============================] - 0s 68us/sample - loss: 0.2773 - acc: 0.8826\n",
      "Epoch 106/150\n",
      "426/426 [==============================] - 0s 66us/sample - loss: 0.2768 - acc: 0.8850\n",
      "Epoch 107/150\n",
      "426/426 [==============================] - 0s 61us/sample - loss: 0.2898 - acc: 0.8967\n",
      "Epoch 108/150\n",
      "426/426 [==============================] - 0s 59us/sample - loss: 0.3288 - acc: 0.8803\n",
      "Epoch 109/150\n",
      "426/426 [==============================] - 0s 59us/sample - loss: 0.3186 - acc: 0.8662\n",
      "Epoch 110/150\n",
      "426/426 [==============================] - 0s 61us/sample - loss: 0.2900 - acc: 0.8967\n",
      "Epoch 111/150\n",
      "426/426 [==============================] - 0s 59us/sample - loss: 0.3046 - acc: 0.8732\n",
      "Epoch 112/150\n",
      "426/426 [==============================] - 0s 63us/sample - loss: 0.3170 - acc: 0.8779\n",
      "Epoch 113/150\n",
      "426/426 [==============================] - 0s 59us/sample - loss: 0.2700 - acc: 0.8944\n",
      "Epoch 114/150\n",
      "426/426 [==============================] - 0s 61us/sample - loss: 0.2852 - acc: 0.9061\n",
      "Epoch 115/150\n",
      "426/426 [==============================] - 0s 61us/sample - loss: 0.2830 - acc: 0.8897\n",
      "Epoch 116/150\n",
      "426/426 [==============================] - 0s 59us/sample - loss: 0.2716 - acc: 0.8991\n",
      "Epoch 117/150\n",
      "426/426 [==============================] - 0s 59us/sample - loss: 0.3289 - acc: 0.8592\n",
      "Epoch 118/150\n",
      "426/426 [==============================] - 0s 66us/sample - loss: 0.2942 - acc: 0.8920\n",
      "Epoch 119/150\n",
      "426/426 [==============================] - 0s 61us/sample - loss: 0.3024 - acc: 0.8826\n",
      "Epoch 120/150\n",
      "426/426 [==============================] - 0s 61us/sample - loss: 0.2961 - acc: 0.8850\n",
      "Epoch 121/150\n",
      "426/426 [==============================] - 0s 59us/sample - loss: 0.2740 - acc: 0.9014\n",
      "Epoch 122/150\n",
      "426/426 [==============================] - 0s 61us/sample - loss: 0.2865 - acc: 0.8944\n",
      "Epoch 123/150\n",
      "426/426 [==============================] - 0s 61us/sample - loss: 0.2582 - acc: 0.9108\n",
      "Epoch 124/150\n",
      "426/426 [==============================] - 0s 61us/sample - loss: 0.2838 - acc: 0.8897\n",
      "Epoch 125/150\n",
      "426/426 [==============================] - 0s 59us/sample - loss: 0.2733 - acc: 0.8873\n",
      "Epoch 126/150\n",
      "426/426 [==============================] - 0s 59us/sample - loss: 0.2986 - acc: 0.8850\n",
      "Epoch 127/150\n",
      "426/426 [==============================] - 0s 61us/sample - loss: 0.2912 - acc: 0.8897\n",
      "Epoch 128/150\n",
      "426/426 [==============================] - 0s 59us/sample - loss: 0.2907 - acc: 0.8826\n",
      "Epoch 129/150\n",
      "426/426 [==============================] - 0s 63us/sample - loss: 0.3047 - acc: 0.8662\n",
      "Epoch 130/150\n",
      "426/426 [==============================] - 0s 63us/sample - loss: 0.2762 - acc: 0.8944\n",
      "Epoch 131/150\n",
      "426/426 [==============================] - 0s 63us/sample - loss: 0.2870 - acc: 0.8873\n",
      "Epoch 132/150\n",
      "426/426 [==============================] - 0s 66us/sample - loss: 0.2831 - acc: 0.9038\n",
      "Epoch 133/150\n",
      "426/426 [==============================] - 0s 61us/sample - loss: 0.2665 - acc: 0.9014\n",
      "Epoch 134/150\n",
      "426/426 [==============================] - 0s 63us/sample - loss: 0.2550 - acc: 0.9038\n",
      "Epoch 135/150\n",
      "426/426 [==============================] - 0s 63us/sample - loss: 0.2849 - acc: 0.8685\n",
      "Epoch 136/150\n",
      "426/426 [==============================] - 0s 59us/sample - loss: 0.2453 - acc: 0.9108\n",
      "Epoch 137/150\n",
      "426/426 [==============================] - 0s 70us/sample - loss: 0.3326 - acc: 0.8662\n",
      "Epoch 138/150\n",
      "426/426 [==============================] - 0s 70us/sample - loss: 0.2577 - acc: 0.8944\n",
      "Epoch 139/150\n",
      "426/426 [==============================] - 0s 63us/sample - loss: 0.2775 - acc: 0.8897\n",
      "Epoch 140/150\n",
      "426/426 [==============================] - 0s 63us/sample - loss: 0.2548 - acc: 0.9155\n",
      "Epoch 141/150\n",
      "426/426 [==============================] - 0s 63us/sample - loss: 0.3074 - acc: 0.8732\n",
      "Epoch 142/150\n",
      "426/426 [==============================] - 0s 59us/sample - loss: 0.2777 - acc: 0.9038\n",
      "Epoch 143/150\n",
      "426/426 [==============================] - 0s 63us/sample - loss: 0.2899 - acc: 0.8850\n",
      "Epoch 144/150\n",
      "426/426 [==============================] - 0s 66us/sample - loss: 0.2813 - acc: 0.9061\n",
      "Epoch 145/150\n",
      "426/426 [==============================] - 0s 61us/sample - loss: 0.2770 - acc: 0.8897\n",
      "Epoch 146/150\n",
      "426/426 [==============================] - 0s 61us/sample - loss: 0.2605 - acc: 0.9061\n",
      "Epoch 147/150\n",
      "426/426 [==============================] - 0s 63us/sample - loss: 0.3250 - acc: 0.8709\n",
      "Epoch 148/150\n",
      "426/426 [==============================] - 0s 61us/sample - loss: 0.2874 - acc: 0.9014\n",
      "Epoch 149/150\n",
      "426/426 [==============================] - 0s 61us/sample - loss: 0.2874 - acc: 0.8944\n",
      "Epoch 150/150\n",
      "426/426 [==============================] - 0s 61us/sample - loss: 0.2578 - acc: 0.9014\n"
     ]
    }
   ],
   "source": [
    "h = model.fit(X_train, y_train, epochs=150) # epochs : 학습 횟수를 설정"
   ]
  },
  {
   "cell_type": "markdown",
   "id": "4c39af9e",
   "metadata": {},
   "source": [
    "### 시각화"
   ]
  },
  {
   "cell_type": "code",
   "execution_count": 611,
   "id": "3a4afd17",
   "metadata": {},
   "outputs": [
    {
     "data": {
      "image/png": "[encoded data removed]",
      "text/plain": [
       "<Figure size 1080x360 with 1 Axes>"
      ]
     },
     "metadata": {
      "needs_background": "light"
     },
     "output_type": "display_data"
    }
   ],
   "source": [
    "# 시각화\n",
    "plt.figure(figsize=(15,5))\n",
    "\n",
    "# 라인 차트를 생성\n",
    "plt.plot(range(1,151),  # epochs 가 100까지 설정을 했기 때문에\n",
    "            h.history['acc'],    # history : 학습시 출력되는 loss 혹은 정확도 값을 가져오기 위한 명령\n",
    "            label='acc')\n",
    "plt.legend() # 범례표시\n",
    "plt.show()"
   ]
  },
  {
   "cell_type": "markdown",
   "id": "ed922a35",
   "metadata": {},
   "source": [
    "### 모델평가 "
   ]
  },
  {
   "cell_type": "code",
   "execution_count": 612,
   "id": "a6ce3825",
   "metadata": {
    "scrolled": true
   },
   "outputs": [
    {
     "name": "stdout",
     "output_type": "stream",
     "text": [
      "143/143 [==============================] - 0s 513us/sample - loss: 0.2567 - acc: 0.9231\n"
     ]
    },
    {
     "data": {
      "text/plain": [
       "[0.2566849012058098, 0.9230769]"
      ]
     },
     "execution_count": 612,
     "metadata": {},
     "output_type": "execute_result"
    }
   ],
   "source": [
    "model.evaluate(X_test, y_test)"
   ]
  },
  {
   "cell_type": "code",
   "execution_count": null,
   "id": "e6b77f53",
   "metadata": {},
   "outputs": [],
   "source": []
  },
  {
   "cell_type": "code",
   "execution_count": null,
   "id": "40889127",
   "metadata": {},
   "outputs": [],
   "source": []
  },
  {
   "cell_type": "code",
   "execution_count": null,
   "id": "97ce4a53",
   "metadata": {},
   "outputs": [],
   "source": []
  },
  {
   "cell_type": "code",
   "execution_count": null,
   "id": "9a9e66d4",
   "metadata": {},
   "outputs": [],
   "source": []
  }
 ],
 "metadata": {
  "kernelspec": {
   "display_name": "Python 3",
   "language": "python",
   "name": "python3"
  },
  "language_info": {
   "codemirror_mode": {
    "name": "ipython",
    "version": 3
   },
   "file_extension": ".py",
   "mimetype": "text/x-python",
   "name": "python",
   "nbconvert_exporter": "python",
   "pygments_lexer": "ipython3",
   "version": "3.6.13"
  },
  "toc": {
   "base_numbering": 1,
   "nav_menu": {},
   "number_sections": true,
   "sideBar": true,
   "skip_h1_title": false,
   "title_cell": "Table of Contents",
   "title_sidebar": "Contents",
   "toc_cell": false,
   "toc_position": {},
   "toc_section_display": true,
   "toc_window_display": false
  }
 },
 "nbformat": 4,
 "nbformat_minor": 5
}
