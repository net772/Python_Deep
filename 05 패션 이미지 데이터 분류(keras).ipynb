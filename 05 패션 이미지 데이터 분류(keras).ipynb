{
 "cells": [
  {
   "cell_type": "markdown",
   "id": "b11d4f7f",
   "metadata": {},
   "source": [
    "# 패션 이미지 데이터(10가지)를 분류 "
   ]
  },
  {
   "cell_type": "code",
   "execution_count": 1,
   "id": "f4eba243",
   "metadata": {},
   "outputs": [],
   "source": [
    "from tensorflow.keras.datasets import fashion_mnist\n",
    "import numpy as np\n",
    "import pandas as pd\n",
    "import matplotlib.pyplot as plt"
   ]
  },
  {
   "cell_type": "code",
   "execution_count": 2,
   "id": "c26e7008",
   "metadata": {},
   "outputs": [
    {
     "data": {
      "text/plain": [
       "((array([[[0, 0, 0, ..., 0, 0, 0],\n",
       "          [0, 0, 0, ..., 0, 0, 0],\n",
       "          [0, 0, 0, ..., 0, 0, 0],\n",
       "          ...,\n",
       "          [0, 0, 0, ..., 0, 0, 0],\n",
       "          [0, 0, 0, ..., 0, 0, 0],\n",
       "          [0, 0, 0, ..., 0, 0, 0]],\n",
       "  \n",
       "         [[0, 0, 0, ..., 0, 0, 0],\n",
       "          [0, 0, 0, ..., 0, 0, 0],\n",
       "          [0, 0, 0, ..., 0, 0, 0],\n",
       "          ...,\n",
       "          [0, 0, 0, ..., 0, 0, 0],\n",
       "          [0, 0, 0, ..., 0, 0, 0],\n",
       "          [0, 0, 0, ..., 0, 0, 0]],\n",
       "  \n",
       "         [[0, 0, 0, ..., 0, 0, 0],\n",
       "          [0, 0, 0, ..., 0, 0, 0],\n",
       "          [0, 0, 0, ..., 0, 0, 0],\n",
       "          ...,\n",
       "          [0, 0, 0, ..., 0, 0, 0],\n",
       "          [0, 0, 0, ..., 0, 0, 0],\n",
       "          [0, 0, 0, ..., 0, 0, 0]],\n",
       "  \n",
       "         ...,\n",
       "  \n",
       "         [[0, 0, 0, ..., 0, 0, 0],\n",
       "          [0, 0, 0, ..., 0, 0, 0],\n",
       "          [0, 0, 0, ..., 0, 0, 0],\n",
       "          ...,\n",
       "          [0, 0, 0, ..., 0, 0, 0],\n",
       "          [0, 0, 0, ..., 0, 0, 0],\n",
       "          [0, 0, 0, ..., 0, 0, 0]],\n",
       "  \n",
       "         [[0, 0, 0, ..., 0, 0, 0],\n",
       "          [0, 0, 0, ..., 0, 0, 0],\n",
       "          [0, 0, 0, ..., 0, 0, 0],\n",
       "          ...,\n",
       "          [0, 0, 0, ..., 0, 0, 0],\n",
       "          [0, 0, 0, ..., 0, 0, 0],\n",
       "          [0, 0, 0, ..., 0, 0, 0]],\n",
       "  \n",
       "         [[0, 0, 0, ..., 0, 0, 0],\n",
       "          [0, 0, 0, ..., 0, 0, 0],\n",
       "          [0, 0, 0, ..., 0, 0, 0],\n",
       "          ...,\n",
       "          [0, 0, 0, ..., 0, 0, 0],\n",
       "          [0, 0, 0, ..., 0, 0, 0],\n",
       "          [0, 0, 0, ..., 0, 0, 0]]], dtype=uint8),\n",
       "  array([9, 0, 0, ..., 3, 0, 5], dtype=uint8)),\n",
       " (array([[[0, 0, 0, ..., 0, 0, 0],\n",
       "          [0, 0, 0, ..., 0, 0, 0],\n",
       "          [0, 0, 0, ..., 0, 0, 0],\n",
       "          ...,\n",
       "          [0, 0, 0, ..., 0, 0, 0],\n",
       "          [0, 0, 0, ..., 0, 0, 0],\n",
       "          [0, 0, 0, ..., 0, 0, 0]],\n",
       "  \n",
       "         [[0, 0, 0, ..., 0, 0, 0],\n",
       "          [0, 0, 0, ..., 0, 0, 0],\n",
       "          [0, 0, 0, ..., 0, 0, 0],\n",
       "          ...,\n",
       "          [0, 0, 0, ..., 0, 0, 0],\n",
       "          [0, 0, 0, ..., 0, 0, 0],\n",
       "          [0, 0, 0, ..., 0, 0, 0]],\n",
       "  \n",
       "         [[0, 0, 0, ..., 0, 0, 0],\n",
       "          [0, 0, 0, ..., 0, 0, 0],\n",
       "          [0, 0, 0, ..., 0, 0, 0],\n",
       "          ...,\n",
       "          [0, 0, 0, ..., 0, 0, 0],\n",
       "          [0, 0, 0, ..., 0, 0, 0],\n",
       "          [0, 0, 0, ..., 0, 0, 0]],\n",
       "  \n",
       "         ...,\n",
       "  \n",
       "         [[0, 0, 0, ..., 0, 0, 0],\n",
       "          [0, 0, 0, ..., 0, 0, 0],\n",
       "          [0, 0, 0, ..., 0, 0, 0],\n",
       "          ...,\n",
       "          [0, 0, 0, ..., 0, 0, 0],\n",
       "          [0, 0, 0, ..., 0, 0, 0],\n",
       "          [0, 0, 0, ..., 0, 0, 0]],\n",
       "  \n",
       "         [[0, 0, 0, ..., 0, 0, 0],\n",
       "          [0, 0, 0, ..., 0, 0, 0],\n",
       "          [0, 0, 0, ..., 0, 0, 0],\n",
       "          ...,\n",
       "          [0, 0, 0, ..., 0, 0, 0],\n",
       "          [0, 0, 0, ..., 0, 0, 0],\n",
       "          [0, 0, 0, ..., 0, 0, 0]],\n",
       "  \n",
       "         [[0, 0, 0, ..., 0, 0, 0],\n",
       "          [0, 0, 0, ..., 0, 0, 0],\n",
       "          [0, 0, 0, ..., 0, 0, 0],\n",
       "          ...,\n",
       "          [0, 0, 0, ..., 0, 0, 0],\n",
       "          [0, 0, 0, ..., 0, 0, 0],\n",
       "          [0, 0, 0, ..., 0, 0, 0]]], dtype=uint8),\n",
       "  array([9, 2, 1, ..., 8, 1, 5], dtype=uint8)))"
      ]
     },
     "execution_count": 2,
     "metadata": {},
     "output_type": "execute_result"
    }
   ],
   "source": [
    "data = fashion_mnist.load_data()\n",
    "data"
   ]
  },
  {
   "cell_type": "code",
   "execution_count": 3,
   "id": "2f9de6a2",
   "metadata": {},
   "outputs": [],
   "source": [
    "X_train = data[0][0]\n",
    "y_train = data[0][1]\n",
    "X_test = data[1][0]\n",
    "y_test = data[1][1]"
   ]
  },
  {
   "cell_type": "code",
   "execution_count": 4,
   "id": "bfbbbfcd",
   "metadata": {},
   "outputs": [
    {
     "data": {
      "text/plain": [
       "((60000, 28, 28), (60000,), (10000, 28, 28), (10000,))"
      ]
     },
     "execution_count": 4,
     "metadata": {},
     "output_type": "execute_result"
    }
   ],
   "source": [
    "X_train.shape, y_train.shape, X_test.shape, y_test.shape"
   ]
  },
  {
   "cell_type": "code",
   "execution_count": 5,
   "id": "0116503e",
   "metadata": {},
   "outputs": [
    {
     "data": {
      "text/plain": [
       "array([9, 0, 0, ..., 3, 0, 5], dtype=uint8)"
      ]
     },
     "execution_count": 5,
     "metadata": {},
     "output_type": "execute_result"
    }
   ],
   "source": [
    "y_train"
   ]
  },
  {
   "cell_type": "code",
   "execution_count": 6,
   "id": "4a179fc0",
   "metadata": {},
   "outputs": [
    {
     "data": {
      "text/plain": [
       "<matplotlib.image.AxesImage at 0x1e4fecc4ac8>"
      ]
     },
     "execution_count": 6,
     "metadata": {},
     "output_type": "execute_result"
    },
    {
     "data": {
      "image/png": "[encoded data removed]",
      "text/plain": [
       "<Figure size 432x288 with 1 Axes>"
      ]
     },
     "metadata": {
      "needs_background": "light"
     },
     "output_type": "display_data"
    }
   ],
   "source": [
    "plt.imshow(X_train[59998], cmap='gray')\n",
    "# imshow : 이미지 데이터를 그림으로 출력해주는 명령\n",
    "# cmap = 'gray' : 이미지를 흑백으로 전환시켜주는 명령"
   ]
  },
  {
   "cell_type": "code",
   "execution_count": 7,
   "id": "09bc6157",
   "metadata": {},
   "outputs": [],
   "source": [
    "from tensorflow.keras.utils import to_categorical"
   ]
  },
  {
   "cell_type": "code",
   "execution_count": 8,
   "id": "ad086082",
   "metadata": {},
   "outputs": [],
   "source": [
    "# y_train, y_test를 원핫인코딩 하기!\n",
    "y_train_one_hot = to_categorical(y_train)\n",
    "y_test_one_hot = to_categorical(y_test)"
   ]
  },
  {
   "cell_type": "code",
   "execution_count": 10,
   "id": "b6ee2a22",
   "metadata": {},
   "outputs": [
    {
     "data": {
      "text/plain": [
       "(60000,)"
      ]
     },
     "execution_count": 10,
     "metadata": {},
     "output_type": "execute_result"
    }
   ],
   "source": [
    "y_train.shape"
   ]
  },
  {
   "cell_type": "code",
   "execution_count": 11,
   "id": "81da666c",
   "metadata": {},
   "outputs": [
    {
     "data": {
      "text/plain": [
       "(60000, 10)"
      ]
     },
     "execution_count": 11,
     "metadata": {},
     "output_type": "execute_result"
    }
   ],
   "source": [
    "y_train_one_hot.shape"
   ]
  },
  {
   "cell_type": "markdown",
   "id": "20cf729b",
   "metadata": {},
   "source": [
    "#### 과대적합을 확인하기 위해 train데이터에서 검증셋을 분리해서 학습시 같이 출력시켜보자!"
   ]
  },
  {
   "cell_type": "code",
   "execution_count": 12,
   "id": "e7d3088e",
   "metadata": {},
   "outputs": [],
   "source": [
    "# 무조건 train, test, 셋만 나눠주는게 아니라 데이터를 일정 비율로 나누어주는 명령\n",
    "from sklearn.model_selection import train_test_split"
   ]
  },
  {
   "cell_type": "code",
   "execution_count": 13,
   "id": "4b591ff6",
   "metadata": {},
   "outputs": [],
   "source": [
    "X_train, X_val, y_train_one_hot, y_val_one_hot = train_test_split(X_train,\n",
    "                                                                 y_train_one_hot,\n",
    "                                                                 random_state=3)"
   ]
  },
  {
   "cell_type": "code",
   "execution_count": 14,
   "id": "0b52a5af",
   "metadata": {},
   "outputs": [
    {
     "name": "stdout",
     "output_type": "stream",
     "text": [
      "(45000, 28, 28)\n",
      "(15000, 28, 28)\n",
      "(45000, 10)\n",
      "(15000, 10)\n"
     ]
    }
   ],
   "source": [
    "print(X_train.shape)\n",
    "print(X_val.shape)                   # 검증용 문제\n",
    "print(y_train_one_hot.shape)\n",
    "print(y_val_one_hot.shape)           # 검증용 정답"
   ]
  },
  {
   "cell_type": "markdown",
   "id": "f8199e17",
   "metadata": {},
   "source": [
    "### 신경망 설계"
   ]
  },
  {
   "cell_type": "code",
   "execution_count": 16,
   "id": "aa6ae6fe",
   "metadata": {},
   "outputs": [],
   "source": [
    "from tensorflow.keras import Sequential\n",
    "from tensorflow.keras.layers import Dense, Flatten\n",
    "# Flatten : 데이터를 1차원으로 자동적으로 펴주는 역할을 하는 모듈\n"
   ]
  },
  {
   "cell_type": "code",
   "execution_count": 18,
   "id": "703084fc",
   "metadata": {},
   "outputs": [
    {
     "name": "stdout",
     "output_type": "stream",
     "text": [
      "Model: \"sequential_1\"\n",
      "_________________________________________________________________\n",
      "Layer (type)                 Output Shape              Param #   \n",
      "=================================================================\n",
      "flatten_1 (Flatten)          (None, 784)               0         \n",
      "_________________________________________________________________\n",
      "dense (Dense)                (None, 450)               353250    \n",
      "_________________________________________________________________\n",
      "dense_1 (Dense)              (None, 200)               90200     \n",
      "_________________________________________________________________\n",
      "dense_2 (Dense)              (None, 100)               20100     \n",
      "_________________________________________________________________\n",
      "dense_3 (Dense)              (None, 50)                5050      \n",
      "_________________________________________________________________\n",
      "dense_4 (Dense)              (None, 10)                510       \n",
      "=================================================================\n",
      "Total params: 469,110\n",
      "Trainable params: 469,110\n",
      "Non-trainable params: 0\n",
      "_________________________________________________________________\n"
     ]
    }
   ],
   "source": [
    "model = Sequential()\n",
    "\n",
    "#Flatten 명령을 통해서 한번에 바로 이미지 데이터를 1차원으로 펴줌\n",
    "model.add(Flatten(input_shape=(28,28)))\n",
    "\n",
    "# 중간층\n",
    "model.add(Dense(450, activation=\"sigmoid\")) # 하나의 층\n",
    "model.add(Dense(200, activation=\"sigmoid\")) # 하나의 층\n",
    "model.add(Dense(100, activation=\"sigmoid\")) # 하나의 층\n",
    "model.add(Dense(50, activation=\"sigmoid\")) # 하나의 층\n",
    "\n",
    "model.add(Dense(10, activation=\"softmax\")) \n",
    "model.summary()"
   ]
  },
  {
   "cell_type": "code",
   "execution_count": 20,
   "id": "e3340253",
   "metadata": {},
   "outputs": [],
   "source": [
    "# 2. 학습 / 평가 방법 설정\n",
    "# binary_crossentropy : 2진분류에 사용하는 손실함수(비용함수)\n",
    "# categorical_crossentropy : 다중분류에 사용하는 손실함수\n",
    "# -> 오차의 평균을 구하는것은 mse와 같지만 0~1사이 값으로 변환 후 평균오차를 구함\n",
    "# \n",
    "model.compile(loss=\"categorical_crossentropy\",  \n",
    "              optimizer = \"Adam\",   # 최적화 함수 : 확률적경사하강법 사용  // SGD도 이외에도 Adam도 있음 \n",
    "              metrics=[\"acc\"]       # metrics : 평가방법을 설정 (정확도 체크)\n",
    "                                    # 분류 문제이기 때문에 정확도를 확인\n",
    "             )\n",
    "\n",
    "# 회귀는 오차만 확인하면 되지만 분류는 정확도까지 확인해줘야 함!!!!!"
   ]
  },
  {
   "cell_type": "code",
   "execution_count": 25,
   "id": "bd3ad05d",
   "metadata": {
    "scrolled": true
   },
   "outputs": [
    {
     "name": "stdout",
     "output_type": "stream",
     "text": [
      "Train on 45000 samples, validate on 15000 samples\n",
      "Epoch 1/50\n",
      "45000/45000 [==============================] - 3s 76us/sample - loss: 0.6395 - acc: 0.7489 - val_loss: 0.6383 - val_acc: 0.7505\n",
      "Epoch 2/50\n",
      "45000/45000 [==============================] - 4s 79us/sample - loss: 0.6431 - acc: 0.7452 - val_loss: 0.6626 - val_acc: 0.7249\n",
      "Epoch 3/50\n",
      "45000/45000 [==============================] - 4s 80us/sample - loss: 0.6577 - acc: 0.7337 - val_loss: 0.6417 - val_acc: 0.7422\n",
      "Epoch 4/50\n",
      "45000/45000 [==============================] - 4s 78us/sample - loss: 0.6282 - acc: 0.7521 - val_loss: 0.6305 - val_acc: 0.7555\n",
      "Epoch 5/50\n",
      "45000/45000 [==============================] - 3s 77us/sample - loss: 0.6280 - acc: 0.7603 - val_loss: 0.6456 - val_acc: 0.7507\n",
      "Epoch 6/50\n",
      "45000/45000 [==============================] - 3s 77us/sample - loss: 0.6219 - acc: 0.7586 - val_loss: 0.5909 - val_acc: 0.7743\n",
      "Epoch 7/50\n",
      "45000/45000 [==============================] - 4s 78us/sample - loss: 0.6228 - acc: 0.7549 - val_loss: 0.6413 - val_acc: 0.7459\n",
      "Epoch 8/50\n",
      "45000/45000 [==============================] - 3s 77us/sample - loss: 0.6292 - acc: 0.7514 - val_loss: 0.6283 - val_acc: 0.7484\n",
      "Epoch 9/50\n",
      "45000/45000 [==============================] - 3s 75us/sample - loss: 0.6199 - acc: 0.7603 - val_loss: 0.5979 - val_acc: 0.7731\n",
      "Epoch 10/50\n",
      "45000/45000 [==============================] - 3s 75us/sample - loss: 0.5993 - acc: 0.7714 - val_loss: 0.6019 - val_acc: 0.7655\n",
      "Epoch 11/50\n",
      "45000/45000 [==============================] - 3s 76us/sample - loss: 0.6178 - acc: 0.7550 - val_loss: 0.5998 - val_acc: 0.7559\n",
      "Epoch 12/50\n",
      "45000/45000 [==============================] - 4s 78us/sample - loss: 0.6052 - acc: 0.7602 - val_loss: 0.6044 - val_acc: 0.7631\n",
      "Epoch 13/50\n",
      "45000/45000 [==============================] - 4s 81us/sample - loss: 0.6016 - acc: 0.7680 - val_loss: 0.6230 - val_acc: 0.7532\n",
      "Epoch 14/50\n",
      "45000/45000 [==============================] - 3s 76us/sample - loss: 0.6157 - acc: 0.7619 - val_loss: 0.5954 - val_acc: 0.7681\n",
      "Epoch 15/50\n",
      "45000/45000 [==============================] - 3s 75us/sample - loss: 0.6156 - acc: 0.7583 - val_loss: 0.5874 - val_acc: 0.7728\n",
      "Epoch 16/50\n",
      "45000/45000 [==============================] - 3s 75us/sample - loss: 0.5907 - acc: 0.7733 - val_loss: 0.5807 - val_acc: 0.7811\n",
      "Epoch 17/50\n",
      "45000/45000 [==============================] - 3s 76us/sample - loss: 0.6118 - acc: 0.7585 - val_loss: 0.6168 - val_acc: 0.7583\n",
      "Epoch 18/50\n",
      "45000/45000 [==============================] - 3s 77us/sample - loss: 0.6136 - acc: 0.7590 - val_loss: 0.6201 - val_acc: 0.7620\n",
      "Epoch 19/50\n",
      "45000/45000 [==============================] - 3s 74us/sample - loss: 0.5922 - acc: 0.7759 - val_loss: 0.5781 - val_acc: 0.7827\n",
      "Epoch 20/50\n",
      "45000/45000 [==============================] - 3s 76us/sample - loss: 0.5757 - acc: 0.7796 - val_loss: 0.5853 - val_acc: 0.7691\n",
      "Epoch 21/50\n",
      "45000/45000 [==============================] - 3s 75us/sample - loss: 0.5750 - acc: 0.7808 - val_loss: 0.6043 - val_acc: 0.7713\n",
      "Epoch 22/50\n",
      "45000/45000 [==============================] - 4s 80us/sample - loss: 0.5916 - acc: 0.7737 - val_loss: 0.6022 - val_acc: 0.7609\n",
      "Epoch 23/50\n",
      "45000/45000 [==============================] - 4s 80us/sample - loss: 0.5918 - acc: 0.7723 - val_loss: 0.5835 - val_acc: 0.7781\n",
      "Epoch 24/50\n",
      "45000/45000 [==============================] - 4s 80us/sample - loss: 0.5691 - acc: 0.7854 - val_loss: 0.5555 - val_acc: 0.7907\n",
      "Epoch 25/50\n",
      "45000/45000 [==============================] - 4s 78us/sample - loss: 0.5557 - acc: 0.7886 - val_loss: 0.5666 - val_acc: 0.7884\n",
      "Epoch 26/50\n",
      "45000/45000 [==============================] - 3s 78us/sample - loss: 0.5584 - acc: 0.7900 - val_loss: 0.5809 - val_acc: 0.7826\n",
      "Epoch 27/50\n",
      "45000/45000 [==============================] - 3s 73us/sample - loss: 0.5727 - acc: 0.7825 - val_loss: 0.5711 - val_acc: 0.7845\n",
      "Epoch 28/50\n",
      "45000/45000 [==============================] - 3s 72us/sample - loss: 0.5728 - acc: 0.7815 - val_loss: 0.5710 - val_acc: 0.7785\n",
      "Epoch 29/50\n",
      "45000/45000 [==============================] - 3s 74us/sample - loss: 0.5727 - acc: 0.7836 - val_loss: 0.5501 - val_acc: 0.7935\n",
      "Epoch 30/50\n",
      "45000/45000 [==============================] - 3s 74us/sample - loss: 0.5653 - acc: 0.7854 - val_loss: 0.5517 - val_acc: 0.7928\n",
      "Epoch 31/50\n",
      "45000/45000 [==============================] - 4s 82us/sample - loss: 0.5774 - acc: 0.7751 - val_loss: 0.5825 - val_acc: 0.7704\n",
      "Epoch 32/50\n",
      "45000/45000 [==============================] - 3s 75us/sample - loss: 0.5664 - acc: 0.7784 - val_loss: 0.6019 - val_acc: 0.7684\n",
      "Epoch 33/50\n",
      "45000/45000 [==============================] - 3s 73us/sample - loss: 0.5722 - acc: 0.7801 - val_loss: 0.5814 - val_acc: 0.7766\n",
      "Epoch 34/50\n",
      "45000/45000 [==============================] - 3s 75us/sample - loss: 0.5595 - acc: 0.7836 - val_loss: 0.5639 - val_acc: 0.7894\n",
      "Epoch 35/50\n",
      "45000/45000 [==============================] - 3s 72us/sample - loss: 0.5536 - acc: 0.7886 - val_loss: 0.5672 - val_acc: 0.7865\n",
      "Epoch 36/50\n",
      "45000/45000 [==============================] - 3s 75us/sample - loss: 0.5470 - acc: 0.7904 - val_loss: 0.5645 - val_acc: 0.7866\n",
      "Epoch 37/50\n",
      "45000/45000 [==============================] - 3s 74us/sample - loss: 0.5361 - acc: 0.7941 - val_loss: 0.5273 - val_acc: 0.7985\n",
      "Epoch 38/50\n",
      "45000/45000 [==============================] - 4s 79us/sample - loss: 0.5332 - acc: 0.7979 - val_loss: 0.5116 - val_acc: 0.8087\n",
      "Epoch 39/50\n",
      "45000/45000 [==============================] - 3s 77us/sample - loss: 0.5290 - acc: 0.7967 - val_loss: 0.5482 - val_acc: 0.7940\n",
      "Epoch 40/50\n",
      "45000/45000 [==============================] - 3s 74us/sample - loss: 0.5386 - acc: 0.7889 - val_loss: 0.5216 - val_acc: 0.8014\n",
      "Epoch 41/50\n",
      "45000/45000 [==============================] - 3s 73us/sample - loss: 0.5433 - acc: 0.7897 - val_loss: 0.5541 - val_acc: 0.7908\n",
      "Epoch 42/50\n",
      "45000/45000 [==============================] - 3s 74us/sample - loss: 0.5548 - acc: 0.7842 - val_loss: 0.5657 - val_acc: 0.7892\n",
      "Epoch 43/50\n",
      "45000/45000 [==============================] - 3s 73us/sample - loss: 0.5539 - acc: 0.7887 - val_loss: 0.5352 - val_acc: 0.7927\n",
      "Epoch 44/50\n",
      "45000/45000 [==============================] - 3s 74us/sample - loss: 0.5430 - acc: 0.7914 - val_loss: 0.5499 - val_acc: 0.7889\n",
      "Epoch 45/50\n",
      "45000/45000 [==============================] - 3s 74us/sample - loss: 0.5364 - acc: 0.7938 - val_loss: 0.5344 - val_acc: 0.7957\n",
      "Epoch 46/50\n",
      "45000/45000 [==============================] - 3s 72us/sample - loss: 0.5499 - acc: 0.7912 - val_loss: 0.5744 - val_acc: 0.7738\n",
      "Epoch 47/50\n",
      "45000/45000 [==============================] - 3s 72us/sample - loss: 0.5556 - acc: 0.7854 - val_loss: 0.5868 - val_acc: 0.7753\n",
      "Epoch 48/50\n",
      "45000/45000 [==============================] - 3s 74us/sample - loss: 0.5446 - acc: 0.7925 - val_loss: 0.5275 - val_acc: 0.7967\n",
      "Epoch 49/50\n",
      "45000/45000 [==============================] - 3s 73us/sample - loss: 0.5467 - acc: 0.7909 - val_loss: 0.5686 - val_acc: 0.7849\n",
      "Epoch 50/50\n",
      "45000/45000 [==============================] - 3s 74us/sample - loss: 0.5441 - acc: 0.7929 - val_loss: 0.5335 - val_acc: 0.8054\n"
     ]
    }
   ],
   "source": [
    "h1 = model.fit(X_train,y_train_one_hot,\n",
    "              epochs=50,  # epochs : 학습 횟수를 설정\n",
    "              validation_data = (X_val, y_val_one_hot), # 검증용 데이터셋을 추가해주는 명령\n",
    "              batch_size=32) # 한번에 데이터를 학습시키는 최소 단위 // 높을 수록 러프하게 학습되고 낮을수고 자세히 학습\n",
    "# verbose : 학습 결과의 출력 형태를 설정하는 명령(0: 출력x, 1:bar형태(디폴트, 2 : ))"
   ]
  },
  {
   "cell_type": "code",
   "execution_count": 26,
   "id": "75449071",
   "metadata": {},
   "outputs": [
    {
     "data": {
      "image/png": "[encoded data removed]",
      "text/plain": [
       "<Figure size 1080x360 with 1 Axes>"
      ]
     },
     "metadata": {
      "needs_background": "light"
     },
     "output_type": "display_data"
    }
   ],
   "source": [
    "plt.figure(figsize=(15,5))\n",
    "\n",
    "plt.plot(range(1,51),\n",
    "        h1.history['acc'],\n",
    "        label = 'acc'\n",
    "        )\n",
    "\n",
    "plt.plot(range(1,51),\n",
    "        h1.history['val_acc'],\n",
    "        label = 'val_acc'\n",
    "        )\n",
    "plt.legend()\n",
    "plt.show()"
   ]
  },
  {
   "cell_type": "code",
   "execution_count": 27,
   "id": "bee6af57",
   "metadata": {},
   "outputs": [
    {
     "data": {
      "image/png": "[encoded data removed]",
      "text/plain": [
       "<Figure size 1080x360 with 1 Axes>"
      ]
     },
     "metadata": {
      "needs_background": "light"
     },
     "output_type": "display_data"
    }
   ],
   "source": [
    "plt.figure(figsize=(15,5))\n",
    "\n",
    "plt.plot(range(1,51),\n",
    "        h1.history['loss'],\n",
    "        label = 'loss'\n",
    "        )\n",
    "\n",
    "plt.plot(range(1,51),\n",
    "        h1.history['val_loss'],\n",
    "        label = 'val_loss'\n",
    "        )\n",
    "plt.legend()\n",
    "plt.show()"
   ]
  },
  {
   "cell_type": "code",
   "execution_count": 28,
   "id": "3a93b991",
   "metadata": {},
   "outputs": [
    {
     "name": "stdout",
     "output_type": "stream",
     "text": [
      "10000/10000 [==============================] - 0s 45us/sample - loss: 0.5594 - acc: 0.7961\n"
     ]
    },
    {
     "data": {
      "text/plain": [
       "[0.5593796637296676, 0.7961]"
      ]
     },
     "execution_count": 28,
     "metadata": {},
     "output_type": "execute_result"
    }
   ],
   "source": [
    "model.evaluate(X_test , y_test_one_hot)"
   ]
  },
  {
   "cell_type": "code",
   "execution_count": null,
   "id": "a17fd34a",
   "metadata": {},
   "outputs": [],
   "source": []
  }
 ],
 "metadata": {
  "kernelspec": {
   "display_name": "Python 3",
   "language": "python",
   "name": "python3"
  },
  "language_info": {
   "codemirror_mode": {
    "name": "ipython",
    "version": 3
   },
   "file_extension": ".py",
   "mimetype": "text/x-python",
   "name": "python",
   "nbconvert_exporter": "python",
   "pygments_lexer": "ipython3",
   "version": "3.6.13"
  },
  "toc": {
   "base_numbering": 1,
   "nav_menu": {},
   "number_sections": true,
   "sideBar": true,
   "skip_h1_title": false,
   "title_cell": "Table of Contents",
   "title_sidebar": "Contents",
   "toc_cell": false,
   "toc_position": {},
   "toc_section_display": true,
   "toc_window_display": false
  }
 },
 "nbformat": 4,
 "nbformat_minor": 5
}
