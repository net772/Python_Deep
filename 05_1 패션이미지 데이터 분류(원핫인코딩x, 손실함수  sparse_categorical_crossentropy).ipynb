{
 "cells": [
  {
   "cell_type": "markdown",
   "id": "b11d4f7f",
   "metadata": {},
   "source": [
    "# 패션 이미지 데이터(10가지)를 분류 "
   ]
  },
  {
   "cell_type": "code",
   "execution_count": 1,
   "id": "f4eba243",
   "metadata": {},
   "outputs": [],
   "source": [
    "from tensorflow.keras.datasets import fashion_mnist\n",
    "import numpy as np\n",
    "import pandas as pd\n",
    "import matplotlib.pyplot as plt"
   ]
  },
  {
   "cell_type": "code",
   "execution_count": 2,
   "id": "c26e7008",
   "metadata": {},
   "outputs": [
    {
     "data": {
      "text/plain": [
       "((array([[[0, 0, 0, ..., 0, 0, 0],\n",
       "          [0, 0, 0, ..., 0, 0, 0],\n",
       "          [0, 0, 0, ..., 0, 0, 0],\n",
       "          ...,\n",
       "          [0, 0, 0, ..., 0, 0, 0],\n",
       "          [0, 0, 0, ..., 0, 0, 0],\n",
       "          [0, 0, 0, ..., 0, 0, 0]],\n",
       "  \n",
       "         [[0, 0, 0, ..., 0, 0, 0],\n",
       "          [0, 0, 0, ..., 0, 0, 0],\n",
       "          [0, 0, 0, ..., 0, 0, 0],\n",
       "          ...,\n",
       "          [0, 0, 0, ..., 0, 0, 0],\n",
       "          [0, 0, 0, ..., 0, 0, 0],\n",
       "          [0, 0, 0, ..., 0, 0, 0]],\n",
       "  \n",
       "         [[0, 0, 0, ..., 0, 0, 0],\n",
       "          [0, 0, 0, ..., 0, 0, 0],\n",
       "          [0, 0, 0, ..., 0, 0, 0],\n",
       "          ...,\n",
       "          [0, 0, 0, ..., 0, 0, 0],\n",
       "          [0, 0, 0, ..., 0, 0, 0],\n",
       "          [0, 0, 0, ..., 0, 0, 0]],\n",
       "  \n",
       "         ...,\n",
       "  \n",
       "         [[0, 0, 0, ..., 0, 0, 0],\n",
       "          [0, 0, 0, ..., 0, 0, 0],\n",
       "          [0, 0, 0, ..., 0, 0, 0],\n",
       "          ...,\n",
       "          [0, 0, 0, ..., 0, 0, 0],\n",
       "          [0, 0, 0, ..., 0, 0, 0],\n",
       "          [0, 0, 0, ..., 0, 0, 0]],\n",
       "  \n",
       "         [[0, 0, 0, ..., 0, 0, 0],\n",
       "          [0, 0, 0, ..., 0, 0, 0],\n",
       "          [0, 0, 0, ..., 0, 0, 0],\n",
       "          ...,\n",
       "          [0, 0, 0, ..., 0, 0, 0],\n",
       "          [0, 0, 0, ..., 0, 0, 0],\n",
       "          [0, 0, 0, ..., 0, 0, 0]],\n",
       "  \n",
       "         [[0, 0, 0, ..., 0, 0, 0],\n",
       "          [0, 0, 0, ..., 0, 0, 0],\n",
       "          [0, 0, 0, ..., 0, 0, 0],\n",
       "          ...,\n",
       "          [0, 0, 0, ..., 0, 0, 0],\n",
       "          [0, 0, 0, ..., 0, 0, 0],\n",
       "          [0, 0, 0, ..., 0, 0, 0]]], dtype=uint8),\n",
       "  array([9, 0, 0, ..., 3, 0, 5], dtype=uint8)),\n",
       " (array([[[0, 0, 0, ..., 0, 0, 0],\n",
       "          [0, 0, 0, ..., 0, 0, 0],\n",
       "          [0, 0, 0, ..., 0, 0, 0],\n",
       "          ...,\n",
       "          [0, 0, 0, ..., 0, 0, 0],\n",
       "          [0, 0, 0, ..., 0, 0, 0],\n",
       "          [0, 0, 0, ..., 0, 0, 0]],\n",
       "  \n",
       "         [[0, 0, 0, ..., 0, 0, 0],\n",
       "          [0, 0, 0, ..., 0, 0, 0],\n",
       "          [0, 0, 0, ..., 0, 0, 0],\n",
       "          ...,\n",
       "          [0, 0, 0, ..., 0, 0, 0],\n",
       "          [0, 0, 0, ..., 0, 0, 0],\n",
       "          [0, 0, 0, ..., 0, 0, 0]],\n",
       "  \n",
       "         [[0, 0, 0, ..., 0, 0, 0],\n",
       "          [0, 0, 0, ..., 0, 0, 0],\n",
       "          [0, 0, 0, ..., 0, 0, 0],\n",
       "          ...,\n",
       "          [0, 0, 0, ..., 0, 0, 0],\n",
       "          [0, 0, 0, ..., 0, 0, 0],\n",
       "          [0, 0, 0, ..., 0, 0, 0]],\n",
       "  \n",
       "         ...,\n",
       "  \n",
       "         [[0, 0, 0, ..., 0, 0, 0],\n",
       "          [0, 0, 0, ..., 0, 0, 0],\n",
       "          [0, 0, 0, ..., 0, 0, 0],\n",
       "          ...,\n",
       "          [0, 0, 0, ..., 0, 0, 0],\n",
       "          [0, 0, 0, ..., 0, 0, 0],\n",
       "          [0, 0, 0, ..., 0, 0, 0]],\n",
       "  \n",
       "         [[0, 0, 0, ..., 0, 0, 0],\n",
       "          [0, 0, 0, ..., 0, 0, 0],\n",
       "          [0, 0, 0, ..., 0, 0, 0],\n",
       "          ...,\n",
       "          [0, 0, 0, ..., 0, 0, 0],\n",
       "          [0, 0, 0, ..., 0, 0, 0],\n",
       "          [0, 0, 0, ..., 0, 0, 0]],\n",
       "  \n",
       "         [[0, 0, 0, ..., 0, 0, 0],\n",
       "          [0, 0, 0, ..., 0, 0, 0],\n",
       "          [0, 0, 0, ..., 0, 0, 0],\n",
       "          ...,\n",
       "          [0, 0, 0, ..., 0, 0, 0],\n",
       "          [0, 0, 0, ..., 0, 0, 0],\n",
       "          [0, 0, 0, ..., 0, 0, 0]]], dtype=uint8),\n",
       "  array([9, 2, 1, ..., 8, 1, 5], dtype=uint8)))"
      ]
     },
     "execution_count": 2,
     "metadata": {},
     "output_type": "execute_result"
    }
   ],
   "source": [
    "data = fashion_mnist.load_data()\n",
    "data"
   ]
  },
  {
   "cell_type": "code",
   "execution_count": 3,
   "id": "2f9de6a2",
   "metadata": {},
   "outputs": [],
   "source": [
    "X_train = data[0][0]\n",
    "y_train = data[0][1]\n",
    "X_test = data[1][0]\n",
    "y_test = data[1][1]"
   ]
  },
  {
   "cell_type": "code",
   "execution_count": 4,
   "id": "bfbbbfcd",
   "metadata": {},
   "outputs": [
    {
     "data": {
      "text/plain": [
       "((60000, 28, 28), (60000,), (10000, 28, 28), (10000,))"
      ]
     },
     "execution_count": 4,
     "metadata": {},
     "output_type": "execute_result"
    }
   ],
   "source": [
    "X_train.shape, y_train.shape, X_test.shape, y_test.shape"
   ]
  },
  {
   "cell_type": "code",
   "execution_count": 5,
   "id": "0116503e",
   "metadata": {},
   "outputs": [
    {
     "data": {
      "text/plain": [
       "array([9, 0, 0, ..., 3, 0, 5], dtype=uint8)"
      ]
     },
     "execution_count": 5,
     "metadata": {},
     "output_type": "execute_result"
    }
   ],
   "source": [
    "y_train"
   ]
  },
  {
   "cell_type": "code",
   "execution_count": 6,
   "id": "4a179fc0",
   "metadata": {},
   "outputs": [
    {
     "data": {
      "text/plain": [
       "<matplotlib.image.AxesImage at 0x27d349f64e0>"
      ]
     },
     "execution_count": 6,
     "metadata": {},
     "output_type": "execute_result"
    },
    {
     "data": {
      "image/png": "[encoded data removed]",
      "text/plain": [
       "<Figure size 432x288 with 1 Axes>"
      ]
     },
     "metadata": {
      "needs_background": "light"
     },
     "output_type": "display_data"
    }
   ],
   "source": [
    "plt.imshow(X_train[59998], cmap='gray')\n",
    "# imshow : 이미지 데이터를 그림으로 출력해주는 명령\n",
    "# cmap = 'gray' : 이미지를 흑백으로 전환시켜주는 명령"
   ]
  },
  {
   "cell_type": "markdown",
   "id": "20cf729b",
   "metadata": {},
   "source": [
    "#### 과대적합을 확인하기 위해 train데이터에서 검증셋을 분리해서 학습시 같이 출력시켜보자!"
   ]
  },
  {
   "cell_type": "code",
   "execution_count": 7,
   "id": "e7d3088e",
   "metadata": {},
   "outputs": [],
   "source": [
    "# 무조건 train, test, 셋만 나눠주는게 아니라 데이터를 일정 비율로 나누어주는 명령\n",
    "from sklearn.model_selection import train_test_split"
   ]
  },
  {
   "cell_type": "code",
   "execution_count": 8,
   "id": "4b591ff6",
   "metadata": {},
   "outputs": [],
   "source": [
    "X_train, X_val, y_train, y_val = train_test_split(X_train,\n",
    "                                                  y_train, \n",
    "                                                  random_state=3)"
   ]
  },
  {
   "cell_type": "code",
   "execution_count": 9,
   "id": "0b52a5af",
   "metadata": {},
   "outputs": [
    {
     "name": "stdout",
     "output_type": "stream",
     "text": [
      "(45000, 28, 28)\n",
      "(15000, 28, 28)\n",
      "(45000,)\n",
      "(15000,)\n"
     ]
    }
   ],
   "source": [
    "print(X_train.shape)\n",
    "print(X_val.shape)                   # 검증용 문제\n",
    "print(y_train.shape)\n",
    "print(y_val.shape)           # 검증용 정답"
   ]
  },
  {
   "cell_type": "markdown",
   "id": "f8199e17",
   "metadata": {},
   "source": [
    "### 신경망 설계"
   ]
  },
  {
   "cell_type": "code",
   "execution_count": 10,
   "id": "aa6ae6fe",
   "metadata": {},
   "outputs": [],
   "source": [
    "from tensorflow.keras import Sequential\n",
    "from tensorflow.keras.layers import Dense, Flatten\n",
    "# Flatten : 데이터를 1차원으로 자동적으로 펴주는 역할을 하는 모듈\n"
   ]
  },
  {
   "cell_type": "code",
   "execution_count": 11,
   "id": "703084fc",
   "metadata": {},
   "outputs": [
    {
     "name": "stdout",
     "output_type": "stream",
     "text": [
      "Model: \"sequential\"\n",
      "_________________________________________________________________\n",
      "Layer (type)                 Output Shape              Param #   \n",
      "=================================================================\n",
      "flatten (Flatten)            (None, 784)               0         \n",
      "_________________________________________________________________\n",
      "dense (Dense)                (None, 450)               353250    \n",
      "_________________________________________________________________\n",
      "dense_1 (Dense)              (None, 200)               90200     \n",
      "_________________________________________________________________\n",
      "dense_2 (Dense)              (None, 100)               20100     \n",
      "_________________________________________________________________\n",
      "dense_3 (Dense)              (None, 50)                5050      \n",
      "_________________________________________________________________\n",
      "dense_4 (Dense)              (None, 10)                510       \n",
      "=================================================================\n",
      "Total params: 469,110\n",
      "Trainable params: 469,110\n",
      "Non-trainable params: 0\n",
      "_________________________________________________________________\n"
     ]
    }
   ],
   "source": [
    "model = Sequential()\n",
    "\n",
    "#Flatten 명령을 통해서 한번에 바로 이미지 데이터를 1차원으로 펴줌\n",
    "model.add(Flatten(input_shape=(28,28)))\n",
    "\n",
    "# 중간층\n",
    "model.add(Dense(450, activation=\"sigmoid\")) # 하나의 층\n",
    "model.add(Dense(200, activation=\"sigmoid\")) # 하나의 층\n",
    "model.add(Dense(100, activation=\"sigmoid\")) # 하나의 층\n",
    "model.add(Dense(50, activation=\"sigmoid\")) # 하나의 층\n",
    "\n",
    "model.add(Dense(10, activation=\"softmax\")) \n",
    "model.summary()"
   ]
  },
  {
   "cell_type": "code",
   "execution_count": 12,
   "id": "e3340253",
   "metadata": {},
   "outputs": [],
   "source": [
    "# 2. 학습 / 평가 방법 설정\n",
    "# binary_crossentropy : 2진분류에 사용하는 손실함수(비용함수)\n",
    "# categorical_crossentropy : 다중분류에 사용하는 손실함수\n",
    "# -> 오차의 평균을 구하는것은 mse와 같지만 0~1사이 값으로 변환 후 평균오차를 구함\n",
    "# \n",
    "model.compile(loss=\"sparse_categorical_crossentropy\",\n",
    "              optimizer = \"Adam\",   # 최적화 함수 : 확률적경사하강법 사용  // SGD도 이외에도 Adam도 있음 \n",
    "              metrics=[\"acc\"]       # metrics : 평가방법을 설정 (정확도 체크)\n",
    "                                    # 분류 문제이기 때문에 정확도를 확인\n",
    "             )\n",
    "\n",
    "# 회귀는 오차만 확인하면 되지만 분류는 정확도까지 확인해줘야 함!!!!!"
   ]
  },
  {
   "cell_type": "code",
   "execution_count": 13,
   "id": "bd3ad05d",
   "metadata": {
    "scrolled": true
   },
   "outputs": [
    {
     "name": "stdout",
     "output_type": "stream",
     "text": [
      "Train on 45000 samples, validate on 15000 samples\n",
      "Epoch 1/50\n",
      "45000/45000 [==============================] - 4s 94us/sample - loss: 1.0808 - acc: 0.5834 - val_loss: 0.8695 - val_acc: 0.6451\n",
      "Epoch 2/50\n",
      "45000/45000 [==============================] - 3s 67us/sample - loss: 0.8442 - acc: 0.6630 - val_loss: 0.7769 - val_acc: 0.6944\n",
      "Epoch 3/50\n",
      "45000/45000 [==============================] - 3s 69us/sample - loss: 0.7889 - acc: 0.6833 - val_loss: 0.8344 - val_acc: 0.6615\n",
      "Epoch 4/50\n",
      "45000/45000 [==============================] - 3s 70us/sample - loss: 0.7596 - acc: 0.6917 - val_loss: 0.7245 - val_acc: 0.7186\n",
      "Epoch 5/50\n",
      "45000/45000 [==============================] - 3s 65us/sample - loss: 0.7361 - acc: 0.7134 - val_loss: 0.6934 - val_acc: 0.7377\n",
      "Epoch 6/50\n",
      "45000/45000 [==============================] - 3s 64us/sample - loss: 0.7165 - acc: 0.7180 - val_loss: 0.7314 - val_acc: 0.7117\n",
      "Epoch 7/50\n",
      "45000/45000 [==============================] - 3s 63us/sample - loss: 0.7201 - acc: 0.7080 - val_loss: 0.7324 - val_acc: 0.7168\n",
      "Epoch 8/50\n",
      "45000/45000 [==============================] - 3s 66us/sample - loss: 0.7154 - acc: 0.7171 - val_loss: 0.6825 - val_acc: 0.7238\n",
      "Epoch 9/50\n",
      "45000/45000 [==============================] - 3s 74us/sample - loss: 0.6897 - acc: 0.7252 - val_loss: 0.6650 - val_acc: 0.7406\n",
      "Epoch 10/50\n",
      "45000/45000 [==============================] - 3s 64us/sample - loss: 0.6717 - acc: 0.7339 - val_loss: 0.6793 - val_acc: 0.7351\n",
      "Epoch 11/50\n",
      "45000/45000 [==============================] - 3s 65us/sample - loss: 0.6662 - acc: 0.7387 - val_loss: 0.6703 - val_acc: 0.7389\n",
      "Epoch 12/50\n",
      "45000/45000 [==============================] - 3s 64us/sample - loss: 0.6706 - acc: 0.7375 - val_loss: 0.6579 - val_acc: 0.7495\n",
      "Epoch 13/50\n",
      "45000/45000 [==============================] - 3s 66us/sample - loss: 0.6636 - acc: 0.7389 - val_loss: 0.6798 - val_acc: 0.7219\n",
      "Epoch 14/50\n",
      "45000/45000 [==============================] - 3s 69us/sample - loss: 0.6680 - acc: 0.7356 - val_loss: 0.6693 - val_acc: 0.7274\n",
      "Epoch 15/50\n",
      "45000/45000 [==============================] - 3s 68us/sample - loss: 0.6600 - acc: 0.7396 - val_loss: 0.6569 - val_acc: 0.7415\n",
      "Epoch 16/50\n",
      "45000/45000 [==============================] - 3s 67us/sample - loss: 0.6766 - acc: 0.7219 - val_loss: 0.7019 - val_acc: 0.7417\n",
      "Epoch 17/50\n",
      "45000/45000 [==============================] - 3s 69us/sample - loss: 0.6752 - acc: 0.7346 - val_loss: 0.6246 - val_acc: 0.7557\n",
      "Epoch 18/50\n",
      "45000/45000 [==============================] - 3s 72us/sample - loss: 0.6640 - acc: 0.7328 - val_loss: 0.6579 - val_acc: 0.7497\n",
      "Epoch 19/50\n",
      "45000/45000 [==============================] - 3s 69us/sample - loss: 0.6365 - acc: 0.7542 - val_loss: 0.6307 - val_acc: 0.7611\n",
      "Epoch 20/50\n",
      "45000/45000 [==============================] - 3s 76us/sample - loss: 0.6364 - acc: 0.7574 - val_loss: 0.6203 - val_acc: 0.7660\n",
      "Epoch 21/50\n",
      "45000/45000 [==============================] - 3s 76us/sample - loss: 0.6304 - acc: 0.7569 - val_loss: 0.6303 - val_acc: 0.7536\n",
      "Epoch 22/50\n",
      "45000/45000 [==============================] - 3s 69us/sample - loss: 0.6458 - acc: 0.7456 - val_loss: 0.6258 - val_acc: 0.7738\n",
      "Epoch 23/50\n",
      "45000/45000 [==============================] - 3s 74us/sample - loss: 0.6289 - acc: 0.7580 - val_loss: 0.6187 - val_acc: 0.7584\n",
      "Epoch 24/50\n",
      "45000/45000 [==============================] - 4s 88us/sample - loss: 0.6300 - acc: 0.7602 - val_loss: 0.6543 - val_acc: 0.7553\n",
      "Epoch 25/50\n",
      "45000/45000 [==============================] - 4s 83us/sample - loss: 0.6468 - acc: 0.7522 - val_loss: 0.6641 - val_acc: 0.7150\n",
      "Epoch 26/50\n",
      "45000/45000 [==============================] - 3s 71us/sample - loss: 0.6196 - acc: 0.7618 - val_loss: 0.5993 - val_acc: 0.7671\n",
      "Epoch 27/50\n",
      "45000/45000 [==============================] - 3s 70us/sample - loss: 0.6051 - acc: 0.7701 - val_loss: 0.5897 - val_acc: 0.7697\n",
      "Epoch 28/50\n",
      "45000/45000 [==============================] - 3s 66us/sample - loss: 0.6171 - acc: 0.7619 - val_loss: 0.6621 - val_acc: 0.7503\n",
      "Epoch 29/50\n",
      "45000/45000 [==============================] - 3s 68us/sample - loss: 0.6030 - acc: 0.7712 - val_loss: 0.5873 - val_acc: 0.7816\n",
      "Epoch 30/50\n",
      "45000/45000 [==============================] - 3s 71us/sample - loss: 0.6086 - acc: 0.7630 - val_loss: 0.5999 - val_acc: 0.7714\n",
      "Epoch 31/50\n",
      "45000/45000 [==============================] - 3s 67us/sample - loss: 0.5999 - acc: 0.7704 - val_loss: 0.5826 - val_acc: 0.7794\n",
      "Epoch 32/50\n",
      "45000/45000 [==============================] - 3s 70us/sample - loss: 0.5843 - acc: 0.7758 - val_loss: 0.5915 - val_acc: 0.7631\n",
      "Epoch 33/50\n",
      "45000/45000 [==============================] - 3s 70us/sample - loss: 0.5978 - acc: 0.7705 - val_loss: 0.5851 - val_acc: 0.7757\n",
      "Epoch 34/50\n",
      "45000/45000 [==============================] - 3s 71us/sample - loss: 0.5948 - acc: 0.7688 - val_loss: 0.5772 - val_acc: 0.7731\n",
      "Epoch 35/50\n",
      "45000/45000 [==============================] - 3s 70us/sample - loss: 0.5862 - acc: 0.7701 - val_loss: 0.5831 - val_acc: 0.7714\n",
      "Epoch 36/50\n",
      "45000/45000 [==============================] - 3s 68us/sample - loss: 0.5723 - acc: 0.7827 - val_loss: 0.5733 - val_acc: 0.7891\n",
      "Epoch 37/50\n",
      "45000/45000 [==============================] - 3s 69us/sample - loss: 0.5865 - acc: 0.7807 - val_loss: 0.5812 - val_acc: 0.7829\n",
      "Epoch 38/50\n",
      "45000/45000 [==============================] - 3s 66us/sample - loss: 0.5908 - acc: 0.7762 - val_loss: 0.5705 - val_acc: 0.7879\n",
      "Epoch 39/50\n",
      "45000/45000 [==============================] - 3s 69us/sample - loss: 0.5916 - acc: 0.7695 - val_loss: 0.5898 - val_acc: 0.7802\n",
      "Epoch 40/50\n",
      "45000/45000 [==============================] - 3s 73us/sample - loss: 0.5942 - acc: 0.7683 - val_loss: 0.6002 - val_acc: 0.7635\n",
      "Epoch 41/50\n",
      "45000/45000 [==============================] - 4s 78us/sample - loss: 0.5930 - acc: 0.7654 - val_loss: 0.5810 - val_acc: 0.7750\n",
      "Epoch 42/50\n",
      "45000/45000 [==============================] - 3s 69us/sample - loss: 0.5914 - acc: 0.7712 - val_loss: 0.6074 - val_acc: 0.7633\n",
      "Epoch 43/50\n",
      "45000/45000 [==============================] - 3s 77us/sample - loss: 0.6073 - acc: 0.7590 - val_loss: 0.5973 - val_acc: 0.7549\n",
      "Epoch 44/50\n",
      "45000/45000 [==============================] - 3s 72us/sample - loss: 0.5868 - acc: 0.7734 - val_loss: 0.6228 - val_acc: 0.7481\n",
      "Epoch 45/50\n",
      "45000/45000 [==============================] - 4s 81us/sample - loss: 0.5701 - acc: 0.7788 - val_loss: 0.5764 - val_acc: 0.7723\n",
      "Epoch 46/50\n",
      "45000/45000 [==============================] - 3s 68us/sample - loss: 0.5704 - acc: 0.7828 - val_loss: 0.5586 - val_acc: 0.7880\n",
      "Epoch 47/50\n",
      "45000/45000 [==============================] - 3s 70us/sample - loss: 0.5747 - acc: 0.7748 - val_loss: 0.5685 - val_acc: 0.7853\n",
      "Epoch 48/50\n",
      "45000/45000 [==============================] - 3s 67us/sample - loss: 0.5824 - acc: 0.7728 - val_loss: 0.5878 - val_acc: 0.7657\n",
      "Epoch 49/50\n",
      "45000/45000 [==============================] - 3s 67us/sample - loss: 0.5693 - acc: 0.7788 - val_loss: 0.5707 - val_acc: 0.7755\n",
      "Epoch 50/50\n",
      "45000/45000 [==============================] - 3s 69us/sample - loss: 0.5662 - acc: 0.7756 - val_loss: 0.5853 - val_acc: 0.7620\n"
     ]
    }
   ],
   "source": [
    "h1 = model.fit(X_train,y_train,\n",
    "              epochs=50,  # epochs : 학습 횟수를 설정\n",
    "              validation_data = (X_val, y_val), # 검증용 데이터셋을 추가해주는 명령\n",
    "              batch_size=32) # 한번에 데이터를 학습시키는 최소 단위 // 높을 수록 러프하게 학습되고 낮을수고 자세히 학습\n",
    "# verbose : 학습 결과의 출력 형태를 설정하는 명령(0: 출력x, 1:bar형태(디폴트, 2 : ))"
   ]
  },
  {
   "cell_type": "code",
   "execution_count": 14,
   "id": "75449071",
   "metadata": {},
   "outputs": [
    {
     "data": {
      "image/png": "[encoded data removed]",
      "text/plain": [
       "<Figure size 1080x360 with 1 Axes>"
      ]
     },
     "metadata": {
      "needs_background": "light"
     },
     "output_type": "display_data"
    }
   ],
   "source": [
    "plt.figure(figsize=(15,5))\n",
    "\n",
    "plt.plot(range(1,51),\n",
    "        h1.history['acc'],\n",
    "        label = 'acc'\n",
    "        )\n",
    "\n",
    "plt.plot(range(1,51),\n",
    "        h1.history['val_acc'],\n",
    "        label = 'val_acc'\n",
    "        )\n",
    "plt.legend()\n",
    "plt.show()"
   ]
  },
  {
   "cell_type": "code",
   "execution_count": 15,
   "id": "bee6af57",
   "metadata": {},
   "outputs": [
    {
     "data": {
      "image/png": "[encoded data removed]",
      "text/plain": [
       "<Figure size 1080x360 with 1 Axes>"
      ]
     },
     "metadata": {
      "needs_background": "light"
     },
     "output_type": "display_data"
    }
   ],
   "source": [
    "plt.figure(figsize=(15,5))\n",
    "\n",
    "plt.plot(range(1,51),\n",
    "        h1.history['loss'],\n",
    "        label = 'loss'\n",
    "        )\n",
    "\n",
    "plt.plot(range(1,51),\n",
    "        h1.history['val_loss'],\n",
    "        label = 'val_loss'\n",
    "        )\n",
    "plt.legend()\n",
    "plt.show()"
   ]
  },
  {
   "cell_type": "code",
   "execution_count": 16,
   "id": "3a93b991",
   "metadata": {
    "scrolled": true
   },
   "outputs": [
    {
     "ename": "NameError",
     "evalue": "name 'y_test_one_hot' is not defined",
     "output_type": "error",
     "traceback": [
      "\u001b[1;31m---------------------------------------------------------------------------\u001b[0m",
      "\u001b[1;31mNameError\u001b[0m                                 Traceback (most recent call last)",
      "\u001b[1;32m<ipython-input-16-e7a4c229bb00>\u001b[0m in \u001b[0;36m<module>\u001b[1;34m\u001b[0m\n\u001b[1;32m----> 1\u001b[1;33m \u001b[0mmodel\u001b[0m\u001b[1;33m.\u001b[0m\u001b[0mevaluate\u001b[0m\u001b[1;33m(\u001b[0m\u001b[0mX_test\u001b[0m \u001b[1;33m,\u001b[0m \u001b[0my_test_one_hot\u001b[0m\u001b[1;33m)\u001b[0m\u001b[1;33m\u001b[0m\u001b[1;33m\u001b[0m\u001b[0m\n\u001b[0m",
      "\u001b[1;31mNameError\u001b[0m: name 'y_test_one_hot' is not defined"
     ]
    }
   ],
   "source": [
    "model.evaluate(X_test , y_test_one_hot)"
   ]
  },
  {
   "cell_type": "code",
   "execution_count": null,
   "id": "77b65785",
   "metadata": {},
   "outputs": [],
   "source": []
  }
 ],
 "metadata": {
  "kernelspec": {
   "display_name": "Python 3",
   "language": "python",
   "name": "python3"
  },
  "language_info": {
   "codemirror_mode": {
    "name": "ipython",
    "version": 3
   },
   "file_extension": ".py",
   "mimetype": "text/x-python",
   "name": "python",
   "nbconvert_exporter": "python",
   "pygments_lexer": "ipython3",
   "version": "3.6.13"
  },
  "toc": {
   "base_numbering": 1,
   "nav_menu": {},
   "number_sections": true,
   "sideBar": true,
   "skip_h1_title": false,
   "title_cell": "Table of Contents",
   "title_sidebar": "Contents",
   "toc_cell": false,
   "toc_position": {},
   "toc_section_display": true,
   "toc_window_display": false
  }
 },
 "nbformat": 4,
 "nbformat_minor": 5
}
