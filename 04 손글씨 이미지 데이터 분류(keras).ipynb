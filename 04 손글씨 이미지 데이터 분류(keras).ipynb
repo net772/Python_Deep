{
 "cells": [
  {
   "cell_type": "markdown",
   "id": "46c77fd0",
   "metadata": {},
   "source": [
    "####  목표 : 0~9까지의 손글씨 이미지 데이터를 분류하는 모델을 만들어보자!"
   ]
  },
  {
   "cell_type": "code",
   "execution_count": 1,
   "id": "b7468e38",
   "metadata": {},
   "outputs": [],
   "source": [
    "import numpy as np\n",
    "import pandas as pd\n",
    "import matplotlib.pyplot as plt\n",
    "# keras에서 지원하는 딥러닝 학습용 손글씨 데이터를 임포트\n",
    "from tensorflow.keras.datasets import mnist"
   ]
  },
  {
   "cell_type": "code",
   "execution_count": 2,
   "id": "47044fc4",
   "metadata": {},
   "outputs": [],
   "source": [
    "data = mnist.load_data()"
   ]
  },
  {
   "cell_type": "code",
   "execution_count": 3,
   "id": "6cc3998d",
   "metadata": {},
   "outputs": [
    {
     "data": {
      "text/plain": [
       "2"
      ]
     },
     "execution_count": 3,
     "metadata": {},
     "output_type": "execute_result"
    }
   ],
   "source": [
    "len(data)"
   ]
  },
  {
   "cell_type": "code",
   "execution_count": 4,
   "id": "3a3efede",
   "metadata": {
    "scrolled": true
   },
   "outputs": [
    {
     "data": {
      "text/plain": [
       "((array([[[0, 0, 0, ..., 0, 0, 0],\n",
       "          [0, 0, 0, ..., 0, 0, 0],\n",
       "          [0, 0, 0, ..., 0, 0, 0],\n",
       "          ...,\n",
       "          [0, 0, 0, ..., 0, 0, 0],\n",
       "          [0, 0, 0, ..., 0, 0, 0],\n",
       "          [0, 0, 0, ..., 0, 0, 0]],\n",
       "  \n",
       "         [[0, 0, 0, ..., 0, 0, 0],\n",
       "          [0, 0, 0, ..., 0, 0, 0],\n",
       "          [0, 0, 0, ..., 0, 0, 0],\n",
       "          ...,\n",
       "          [0, 0, 0, ..., 0, 0, 0],\n",
       "          [0, 0, 0, ..., 0, 0, 0],\n",
       "          [0, 0, 0, ..., 0, 0, 0]],\n",
       "  \n",
       "         [[0, 0, 0, ..., 0, 0, 0],\n",
       "          [0, 0, 0, ..., 0, 0, 0],\n",
       "          [0, 0, 0, ..., 0, 0, 0],\n",
       "          ...,\n",
       "          [0, 0, 0, ..., 0, 0, 0],\n",
       "          [0, 0, 0, ..., 0, 0, 0],\n",
       "          [0, 0, 0, ..., 0, 0, 0]],\n",
       "  \n",
       "         ...,\n",
       "  \n",
       "         [[0, 0, 0, ..., 0, 0, 0],\n",
       "          [0, 0, 0, ..., 0, 0, 0],\n",
       "          [0, 0, 0, ..., 0, 0, 0],\n",
       "          ...,\n",
       "          [0, 0, 0, ..., 0, 0, 0],\n",
       "          [0, 0, 0, ..., 0, 0, 0],\n",
       "          [0, 0, 0, ..., 0, 0, 0]],\n",
       "  \n",
       "         [[0, 0, 0, ..., 0, 0, 0],\n",
       "          [0, 0, 0, ..., 0, 0, 0],\n",
       "          [0, 0, 0, ..., 0, 0, 0],\n",
       "          ...,\n",
       "          [0, 0, 0, ..., 0, 0, 0],\n",
       "          [0, 0, 0, ..., 0, 0, 0],\n",
       "          [0, 0, 0, ..., 0, 0, 0]],\n",
       "  \n",
       "         [[0, 0, 0, ..., 0, 0, 0],\n",
       "          [0, 0, 0, ..., 0, 0, 0],\n",
       "          [0, 0, 0, ..., 0, 0, 0],\n",
       "          ...,\n",
       "          [0, 0, 0, ..., 0, 0, 0],\n",
       "          [0, 0, 0, ..., 0, 0, 0],\n",
       "          [0, 0, 0, ..., 0, 0, 0]]], dtype=uint8),\n",
       "  array([5, 0, 4, ..., 5, 6, 8], dtype=uint8)),\n",
       " (array([[[0, 0, 0, ..., 0, 0, 0],\n",
       "          [0, 0, 0, ..., 0, 0, 0],\n",
       "          [0, 0, 0, ..., 0, 0, 0],\n",
       "          ...,\n",
       "          [0, 0, 0, ..., 0, 0, 0],\n",
       "          [0, 0, 0, ..., 0, 0, 0],\n",
       "          [0, 0, 0, ..., 0, 0, 0]],\n",
       "  \n",
       "         [[0, 0, 0, ..., 0, 0, 0],\n",
       "          [0, 0, 0, ..., 0, 0, 0],\n",
       "          [0, 0, 0, ..., 0, 0, 0],\n",
       "          ...,\n",
       "          [0, 0, 0, ..., 0, 0, 0],\n",
       "          [0, 0, 0, ..., 0, 0, 0],\n",
       "          [0, 0, 0, ..., 0, 0, 0]],\n",
       "  \n",
       "         [[0, 0, 0, ..., 0, 0, 0],\n",
       "          [0, 0, 0, ..., 0, 0, 0],\n",
       "          [0, 0, 0, ..., 0, 0, 0],\n",
       "          ...,\n",
       "          [0, 0, 0, ..., 0, 0, 0],\n",
       "          [0, 0, 0, ..., 0, 0, 0],\n",
       "          [0, 0, 0, ..., 0, 0, 0]],\n",
       "  \n",
       "         ...,\n",
       "  \n",
       "         [[0, 0, 0, ..., 0, 0, 0],\n",
       "          [0, 0, 0, ..., 0, 0, 0],\n",
       "          [0, 0, 0, ..., 0, 0, 0],\n",
       "          ...,\n",
       "          [0, 0, 0, ..., 0, 0, 0],\n",
       "          [0, 0, 0, ..., 0, 0, 0],\n",
       "          [0, 0, 0, ..., 0, 0, 0]],\n",
       "  \n",
       "         [[0, 0, 0, ..., 0, 0, 0],\n",
       "          [0, 0, 0, ..., 0, 0, 0],\n",
       "          [0, 0, 0, ..., 0, 0, 0],\n",
       "          ...,\n",
       "          [0, 0, 0, ..., 0, 0, 0],\n",
       "          [0, 0, 0, ..., 0, 0, 0],\n",
       "          [0, 0, 0, ..., 0, 0, 0]],\n",
       "  \n",
       "         [[0, 0, 0, ..., 0, 0, 0],\n",
       "          [0, 0, 0, ..., 0, 0, 0],\n",
       "          [0, 0, 0, ..., 0, 0, 0],\n",
       "          ...,\n",
       "          [0, 0, 0, ..., 0, 0, 0],\n",
       "          [0, 0, 0, ..., 0, 0, 0],\n",
       "          [0, 0, 0, ..., 0, 0, 0]]], dtype=uint8),\n",
       "  array([7, 2, 1, ..., 4, 5, 6], dtype=uint8)))"
      ]
     },
     "execution_count": 4,
     "metadata": {},
     "output_type": "execute_result"
    }
   ],
   "source": [
    "# 데이터가 3차원 배열로 크게는 train, test로 나뉘어져 있고\n",
    "# 각 train,test 안에 문제와 정답 데이터로 한번 더 나뉘어져 있음\n",
    "data"
   ]
  },
  {
   "cell_type": "code",
   "execution_count": 5,
   "id": "5603fbd6",
   "metadata": {},
   "outputs": [],
   "source": [
    "X_train = data[0][0]\n",
    "y_train = data[0][1]\n",
    "X_test = data[1][0]\n",
    "y_test = data[1][1]"
   ]
  },
  {
   "cell_type": "code",
   "execution_count": 6,
   "id": "8969184b",
   "metadata": {},
   "outputs": [
    {
     "data": {
      "text/plain": [
       "array([[[0, 0, 0, ..., 0, 0, 0],\n",
       "        [0, 0, 0, ..., 0, 0, 0],\n",
       "        [0, 0, 0, ..., 0, 0, 0],\n",
       "        ...,\n",
       "        [0, 0, 0, ..., 0, 0, 0],\n",
       "        [0, 0, 0, ..., 0, 0, 0],\n",
       "        [0, 0, 0, ..., 0, 0, 0]],\n",
       "\n",
       "       [[0, 0, 0, ..., 0, 0, 0],\n",
       "        [0, 0, 0, ..., 0, 0, 0],\n",
       "        [0, 0, 0, ..., 0, 0, 0],\n",
       "        ...,\n",
       "        [0, 0, 0, ..., 0, 0, 0],\n",
       "        [0, 0, 0, ..., 0, 0, 0],\n",
       "        [0, 0, 0, ..., 0, 0, 0]],\n",
       "\n",
       "       [[0, 0, 0, ..., 0, 0, 0],\n",
       "        [0, 0, 0, ..., 0, 0, 0],\n",
       "        [0, 0, 0, ..., 0, 0, 0],\n",
       "        ...,\n",
       "        [0, 0, 0, ..., 0, 0, 0],\n",
       "        [0, 0, 0, ..., 0, 0, 0],\n",
       "        [0, 0, 0, ..., 0, 0, 0]],\n",
       "\n",
       "       ...,\n",
       "\n",
       "       [[0, 0, 0, ..., 0, 0, 0],\n",
       "        [0, 0, 0, ..., 0, 0, 0],\n",
       "        [0, 0, 0, ..., 0, 0, 0],\n",
       "        ...,\n",
       "        [0, 0, 0, ..., 0, 0, 0],\n",
       "        [0, 0, 0, ..., 0, 0, 0],\n",
       "        [0, 0, 0, ..., 0, 0, 0]],\n",
       "\n",
       "       [[0, 0, 0, ..., 0, 0, 0],\n",
       "        [0, 0, 0, ..., 0, 0, 0],\n",
       "        [0, 0, 0, ..., 0, 0, 0],\n",
       "        ...,\n",
       "        [0, 0, 0, ..., 0, 0, 0],\n",
       "        [0, 0, 0, ..., 0, 0, 0],\n",
       "        [0, 0, 0, ..., 0, 0, 0]],\n",
       "\n",
       "       [[0, 0, 0, ..., 0, 0, 0],\n",
       "        [0, 0, 0, ..., 0, 0, 0],\n",
       "        [0, 0, 0, ..., 0, 0, 0],\n",
       "        ...,\n",
       "        [0, 0, 0, ..., 0, 0, 0],\n",
       "        [0, 0, 0, ..., 0, 0, 0],\n",
       "        [0, 0, 0, ..., 0, 0, 0]]], dtype=uint8)"
      ]
     },
     "execution_count": 6,
     "metadata": {},
     "output_type": "execute_result"
    }
   ],
   "source": [
    "X_train"
   ]
  },
  {
   "cell_type": "code",
   "execution_count": 7,
   "id": "904de1b8",
   "metadata": {},
   "outputs": [
    {
     "name": "stdout",
     "output_type": "stream",
     "text": [
      "(60000, 28, 28)\n",
      "(60000,)\n",
      "(10000, 28, 28)\n",
      "(10000,)\n"
     ]
    }
   ],
   "source": [
    "# 이미지라는 2차원 데이터를 다루기 때문에 shape의 형태가 3칸이 나오게 됨\n",
    "# (데이터의 수, 가로픽셀 수, 세로픽셀 수)\n",
    "print(X_train.shape)\n",
    "print(y_train.shape)\n",
    "print(X_test.shape)\n",
    "print(y_test.shape)"
   ]
  },
  {
   "cell_type": "code",
   "execution_count": 8,
   "id": "17f35122",
   "metadata": {},
   "outputs": [
    {
     "data": {
      "text/plain": [
       "array([5, 0, 4, ..., 5, 6, 8], dtype=uint8)"
      ]
     },
     "execution_count": 8,
     "metadata": {},
     "output_type": "execute_result"
    }
   ],
   "source": [
    "y_train"
   ]
  },
  {
   "cell_type": "code",
   "execution_count": 9,
   "id": "86b0f21e",
   "metadata": {},
   "outputs": [
    {
     "data": {
      "text/plain": [
       "<matplotlib.image.AxesImage at 0x19c52bb29e8>"
      ]
     },
     "execution_count": 9,
     "metadata": {},
     "output_type": "execute_result"
    },
    {
     "data": {
      "image/png": "[encoded data removed]",
      "text/plain": [
       "<Figure size 432x288 with 1 Axes>"
      ]
     },
     "metadata": {
      "needs_background": "light"
     },
     "output_type": "display_data"
    }
   ],
   "source": [
    "plt.imshow(X_train[59999], cmap='gray')\n",
    "# imshow : 이미지 데이터를 그림으로 출력해주는 명령\n",
    "# cmap = 'gray' : 이미지를 흑백으로 전환시켜주는 명령"
   ]
  },
  {
   "cell_type": "markdown",
   "id": "dfaac7e8",
   "metadata": {},
   "source": [
    "- 정답 데이터를 인코딩 하는 이유\n",
    "    - 1. 레이블 값이 3개 이상일 경우 기계가 이해하기 위해 0또는 1로 변경하여 입력\n",
    "    - 2. 신경망 출력층에서 각 레이블 값들에 대한 확률 정보를 확인하여 최종 예측에 반영하기 위해서\n",
    "    - pd.get_dummies : 원핫인코딩\n",
    "    - to_categorical:keras에서 지원해주는 인코딩 명령(=원핫인코딩)"
   ]
  },
  {
   "cell_type": "code",
   "execution_count": 11,
   "id": "3c5bd975",
   "metadata": {},
   "outputs": [],
   "source": [
    "from tensorflow.keras.utils import to_categorical"
   ]
  },
  {
   "cell_type": "code",
   "execution_count": 12,
   "id": "f60a7c22",
   "metadata": {},
   "outputs": [],
   "source": [
    "# y_train, y_test를 원핫인코딩 하기!\n",
    "y_train_one_hot = to_categorical(y_train)\n",
    "y_test_one_hot = to_categorical(y_test)"
   ]
  },
  {
   "cell_type": "code",
   "execution_count": 13,
   "id": "cc9c42d6",
   "metadata": {},
   "outputs": [
    {
     "data": {
      "text/plain": [
       "(60000, 10)"
      ]
     },
     "execution_count": 13,
     "metadata": {},
     "output_type": "execute_result"
    }
   ],
   "source": [
    "y_train_one_hot.shape"
   ]
  },
  {
   "cell_type": "code",
   "execution_count": 14,
   "id": "df396913",
   "metadata": {},
   "outputs": [
    {
     "data": {
      "text/plain": [
       "(60000,)"
      ]
     },
     "execution_count": 14,
     "metadata": {},
     "output_type": "execute_result"
    }
   ],
   "source": [
    "y_train.shape"
   ]
  },
  {
   "cell_type": "code",
   "execution_count": 24,
   "id": "a095a24d",
   "metadata": {},
   "outputs": [
    {
     "data": {
      "text/plain": [
       "array([0., 0., 0., 0., 0., 1., 0., 0., 0., 0.], dtype=float32)"
      ]
     },
     "execution_count": 24,
     "metadata": {},
     "output_type": "execute_result"
    }
   ],
   "source": [
    "y_train_one_hot[0]"
   ]
  },
  {
   "cell_type": "code",
   "execution_count": 26,
   "id": "681d5ff6",
   "metadata": {},
   "outputs": [
    {
     "data": {
      "text/plain": [
       "array([5, 0, 4, ..., 5, 6, 8], dtype=uint8)"
      ]
     },
     "execution_count": 26,
     "metadata": {},
     "output_type": "execute_result"
    }
   ],
   "source": [
    "y_train"
   ]
  },
  {
   "cell_type": "markdown",
   "id": "2082946f",
   "metadata": {},
   "source": [
    "\n",
    "- 신경망에는 2차원인 이미지 데이터를 한번에 넣을 수 가 없기 때문에 데이터의 차원을 1차원으로 변경시켜줘서 넣어야 함 :reshape "
   ]
  },
  {
   "cell_type": "code",
   "execution_count": 30,
   "id": "aaf5ab77",
   "metadata": {
    "scrolled": true
   },
   "outputs": [
    {
     "data": {
      "text/plain": [
       "array([[[0, 0, 0, ..., 0, 0, 0],\n",
       "        [0, 0, 0, ..., 0, 0, 0],\n",
       "        [0, 0, 0, ..., 0, 0, 0],\n",
       "        ...,\n",
       "        [0, 0, 0, ..., 0, 0, 0],\n",
       "        [0, 0, 0, ..., 0, 0, 0],\n",
       "        [0, 0, 0, ..., 0, 0, 0]],\n",
       "\n",
       "       [[0, 0, 0, ..., 0, 0, 0],\n",
       "        [0, 0, 0, ..., 0, 0, 0],\n",
       "        [0, 0, 0, ..., 0, 0, 0],\n",
       "        ...,\n",
       "        [0, 0, 0, ..., 0, 0, 0],\n",
       "        [0, 0, 0, ..., 0, 0, 0],\n",
       "        [0, 0, 0, ..., 0, 0, 0]],\n",
       "\n",
       "       [[0, 0, 0, ..., 0, 0, 0],\n",
       "        [0, 0, 0, ..., 0, 0, 0],\n",
       "        [0, 0, 0, ..., 0, 0, 0],\n",
       "        ...,\n",
       "        [0, 0, 0, ..., 0, 0, 0],\n",
       "        [0, 0, 0, ..., 0, 0, 0],\n",
       "        [0, 0, 0, ..., 0, 0, 0]],\n",
       "\n",
       "       ...,\n",
       "\n",
       "       [[0, 0, 0, ..., 0, 0, 0],\n",
       "        [0, 0, 0, ..., 0, 0, 0],\n",
       "        [0, 0, 0, ..., 0, 0, 0],\n",
       "        ...,\n",
       "        [0, 0, 0, ..., 0, 0, 0],\n",
       "        [0, 0, 0, ..., 0, 0, 0],\n",
       "        [0, 0, 0, ..., 0, 0, 0]],\n",
       "\n",
       "       [[0, 0, 0, ..., 0, 0, 0],\n",
       "        [0, 0, 0, ..., 0, 0, 0],\n",
       "        [0, 0, 0, ..., 0, 0, 0],\n",
       "        ...,\n",
       "        [0, 0, 0, ..., 0, 0, 0],\n",
       "        [0, 0, 0, ..., 0, 0, 0],\n",
       "        [0, 0, 0, ..., 0, 0, 0]],\n",
       "\n",
       "       [[0, 0, 0, ..., 0, 0, 0],\n",
       "        [0, 0, 0, ..., 0, 0, 0],\n",
       "        [0, 0, 0, ..., 0, 0, 0],\n",
       "        ...,\n",
       "        [0, 0, 0, ..., 0, 0, 0],\n",
       "        [0, 0, 0, ..., 0, 0, 0],\n",
       "        [0, 0, 0, ..., 0, 0, 0]]], dtype=uint8)"
      ]
     },
     "execution_count": 30,
     "metadata": {},
     "output_type": "execute_result"
    }
   ],
   "source": [
    "X_train"
   ]
  },
  {
   "cell_type": "code",
   "execution_count": 31,
   "id": "6c473bfb",
   "metadata": {},
   "outputs": [],
   "source": [
    "# -1 : 28*28 자동 계산// 즉 60000을 제외한 나머지값들을 다 곱해서 일렬로 펴줌\n",
    "X_train = X_train.reshape(60000,-1)\n",
    "X_test = X_test.reshape(10000,-1)"
   ]
  },
  {
   "cell_type": "code",
   "execution_count": 33,
   "id": "cc0cfb3a",
   "metadata": {},
   "outputs": [
    {
     "data": {
      "text/plain": [
       "array([  0,   0,   0,   0,   0,   0,   0,   0,   0,   0,   0,   0,   0,\n",
       "         0,   0,   0,   0,   0,   0,   0,   0,   0,   0,   0,   0,   0,\n",
       "         0,   0,   0,   0,   0,   0,   0,   0,   0,   0,   0,   0,   0,\n",
       "         0,   0,   0,   0,   0,   0,   0,   0,   0,   0,   0,   0,   0,\n",
       "         0,   0,   0,   0,   0,   0,   0,   0,   0,   0,   0,   0,   0,\n",
       "         0,   0,   0,   0,   0,   0,   0,   0,   0,   0,   0,   0,   0,\n",
       "         0,   0,   0,   0,   0,   0,   0,   0,   0,   0,   0,   0,   0,\n",
       "         0,   0,   0,   0,   0,   0,   0,   0,   0,   0,   0,   0,   0,\n",
       "         0,   0,   0,   0,   0,   0,   0,   0,   0,   0,   0,   0,   0,\n",
       "         0,   0,   0,   0,   0,   0,   0,   0,   0,   0,   0,   0,   0,\n",
       "         0,   0,   0,   0,   0,   0,   0,   0,   0,   0,   0,   0,   0,\n",
       "         0,   0,   0,   0,   0,   0,   0,   0,   0,   3,  18,  18,  18,\n",
       "       126, 136, 175,  26, 166, 255, 247, 127,   0,   0,   0,   0,   0,\n",
       "         0,   0,   0,   0,   0,   0,   0,  30,  36,  94, 154, 170, 253,\n",
       "       253, 253, 253, 253, 225, 172, 253, 242, 195,  64,   0,   0,   0,\n",
       "         0,   0,   0,   0,   0,   0,   0,   0,  49, 238, 253, 253, 253,\n",
       "       253, 253, 253, 253, 253, 251,  93,  82,  82,  56,  39,   0,   0,\n",
       "         0,   0,   0,   0,   0,   0,   0,   0,   0,   0,  18, 219, 253,\n",
       "       253, 253, 253, 253, 198, 182, 247, 241,   0,   0,   0,   0,   0,\n",
       "         0,   0,   0,   0,   0,   0,   0,   0,   0,   0,   0,   0,   0,\n",
       "        80, 156, 107, 253, 253, 205,  11,   0,  43, 154,   0,   0,   0,\n",
       "         0,   0,   0,   0,   0,   0,   0,   0,   0,   0,   0,   0,   0,\n",
       "         0,   0,   0,  14,   1, 154, 253,  90,   0,   0,   0,   0,   0,\n",
       "         0,   0,   0,   0,   0,   0,   0,   0,   0,   0,   0,   0,   0,\n",
       "         0,   0,   0,   0,   0,   0,   0, 139, 253, 190,   2,   0,   0,\n",
       "         0,   0,   0,   0,   0,   0,   0,   0,   0,   0,   0,   0,   0,\n",
       "         0,   0,   0,   0,   0,   0,   0,   0,   0,  11, 190, 253,  70,\n",
       "         0,   0,   0,   0,   0,   0,   0,   0,   0,   0,   0,   0,   0,\n",
       "         0,   0,   0,   0,   0,   0,   0,   0,   0,   0,   0,   0,  35,\n",
       "       241, 225, 160, 108,   1,   0,   0,   0,   0,   0,   0,   0,   0,\n",
       "         0,   0,   0,   0,   0,   0,   0,   0,   0,   0,   0,   0,   0,\n",
       "         0,   0,  81, 240, 253, 253, 119,  25,   0,   0,   0,   0,   0,\n",
       "         0,   0,   0,   0,   0,   0,   0,   0,   0,   0,   0,   0,   0,\n",
       "         0,   0,   0,   0,   0,  45, 186, 253, 253, 150,  27,   0,   0,\n",
       "         0,   0,   0,   0,   0,   0,   0,   0,   0,   0,   0,   0,   0,\n",
       "         0,   0,   0,   0,   0,   0,   0,   0,  16,  93, 252, 253, 187,\n",
       "         0,   0,   0,   0,   0,   0,   0,   0,   0,   0,   0,   0,   0,\n",
       "         0,   0,   0,   0,   0,   0,   0,   0,   0,   0,   0,   0, 249,\n",
       "       253, 249,  64,   0,   0,   0,   0,   0,   0,   0,   0,   0,   0,\n",
       "         0,   0,   0,   0,   0,   0,   0,   0,   0,   0,   0,  46, 130,\n",
       "       183, 253, 253, 207,   2,   0,   0,   0,   0,   0,   0,   0,   0,\n",
       "         0,   0,   0,   0,   0,   0,   0,   0,   0,   0,   0,  39, 148,\n",
       "       229, 253, 253, 253, 250, 182,   0,   0,   0,   0,   0,   0,   0,\n",
       "         0,   0,   0,   0,   0,   0,   0,   0,   0,   0,   0,  24, 114,\n",
       "       221, 253, 253, 253, 253, 201,  78,   0,   0,   0,   0,   0,   0,\n",
       "         0,   0,   0,   0,   0,   0,   0,   0,   0,   0,   0,  23,  66,\n",
       "       213, 253, 253, 253, 253, 198,  81,   2,   0,   0,   0,   0,   0,\n",
       "         0,   0,   0,   0,   0,   0,   0,   0,   0,   0,   0,  18, 171,\n",
       "       219, 253, 253, 253, 253, 195,  80,   9,   0,   0,   0,   0,   0,\n",
       "         0,   0,   0,   0,   0,   0,   0,   0,   0,   0,   0,  55, 172,\n",
       "       226, 253, 253, 253, 253, 244, 133,  11,   0,   0,   0,   0,   0,\n",
       "         0,   0,   0,   0,   0,   0,   0,   0,   0,   0,   0,   0,   0,\n",
       "       136, 253, 253, 253, 212, 135, 132,  16,   0,   0,   0,   0,   0,\n",
       "         0,   0,   0,   0,   0,   0,   0,   0,   0,   0,   0,   0,   0,\n",
       "         0,   0,   0,   0,   0,   0,   0,   0,   0,   0,   0,   0,   0,\n",
       "         0,   0,   0,   0,   0,   0,   0,   0,   0,   0,   0,   0,   0,\n",
       "         0,   0,   0,   0,   0,   0,   0,   0,   0,   0,   0,   0,   0,\n",
       "         0,   0,   0,   0,   0,   0,   0,   0,   0,   0,   0,   0,   0,\n",
       "         0,   0,   0,   0,   0,   0,   0,   0,   0,   0,   0,   0,   0,\n",
       "         0,   0,   0,   0,   0,   0,   0,   0,   0,   0,   0,   0,   0,\n",
       "         0,   0,   0,   0], dtype=uint8)"
      ]
     },
     "execution_count": 33,
     "metadata": {},
     "output_type": "execute_result"
    }
   ],
   "source": [
    "X_train[0]"
   ]
  },
  {
   "cell_type": "code",
   "execution_count": 15,
   "id": "d1e342c7",
   "metadata": {},
   "outputs": [
    {
     "data": {
      "text/plain": [
       "((60000, 784), (10000, 784))"
      ]
     },
     "execution_count": 15,
     "metadata": {},
     "output_type": "execute_result"
    }
   ],
   "source": [
    "X_train.shape, X_test.shape"
   ]
  },
  {
   "cell_type": "markdown",
   "id": "97705e8d",
   "metadata": {},
   "source": [
    "#  신경망 구조를 직접 설계해보자!"
   ]
  },
  {
   "cell_type": "code",
   "execution_count": 16,
   "id": "07408dae",
   "metadata": {},
   "outputs": [],
   "source": [
    "from tensorflow.keras import Sequential\n",
    "from tensorflow.keras.layers import Dense"
   ]
  },
  {
   "cell_type": "code",
   "execution_count": 17,
   "id": "9761b1a5",
   "metadata": {},
   "outputs": [],
   "source": [
    "# 1. 신경망 구조 설계\n",
    "# 출력층의 뉴런 개수 / 출력층의 활성화 함수 종류"
   ]
  },
  {
   "cell_type": "markdown",
   "id": "39e6571f",
   "metadata": {},
   "source": [
    "### 신경망 구조 설계"
   ]
  },
  {
   "cell_type": "code",
   "execution_count": 36,
   "id": "34512548",
   "metadata": {},
   "outputs": [
    {
     "name": "stdout",
     "output_type": "stream",
     "text": [
      "Model: \"sequential_1\"\n",
      "_________________________________________________________________\n",
      "Layer (type)                 Output Shape              Param #   \n",
      "=================================================================\n",
      "dense_3 (Dense)              (None, 800)               628000    \n",
      "_________________________________________________________________\n",
      "dense_4 (Dense)              (None, 800)               640800    \n",
      "_________________________________________________________________\n",
      "dense_5 (Dense)              (None, 10)                8010      \n",
      "=================================================================\n",
      "Total params: 1,276,810\n",
      "Trainable params: 1,276,810\n",
      "Non-trainable params: 0\n",
      "_________________________________________________________________\n"
     ]
    }
   ],
   "source": [
    "#1. 신경망 구조 설계\n",
    "model = Sequential()\n",
    "\n",
    "# 입력층(input_dim) + 중간층(Dense)\n",
    "# 첫 입력층(데이터의 특성 개수) input_dim(17) , 10(다음 층 뉴런 10개)\n",
    "# activation : 활성화함수를 설정(들어온 자극(데이터)에 대한 응답여부를 결정하는 함수)\n",
    "\n",
    "model.add(Dense(800, input_dim=784, activation=\"sigmoid\"))\n",
    "\n",
    "# 중간층\n",
    "model.add(Dense(800, activation=\"sigmoid\")) # 하나의 층\n",
    "\n",
    "# 출력층\n",
    "# 출력층은 회귀(활성화함수x), 2진분류(sigmoid), 다중분류에 따라서 사용하는 함수가 달라짐\n",
    "# 출력층 뉴런개수 : 정답데이터를 원핫인코딩한 데이터 개수\n",
    "model.add(Dense(10, activation=\"softmax\")) \n",
    "\n",
    "model.summary()"
   ]
  },
  {
   "cell_type": "code",
   "execution_count": 37,
   "id": "0df033cf",
   "metadata": {},
   "outputs": [],
   "source": [
    "# 2. 학습/평가 방법 설정\n",
    "# loss값 categorical_crossentropy로 설정"
   ]
  },
  {
   "cell_type": "markdown",
   "id": "6b0d22c5",
   "metadata": {},
   "source": [
    "### 신경망 학습/평가 방법 설정"
   ]
  },
  {
   "cell_type": "code",
   "execution_count": 38,
   "id": "71f6357a",
   "metadata": {},
   "outputs": [],
   "source": [
    "# 2. 학습 / 평가 방법 설정\n",
    "# binary_crossentropy : 2진분류에 사용하는 손실함수(비용함수)\n",
    "# categorical_crossentropy : 다중분류에 사용하는 손실함수\n",
    "# -> 오차의 평균을 구하는것은 mse와 같지만 0~1사이 값으로 변환 후 평균오차를 구함\n",
    "# \n",
    "model.compile(loss=\"categorical_crossentropy\",  \n",
    "              optimizer = \"Adam\",   # 최적화 함수 : 확률적경사하강법 사용  // SGD도 이외에도 Adam도 있음 \n",
    "              metrics=[\"acc\"]       # metrics : 평가방법을 설정 (정확도 체크)\n",
    "                                    # 분류 문제이기 때문에 정확도를 확인\n",
    "             )\n",
    "\n",
    "# 회귀는 오차만 확인하면 되지만 분류는 정확도까지 확인해줘야 함!!!!!"
   ]
  },
  {
   "cell_type": "markdown",
   "id": "077c97bc",
   "metadata": {},
   "source": [
    "###  학습 및 학습과정 "
   ]
  },
  {
   "cell_type": "code",
   "execution_count": 41,
   "id": "d6b2fcc5",
   "metadata": {},
   "outputs": [
    {
     "name": "stdout",
     "output_type": "stream",
     "text": [
      "Train on 60000 samples\n",
      "Epoch 1/100\n",
      "60000/60000 [==============================] - 4s 63us/sample - loss: 0.0562 - acc: 0.9811\n",
      "Epoch 2/100\n",
      "60000/60000 [==============================] - 4s 64us/sample - loss: 0.0589 - acc: 0.9808\n",
      "Epoch 3/100\n",
      "60000/60000 [==============================] - 4s 63us/sample - loss: 0.0564 - acc: 0.9821\n",
      "Epoch 4/100\n",
      "60000/60000 [==============================] - 4s 64us/sample - loss: 0.0615 - acc: 0.9795\n",
      "Epoch 5/100\n",
      "60000/60000 [==============================] - 4s 63us/sample - loss: 0.0555 - acc: 0.9821\n",
      "Epoch 6/100\n",
      "60000/60000 [==============================] - 4s 62us/sample - loss: 0.0549 - acc: 0.9826\n",
      "Epoch 7/100\n",
      "60000/60000 [==============================] - 4s 63us/sample - loss: 0.0555 - acc: 0.9817\n",
      "Epoch 8/100\n",
      "60000/60000 [==============================] - 4s 62us/sample - loss: 0.0569 - acc: 0.9818\n",
      "Epoch 9/100\n",
      "60000/60000 [==============================] - 4s 64us/sample - loss: 0.0609 - acc: 0.98071s - los - ETA: 0s - loss: 0.0603 -\n",
      "Epoch 10/100\n",
      "60000/60000 [==============================] - 4s 64us/sample - loss: 0.0593 - acc: 0.9811\n",
      "Epoch 11/100\n",
      "60000/60000 [==============================] - 4s 63us/sample - loss: 0.0582 - acc: 0.9815\n",
      "Epoch 12/100\n",
      "60000/60000 [==============================] - 4s 61us/sample - loss: 0.0591 - acc: 0.9811\n",
      "Epoch 13/100\n",
      "60000/60000 [==============================] - 4s 64us/sample - loss: 0.0576 - acc: 0.9814\n",
      "Epoch 14/100\n",
      "60000/60000 [==============================] - 4s 62us/sample - loss: 0.0579 - acc: 0.9811\n",
      "Epoch 15/100\n",
      "60000/60000 [==============================] - 4s 64us/sample - loss: 0.0625 - acc: 0.9805\n",
      "Epoch 16/100\n",
      "60000/60000 [==============================] - 4s 63us/sample - loss: 0.0605 - acc: 0.98011s \n",
      "Epoch 17/100\n",
      "60000/60000 [==============================] - 4s 63us/sample - loss: 0.0591 - acc: 0.9809\n",
      "Epoch 18/100\n",
      "60000/60000 [==============================] - 4s 62us/sample - loss: 0.0574 - acc: 0.9825\n",
      "Epoch 19/100\n",
      "60000/60000 [==============================] - 4s 63us/sample - loss: 0.0560 - acc: 0.9821\n",
      "Epoch 20/100\n",
      "60000/60000 [==============================] - 4s 64us/sample - loss: 0.0571 - acc: 0.9822\n",
      "Epoch 21/100\n",
      "60000/60000 [==============================] - 4s 60us/sample - loss: 0.0585 - acc: 0.9813\n",
      "Epoch 22/100\n",
      "60000/60000 [==============================] - 4s 60us/sample - loss: 0.0593 - acc: 0.9814\n",
      "Epoch 23/100\n",
      "60000/60000 [==============================] - 4s 62us/sample - loss: 0.0585 - acc: 0.9818\n",
      "Epoch 24/100\n",
      "60000/60000 [==============================] - 4s 62us/sample - loss: 0.0580 - acc: 0.9816\n",
      "Epoch 25/100\n",
      "60000/60000 [==============================] - 3s 56us/sample - loss: 0.0582 - acc: 0.9812\n",
      "Epoch 26/100\n",
      "60000/60000 [==============================] - 4s 63us/sample - loss: 0.0571 - acc: 0.9818\n",
      "Epoch 27/100\n",
      "60000/60000 [==============================] - 4s 64us/sample - loss: 0.0594 - acc: 0.9812\n",
      "Epoch 28/100\n",
      "60000/60000 [==============================] - 4s 65us/sample - loss: 0.0587 - acc: 0.9805\n",
      "Epoch 29/100\n",
      "60000/60000 [==============================] - 4s 63us/sample - loss: 0.0557 - acc: 0.9819\n",
      "Epoch 30/100\n",
      "60000/60000 [==============================] - 4s 64us/sample - loss: 0.0554 - acc: 0.9820\n",
      "Epoch 31/100\n",
      "60000/60000 [==============================] - 4s 62us/sample - loss: 0.0573 - acc: 0.9825\n",
      "Epoch 32/100\n",
      "60000/60000 [==============================] - 4s 64us/sample - loss: 0.0548 - acc: 0.9829\n",
      "Epoch 33/100\n",
      "60000/60000 [==============================] - 4s 62us/sample - loss: 0.0569 - acc: 0.9815\n",
      "Epoch 34/100\n",
      "60000/60000 [==============================] - 4s 61us/sample - loss: 0.0557 - acc: 0.9820\n",
      "Epoch 35/100\n",
      "60000/60000 [==============================] - 4s 62us/sample - loss: 0.0528 - acc: 0.9829\n",
      "Epoch 36/100\n",
      "60000/60000 [==============================] - 4s 63us/sample - loss: 0.0521 - acc: 0.9824\n",
      "Epoch 37/100\n",
      "60000/60000 [==============================] - 4s 64us/sample - loss: 0.0564 - acc: 0.9823\n",
      "Epoch 38/100\n",
      "60000/60000 [==============================] - 4s 63us/sample - loss: 0.0547 - acc: 0.9825\n",
      "Epoch 39/100\n",
      "60000/60000 [==============================] - 4s 63us/sample - loss: 0.0554 - acc: 0.9821\n",
      "Epoch 40/100\n",
      "60000/60000 [==============================] - 4s 63us/sample - loss: 0.0576 - acc: 0.9818\n",
      "Epoch 41/100\n",
      "60000/60000 [==============================] - 4s 63us/sample - loss: 0.0574 - acc: 0.9817\n",
      "Epoch 42/100\n",
      "60000/60000 [==============================] - 4s 62us/sample - loss: 0.0556 - acc: 0.9826\n",
      "Epoch 43/100\n",
      "60000/60000 [==============================] - 4s 62us/sample - loss: 0.0520 - acc: 0.9833\n",
      "Epoch 44/100\n",
      "60000/60000 [==============================] - 4s 62us/sample - loss: 0.0510 - acc: 0.9835\n",
      "Epoch 45/100\n",
      "60000/60000 [==============================] - 4s 62us/sample - loss: 0.0528 - acc: 0.9831\n",
      "Epoch 46/100\n",
      "60000/60000 [==============================] - 4s 62us/sample - loss: 0.0518 - acc: 0.9836\n",
      "Epoch 47/100\n",
      "60000/60000 [==============================] - 4s 62us/sample - loss: 0.0572 - acc: 0.9820\n",
      "Epoch 48/100\n",
      "60000/60000 [==============================] - 4s 62us/sample - loss: 0.0563 - acc: 0.9817\n",
      "Epoch 49/100\n",
      "60000/60000 [==============================] - 4s 62us/sample - loss: 0.0525 - acc: 0.9829\n",
      "Epoch 50/100\n",
      "60000/60000 [==============================] - 4s 63us/sample - loss: 0.0527 - acc: 0.9830\n",
      "Epoch 51/100\n",
      "60000/60000 [==============================] - 4s 62us/sample - loss: 0.0530 - acc: 0.9826\n",
      "Epoch 52/100\n",
      "60000/60000 [==============================] - 4s 63us/sample - loss: 0.0519 - acc: 0.9833\n",
      "Epoch 53/100\n",
      "60000/60000 [==============================] - 4s 61us/sample - loss: 0.0541 - acc: 0.9832\n",
      "Epoch 54/100\n",
      "60000/60000 [==============================] - 4s 64us/sample - loss: 0.0512 - acc: 0.9834\n",
      "Epoch 55/100\n",
      "60000/60000 [==============================] - 3s 49us/sample - loss: 0.0511 - acc: 0.9833\n",
      "Epoch 56/100\n",
      "60000/60000 [==============================] - 3s 49us/sample - loss: 0.0517 - acc: 0.9835\n",
      "Epoch 57/100\n",
      "60000/60000 [==============================] - 3s 52us/sample - loss: 0.0555 - acc: 0.9826\n",
      "Epoch 58/100\n",
      "60000/60000 [==============================] - 3s 46us/sample - loss: 0.0525 - acc: 0.9831\n",
      "Epoch 59/100\n",
      "60000/60000 [==============================] - 3s 47us/sample - loss: 0.0514 - acc: 0.9836\n",
      "Epoch 60/100\n",
      "60000/60000 [==============================] - 3s 47us/sample - loss: 0.0545 - acc: 0.9828\n",
      "Epoch 61/100\n",
      "60000/60000 [==============================] - 3s 48us/sample - loss: 0.0505 - acc: 0.9833\n",
      "Epoch 62/100\n",
      "60000/60000 [==============================] - 3s 48us/sample - loss: 0.0503 - acc: 0.9836\n",
      "Epoch 63/100\n",
      "60000/60000 [==============================] - 3s 49us/sample - loss: 0.0533 - acc: 0.9838\n",
      "Epoch 64/100\n",
      "60000/60000 [==============================] - 3s 46us/sample - loss: 0.0559 - acc: 0.9824\n",
      "Epoch 65/100\n",
      "60000/60000 [==============================] - 3s 46us/sample - loss: 0.0565 - acc: 0.9819\n",
      "Epoch 66/100\n",
      "60000/60000 [==============================] - 3s 49us/sample - loss: 0.0526 - acc: 0.9839\n",
      "Epoch 67/100\n",
      "60000/60000 [==============================] - 3s 49us/sample - loss: 0.0537 - acc: 0.9830\n",
      "Epoch 68/100\n",
      "60000/60000 [==============================] - 3s 48us/sample - loss: 0.0561 - acc: 0.9819\n",
      "Epoch 69/100\n",
      "60000/60000 [==============================] - 3s 48us/sample - loss: 0.0571 - acc: 0.9820\n",
      "Epoch 70/100\n",
      "60000/60000 [==============================] - 3s 48us/sample - loss: 0.0544 - acc: 0.9826\n",
      "Epoch 71/100\n",
      "60000/60000 [==============================] - 3s 46us/sample - loss: 0.0567 - acc: 0.9826\n",
      "Epoch 72/100\n",
      "60000/60000 [==============================] - 3s 51us/sample - loss: 0.0537 - acc: 0.9827\n",
      "Epoch 73/100\n",
      "60000/60000 [==============================] - 3s 49us/sample - loss: 0.0553 - acc: 0.9824\n",
      "Epoch 74/100\n",
      "60000/60000 [==============================] - 3s 48us/sample - loss: 0.0538 - acc: 0.9832\n",
      "Epoch 75/100\n",
      "60000/60000 [==============================] - 3s 45us/sample - loss: 0.0545 - acc: 0.9821\n",
      "Epoch 76/100\n",
      "60000/60000 [==============================] - 3s 47us/sample - loss: 0.0530 - acc: 0.9829\n",
      "Epoch 77/100\n",
      "60000/60000 [==============================] - 3s 49us/sample - loss: 0.0523 - acc: 0.9827\n",
      "Epoch 78/100\n",
      "60000/60000 [==============================] - 3s 48us/sample - loss: 0.0533 - acc: 0.9836\n",
      "Epoch 79/100\n",
      "60000/60000 [==============================] - 3s 45us/sample - loss: 0.0493 - acc: 0.9844\n",
      "Epoch 80/100\n",
      "60000/60000 [==============================] - 3s 52us/sample - loss: 0.0511 - acc: 0.9834\n",
      "Epoch 81/100\n",
      "60000/60000 [==============================] - 3s 46us/sample - loss: 0.0516 - acc: 0.9842\n",
      "Epoch 82/100\n",
      "60000/60000 [==============================] - 3s 46us/sample - loss: 0.0535 - acc: 0.9831\n",
      "Epoch 83/100\n",
      "60000/60000 [==============================] - 3s 46us/sample - loss: 0.0547 - acc: 0.9830\n",
      "Epoch 84/100\n",
      "60000/60000 [==============================] - 3s 46us/sample - loss: 0.0479 - acc: 0.9844\n",
      "Epoch 85/100\n",
      "60000/60000 [==============================] - 3s 48us/sample - loss: 0.0517 - acc: 0.9832\n",
      "Epoch 86/100\n",
      "60000/60000 [==============================] - 3s 48us/sample - loss: 0.0488 - acc: 0.9843\n",
      "Epoch 87/100\n",
      "60000/60000 [==============================] - 3s 49us/sample - loss: 0.0485 - acc: 0.9840\n",
      "Epoch 88/100\n",
      "60000/60000 [==============================] - 3s 47us/sample - loss: 0.0477 - acc: 0.9847\n",
      "Epoch 89/100\n",
      "60000/60000 [==============================] - 3s 47us/sample - loss: 0.0500 - acc: 0.9844\n",
      "Epoch 90/100\n",
      "60000/60000 [==============================] - 3s 50us/sample - loss: 0.0478 - acc: 0.9848\n",
      "Epoch 91/100\n",
      "60000/60000 [==============================] - 3s 48us/sample - loss: 0.0520 - acc: 0.9833\n",
      "Epoch 92/100\n",
      "60000/60000 [==============================] - 3s 48us/sample - loss: 0.0515 - acc: 0.9838\n",
      "Epoch 93/100\n",
      "60000/60000 [==============================] - 3s 45us/sample - loss: 0.0500 - acc: 0.9833\n",
      "Epoch 94/100\n",
      "60000/60000 [==============================] - 3s 49us/sample - loss: 0.0492 - acc: 0.9846\n",
      "Epoch 95/100\n",
      "60000/60000 [==============================] - 3s 50us/sample - loss: 0.0478 - acc: 0.9845\n",
      "Epoch 96/100\n",
      "60000/60000 [==============================] - 3s 46us/sample - loss: 0.0476 - acc: 0.9850\n",
      "Epoch 97/100\n",
      "60000/60000 [==============================] - 3s 51us/sample - loss: 0.0526 - acc: 0.9833\n",
      "Epoch 98/100\n",
      "60000/60000 [==============================] - 3s 47us/sample - loss: 0.0491 - acc: 0.9840\n",
      "Epoch 99/100\n",
      "60000/60000 [==============================] - 3s 47us/sample - loss: 0.0535 - acc: 0.9829\n",
      "Epoch 100/100\n",
      "60000/60000 [==============================] - 3s 46us/sample - loss: 0.0512 - acc: 0.9833\n"
     ]
    }
   ],
   "source": [
    "h = model.fit(X_train,y_train_one_hot,\n",
    "              epochs=100,  # epochs : 학습 횟수를 설정\n",
    "              verbose = 1) \n",
    "# verbose : 학습 결과의 출력 형태를 설정하는 명령(0: 출력x, 1:bar형태(디폴트, 2 : ))"
   ]
  },
  {
   "cell_type": "code",
   "execution_count": 46,
   "id": "c8a6f763",
   "metadata": {},
   "outputs": [
    {
     "data": {
      "image/png": "[encoded data removed]",
      "text/plain": [
       "<Figure size 1080x360 with 1 Axes>"
      ]
     },
     "metadata": {
      "needs_background": "light"
     },
     "output_type": "display_data"
    }
   ],
   "source": [
    "plt.figure(figsize=(15,5))\n",
    "plt.plot(range(1,101),\n",
    "        h.history['acc'],\n",
    "        label = 'acc'\n",
    "        )\n",
    "plt.legend()\n",
    "plt.show()"
   ]
  },
  {
   "cell_type": "markdown",
   "id": "20cf729b",
   "metadata": {},
   "source": [
    "#### 과대적합을 확인하기 위해 train데이터에서 검증셋을 분리해서 학습시 같이 출력시켜보자!"
   ]
  },
  {
   "cell_type": "code",
   "execution_count": 50,
   "id": "e7d3088e",
   "metadata": {},
   "outputs": [],
   "source": [
    "# 무조건 train, test, 셋만 나눠주는게 아니라 데이터를 일정 비율로 나누어주는 명령\n",
    "from sklearn.model_selection import train_test_split"
   ]
  },
  {
   "cell_type": "code",
   "execution_count": 52,
   "id": "4b591ff6",
   "metadata": {},
   "outputs": [],
   "source": [
    "X_train, X_val, y_train_one_hot, y_val_one_hot = train_test_split(X_train,\n",
    "                                                                 y_train_one_hot,\n",
    "                                                                 random_state=3)"
   ]
  },
  {
   "cell_type": "code",
   "execution_count": 54,
   "id": "0b52a5af",
   "metadata": {},
   "outputs": [
    {
     "name": "stdout",
     "output_type": "stream",
     "text": [
      "(45000, 784)\n",
      "(15000, 784)\n",
      "(45000, 10)\n",
      "(15000, 10)\n"
     ]
    }
   ],
   "source": [
    "print(X_train.shape)\n",
    "print(X_val.shape)                   # 검증용 문제\n",
    "print(y_train_one_hot.shape)\n",
    "print(y_val_one_hot.shape)           # 검증용 정답"
   ]
  },
  {
   "cell_type": "code",
   "execution_count": 55,
   "id": "b14739d2",
   "metadata": {},
   "outputs": [
    {
     "name": "stdout",
     "output_type": "stream",
     "text": [
      "Model: \"sequential_2\"\n",
      "_________________________________________________________________\n",
      "Layer (type)                 Output Shape              Param #   \n",
      "=================================================================\n",
      "dense_6 (Dense)              (None, 800)               628000    \n",
      "_________________________________________________________________\n",
      "dense_7 (Dense)              (None, 800)               640800    \n",
      "_________________________________________________________________\n",
      "dense_8 (Dense)              (None, 10)                8010      \n",
      "=================================================================\n",
      "Total params: 1,276,810\n",
      "Trainable params: 1,276,810\n",
      "Non-trainable params: 0\n",
      "_________________________________________________________________\n"
     ]
    }
   ],
   "source": [
    "#1. 신경망 구조 설계\n",
    "model1 = Sequential()\n",
    "\n",
    "# 입력층(input_dim) + 중간층(Dense)\n",
    "# 첫 입력층(데이터의 특성 개수) input_dim(17) , 10(다음 층 뉴런 10개)\n",
    "# activation : 활성화함수를 설정(들어온 자극(데이터)에 대한 응답여부를 결정하는 함수)\n",
    "\n",
    "model1.add(Dense(800, input_dim=784, activation=\"sigmoid\"))\n",
    "\n",
    "# 중간층\n",
    "model1.add(Dense(800, activation=\"sigmoid\")) # 하나의 층\n",
    "\n",
    "# 출력층\n",
    "# 출력층은 회귀(활성화함수x), 2진분류(sigmoid), 다중분류에 따라서 사용하는 함수가 달라짐\n",
    "# 출력층 뉴런개수 : 정답데이터를 원핫인코딩한 데이터 개수\n",
    "model1.add(Dense(10, activation=\"softmax\")) \n",
    "\n",
    "model1.summary()"
   ]
  },
  {
   "cell_type": "code",
   "execution_count": 63,
   "id": "9e31665a",
   "metadata": {},
   "outputs": [],
   "source": [
    "# 2. 학습 / 평가 방법 설정\n",
    "# binary_crossentropy : 2진분류에 사용하는 손실함수(비용함수)\n",
    "# categorical_crossentropy : 다중분류에 사용하는 손실함수\n",
    "# -> 오차의 평균을 구하는것은 mse와 같지만 0~1사이 값으로 변환 후 평균오차를 구함\n",
    "# \n",
    "model1.compile(loss=\"categorical_crossentropy\",  \n",
    "              optimizer = \"Adam\",   # 최적화 함수 : 확률적경사하강법 사용  // SGD도 이외에도 Adam도 있음 \n",
    "              metrics=[\"acc\"]       # metrics : 평가방법을 설정 (정확도 체크)\n",
    "                                    # 분류 문제이기 때문에 정확도를 확인\n",
    "             )\n",
    "\n",
    "# 회귀는 오차만 확인하면 되지만 분류는 정확도까지 확인해줘야 함!!!!!"
   ]
  },
  {
   "cell_type": "code",
   "execution_count": 64,
   "id": "c588d5f5",
   "metadata": {
    "scrolled": true
   },
   "outputs": [
    {
     "name": "stdout",
     "output_type": "stream",
     "text": [
      "Train on 45000 samples, validate on 15000 samples\n",
      "Epoch 1/30\n",
      "45000/45000 [==============================] - 3s 77us/sample - loss: 0.4175 - acc: 0.8737 - val_loss: 0.3453 - val_acc: 0.8924\n",
      "Epoch 2/30\n",
      "45000/45000 [==============================] - 3s 69us/sample - loss: 0.3078 - acc: 0.9028 - val_loss: 0.2728 - val_acc: 0.9156\n",
      "Epoch 3/30\n",
      "45000/45000 [==============================] - 3s 69us/sample - loss: 0.2641 - acc: 0.9168 - val_loss: 0.2900 - val_acc: 0.9109\n",
      "Epoch 4/30\n",
      "45000/45000 [==============================] - 3s 69us/sample - loss: 0.2317 - acc: 0.9278 - val_loss: 0.2158 - val_acc: 0.9329\n",
      "Epoch 5/30\n",
      "45000/45000 [==============================] - 3s 70us/sample - loss: 0.2127 - acc: 0.9342 - val_loss: 0.2112 - val_acc: 0.9323\n",
      "Epoch 6/30\n",
      "45000/45000 [==============================] - 3s 69us/sample - loss: 0.2000 - acc: 0.9372 - val_loss: 0.2382 - val_acc: 0.9282\n",
      "Epoch 7/30\n",
      "45000/45000 [==============================] - 3s 70us/sample - loss: 0.1819 - acc: 0.9423 - val_loss: 0.1882 - val_acc: 0.9405\n",
      "Epoch 8/30\n",
      "45000/45000 [==============================] - 3s 68us/sample - loss: 0.1654 - acc: 0.9469 - val_loss: 0.1958 - val_acc: 0.9423\n",
      "Epoch 9/30\n",
      "45000/45000 [==============================] - 3s 68us/sample - loss: 0.1613 - acc: 0.9495 - val_loss: 0.1819 - val_acc: 0.9438\n",
      "Epoch 10/30\n",
      "45000/45000 [==============================] - 3s 69us/sample - loss: 0.1549 - acc: 0.9506 - val_loss: 0.1896 - val_acc: 0.9427\n",
      "Epoch 11/30\n",
      "45000/45000 [==============================] - 3s 71us/sample - loss: 0.1443 - acc: 0.9541 - val_loss: 0.1580 - val_acc: 0.9509\n",
      "Epoch 12/30\n",
      "45000/45000 [==============================] - 3s 71us/sample - loss: 0.1387 - acc: 0.9562 - val_loss: 0.1543 - val_acc: 0.9520\n",
      "Epoch 13/30\n",
      "45000/45000 [==============================] - 3s 71us/sample - loss: 0.1350 - acc: 0.9571 - val_loss: 0.1487 - val_acc: 0.9537\n",
      "Epoch 14/30\n",
      "45000/45000 [==============================] - 3s 70us/sample - loss: 0.1297 - acc: 0.9589 - val_loss: 0.1472 - val_acc: 0.9551\n",
      "Epoch 15/30\n",
      "45000/45000 [==============================] - 3s 69us/sample - loss: 0.1270 - acc: 0.9599 - val_loss: 0.1341 - val_acc: 0.9571\n",
      "Epoch 16/30\n",
      "45000/45000 [==============================] - 3s 74us/sample - loss: 0.1218 - acc: 0.9608 - val_loss: 0.1419 - val_acc: 0.9562\n",
      "Epoch 17/30\n",
      "45000/45000 [==============================] - 3s 69us/sample - loss: 0.1222 - acc: 0.9597 - val_loss: 0.1384 - val_acc: 0.9566\n",
      "Epoch 18/30\n",
      "45000/45000 [==============================] - 3s 71us/sample - loss: 0.1143 - acc: 0.9629 - val_loss: 0.1293 - val_acc: 0.9598\n",
      "Epoch 19/30\n",
      "45000/45000 [==============================] - 3s 72us/sample - loss: 0.1097 - acc: 0.9637 - val_loss: 0.1351 - val_acc: 0.9569\n",
      "Epoch 20/30\n",
      "45000/45000 [==============================] - 3s 70us/sample - loss: 0.1058 - acc: 0.9656 - val_loss: 0.1309 - val_acc: 0.9601\n",
      "Epoch 21/30\n",
      "45000/45000 [==============================] - 3s 70us/sample - loss: 0.1021 - acc: 0.9668 - val_loss: 0.1240 - val_acc: 0.9616\n",
      "Epoch 22/30\n",
      "45000/45000 [==============================] - 3s 69us/sample - loss: 0.0999 - acc: 0.9668 - val_loss: 0.1341 - val_acc: 0.9574\n",
      "Epoch 23/30\n",
      "45000/45000 [==============================] - 3s 78us/sample - loss: 0.0972 - acc: 0.9681 - val_loss: 0.1327 - val_acc: 0.9583\n",
      "Epoch 24/30\n",
      "45000/45000 [==============================] - 3s 75us/sample - loss: 0.0957 - acc: 0.9684 - val_loss: 0.1200 - val_acc: 0.9629\n",
      "Epoch 25/30\n",
      "45000/45000 [==============================] - 3s 77us/sample - loss: 0.0932 - acc: 0.9695 - val_loss: 0.1615 - val_acc: 0.9508\n",
      "Epoch 26/30\n",
      "45000/45000 [==============================] - 3s 70us/sample - loss: 0.0921 - acc: 0.9689 - val_loss: 0.1250 - val_acc: 0.9615\n",
      "Epoch 27/30\n",
      "45000/45000 [==============================] - 3s 69us/sample - loss: 0.0906 - acc: 0.9702 - val_loss: 0.1198 - val_acc: 0.9639\n",
      "Epoch 28/30\n",
      "45000/45000 [==============================] - 3s 68us/sample - loss: 0.0883 - acc: 0.9706 - val_loss: 0.1216 - val_acc: 0.9641\n",
      "Epoch 29/30\n",
      "45000/45000 [==============================] - 3s 69us/sample - loss: 0.0862 - acc: 0.9723 - val_loss: 0.1192 - val_acc: 0.9638\n",
      "Epoch 30/30\n",
      "45000/45000 [==============================] - 3s 72us/sample - loss: 0.0901 - acc: 0.9707 - val_loss: 0.1157 - val_acc: 0.9665\n"
     ]
    }
   ],
   "source": [
    "h1 = model1.fit(X_train,y_train_one_hot,\n",
    "              epochs=30,  # epochs : 학습 횟수를 설정\n",
    "              validation_data = (X_val, y_val_one_hot)) # 검증용 데이터셋을 추가해주는 명령\n",
    "# verbose : 학습 결과의 출력 형태를 설정하는 명령(0: 출력x, 1:bar형태(디폴트, 2 : ))"
   ]
  },
  {
   "cell_type": "code",
   "execution_count": 65,
   "id": "5d235f64",
   "metadata": {},
   "outputs": [
    {
     "data": {
      "image/png": "[encoded data removed]",
      "text/plain": [
       "<Figure size 1080x360 with 1 Axes>"
      ]
     },
     "metadata": {
      "needs_background": "light"
     },
     "output_type": "display_data"
    }
   ],
   "source": [
    "plt.figure(figsize=(15,5))\n",
    "\n",
    "plt.plot(range(1,31),\n",
    "        h1.history['acc'],\n",
    "        label = 'acc'\n",
    "        )\n",
    "\n",
    "plt.plot(range(1,31),\n",
    "        h1.history['val_acc'],\n",
    "        label = 'val_acc'\n",
    "        )\n",
    "plt.legend()\n",
    "plt.show()"
   ]
  },
  {
   "cell_type": "markdown",
   "id": "ed922a35",
   "metadata": {},
   "source": [
    "### 모델평가 "
   ]
  },
  {
   "cell_type": "code",
   "execution_count": 66,
   "id": "cc666642",
   "metadata": {},
   "outputs": [
    {
     "name": "stdout",
     "output_type": "stream",
     "text": [
      "10000/10000 [==============================] - 0s 38us/sample - loss: 0.1095 - acc: 0.9668\n"
     ]
    },
    {
     "data": {
      "text/plain": [
       "[0.10952503152862192, 0.9668]"
      ]
     },
     "execution_count": 66,
     "metadata": {},
     "output_type": "execute_result"
    }
   ],
   "source": [
    "model1.evaluate(X_test,y_test_one_hot)"
   ]
  },
  {
   "cell_type": "code",
   "execution_count": null,
   "id": "266b7be0",
   "metadata": {},
   "outputs": [],
   "source": []
  }
 ],
 "metadata": {
  "kernelspec": {
   "display_name": "Python 3",
   "language": "python",
   "name": "python3"
  },
  "language_info": {
   "codemirror_mode": {
    "name": "ipython",
    "version": 3
   },
   "file_extension": ".py",
   "mimetype": "text/x-python",
   "name": "python",
   "nbconvert_exporter": "python",
   "pygments_lexer": "ipython3",
   "version": "3.6.13"
  },
  "toc": {
   "base_numbering": 1,
   "nav_menu": {},
   "number_sections": true,
   "sideBar": true,
   "skip_h1_title": false,
   "title_cell": "Table of Contents",
   "title_sidebar": "Contents",
   "toc_cell": false,
   "toc_position": {},
   "toc_section_display": true,
   "toc_window_display": false
  }
 },
 "nbformat": 4,
 "nbformat_minor": 5
}
